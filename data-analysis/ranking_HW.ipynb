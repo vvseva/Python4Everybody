{
  "nbformat": 4,
  "nbformat_minor": 0,
  "metadata": {
    "colab": {
      "name": "ranking HW.ipynb",
      "provenance": [],
      "collapsed_sections": [
        "g62ZtFMMHWYT"
      ],
      "toc_visible": true
    },
    "kernelspec": {
      "name": "python3",
      "display_name": "Python 3"
    },
    "language_info": {
      "name": "python"
    }
  },
  "cells": [
    {
      "cell_type": "markdown",
      "metadata": {
        "id": "AaUMtXCfwb0s"
      },
      "source": [
        "## Preface"
      ]
    },
    {
      "cell_type": "markdown",
      "metadata": {
        "id": "tQS_TIjH9uAS"
      },
      "source": [
        "Я был слегка испуган библиотекой pyltr, так как она года 3 не обновлялась, и у меня закралось ощущение, что ей никто не пользуется\n",
        "\n",
        "Поэтому я искал, что же такое есть +- готовое и по тегу **[learning-to-rank](https://github.com/topics/learning-to-rank)** только https://github.com/lyst/lightfm вызвала доверие.\n",
        "\n",
        "light fm это библиотека для рекомендательных систем и вся её новизна это очередное гибридное разложение матрицы. В  статье авторы пишут, что для разряженных данных всё работает норм."
      ]
    },
    {
      "cell_type": "markdown",
      "metadata": {
        "id": "vArBNedT_npq"
      },
      "source": [
        "### Алгоритм"
      ]
    },
    {
      "cell_type": "markdown",
      "metadata": {
        "id": "kGDTI2rU_rmR"
      },
      "source": [
        "В библиотеке реализованы два подхода:\n",
        "BPR: Bayesian Personalized Ranking from Implicit Feedback и Weighted Approximate-Rank Pairwise loss\n",
        "\n",
        "BPR: агоритм выбирает случайный триплет (пользователь - объект - объект) и обновляет aпосториорное распределение: мол если для пользователя Андрей фильм Первый Мститель был на первом месте, то фильм Второй Сын будет на каком? Априорное распределнение обычно нормальное.\n",
        "\n",
        "В результате получаются некие скрытые предпочтения пользователей к фильмам, которые потом раскладываются из матрицы.\n",
        "\n",
        "warp loss отличается только отбором этих самых пар для обучения. Если в BPR, отбираются из условно нормального распределения куда у всех пар есть одинаковая вероятность попасть и повторные пары отбираются редко, то для WARP алгоритм ищет \"неправильные пары\"и обновляет веса только для них. Если веса пары Андрей Первый Мситель 0.87, а у Андрей Второй Сын 0.63, но первого мсителя Андрей оценил ниже, чем второго сына, то 0.87 немного убавится, а 0.63 подрастёт.\n",
        "\n",
        "Это в натуральном виде pairwise алгоритм."
      ]
    },
    {
      "cell_type": "markdown",
      "metadata": {
        "id": "rq8XqVy_dpXO"
      },
      "source": [
        "это заглушка, чтобы рок аук правильно считался"
      ]
    },
    {
      "cell_type": "markdown",
      "metadata": {
        "id": "1JSxXVpOwfDU"
      },
      "source": [
        "## Load libs"
      ]
    },
    {
      "cell_type": "code",
      "metadata": {
        "colab": {
          "base_uri": "https://localhost:8080/"
        },
        "id": "SNdRD7syGeWO",
        "outputId": "192fcd67-35b9-46f3-c83d-57cb077e0910"
      },
      "source": [
        "!pip install lightfm\n",
        "!pip install scikit-optimize"
      ],
      "execution_count": null,
      "outputs": [
        {
          "output_type": "stream",
          "text": [
            "Requirement already satisfied: lightfm in /usr/local/lib/python3.7/dist-packages (1.16)\n",
            "Requirement already satisfied: requests in /usr/local/lib/python3.7/dist-packages (from lightfm) (2.23.0)\n",
            "Requirement already satisfied: numpy in /usr/local/lib/python3.7/dist-packages (from lightfm) (1.19.5)\n",
            "Requirement already satisfied: scikit-learn in /usr/local/lib/python3.7/dist-packages (from lightfm) (0.22.2.post1)\n",
            "Requirement already satisfied: scipy>=0.17.0 in /usr/local/lib/python3.7/dist-packages (from lightfm) (1.4.1)\n",
            "Requirement already satisfied: idna<3,>=2.5 in /usr/local/lib/python3.7/dist-packages (from requests->lightfm) (2.10)\n",
            "Requirement already satisfied: chardet<4,>=3.0.2 in /usr/local/lib/python3.7/dist-packages (from requests->lightfm) (3.0.4)\n",
            "Requirement already satisfied: certifi>=2017.4.17 in /usr/local/lib/python3.7/dist-packages (from requests->lightfm) (2020.12.5)\n",
            "Requirement already satisfied: urllib3!=1.25.0,!=1.25.1,<1.26,>=1.21.1 in /usr/local/lib/python3.7/dist-packages (from requests->lightfm) (1.24.3)\n",
            "Requirement already satisfied: joblib>=0.11 in /usr/local/lib/python3.7/dist-packages (from scikit-learn->lightfm) (1.0.1)\n",
            "Requirement already satisfied: pyltr in /usr/local/lib/python3.7/dist-packages (0.2.6)\n",
            "Requirement already satisfied: six in /usr/local/lib/python3.7/dist-packages (from pyltr) (1.15.0)\n",
            "Requirement already satisfied: numpy in /usr/local/lib/python3.7/dist-packages (from pyltr) (1.19.5)\n",
            "Requirement already satisfied: scikit-learn in /usr/local/lib/python3.7/dist-packages (from pyltr) (0.22.2.post1)\n",
            "Requirement already satisfied: pandas in /usr/local/lib/python3.7/dist-packages (from pyltr) (1.1.5)\n",
            "Requirement already satisfied: scipy in /usr/local/lib/python3.7/dist-packages (from pyltr) (1.4.1)\n",
            "Requirement already satisfied: joblib>=0.11 in /usr/local/lib/python3.7/dist-packages (from scikit-learn->pyltr) (1.0.1)\n",
            "Requirement already satisfied: python-dateutil>=2.7.3 in /usr/local/lib/python3.7/dist-packages (from pandas->pyltr) (2.8.1)\n",
            "Requirement already satisfied: pytz>=2017.2 in /usr/local/lib/python3.7/dist-packages (from pandas->pyltr) (2018.9)\n",
            "Collecting scikit-optimize\n",
            "\u001b[?25l  Downloading https://files.pythonhosted.org/packages/8b/03/be33e89f55866065a02e515c5b319304a801a9f1027a9b311a9b1d1f8dc7/scikit_optimize-0.8.1-py2.py3-none-any.whl (101kB)\n",
            "\u001b[K     |████████████████████████████████| 102kB 3.1MB/s \n",
            "\u001b[?25hRequirement already satisfied: joblib>=0.11 in /usr/local/lib/python3.7/dist-packages (from scikit-optimize) (1.0.1)\n",
            "Requirement already satisfied: scikit-learn>=0.20.0 in /usr/local/lib/python3.7/dist-packages (from scikit-optimize) (0.22.2.post1)\n",
            "Collecting pyaml>=16.9\n",
            "  Downloading https://files.pythonhosted.org/packages/15/c4/1310a054d33abc318426a956e7d6df0df76a6ddfa9c66f6310274fb75d42/pyaml-20.4.0-py2.py3-none-any.whl\n",
            "Requirement already satisfied: scipy>=0.19.1 in /usr/local/lib/python3.7/dist-packages (from scikit-optimize) (1.4.1)\n",
            "Requirement already satisfied: numpy>=1.13.3 in /usr/local/lib/python3.7/dist-packages (from scikit-optimize) (1.19.5)\n",
            "Requirement already satisfied: PyYAML in /usr/local/lib/python3.7/dist-packages (from pyaml>=16.9->scikit-optimize) (3.13)\n",
            "Installing collected packages: pyaml, scikit-optimize\n",
            "Successfully installed pyaml-20.4.0 scikit-optimize-0.8.1\n"
          ],
          "name": "stdout"
        }
      ]
    },
    {
      "cell_type": "code",
      "metadata": {
        "id": "HYGwf033-WtE"
      },
      "source": [
        "import time\n",
        "\n",
        "%matplotlib inline\n",
        "import matplotlib\n",
        "import matplotlib.pyplot as plt\n",
        "import seaborn as sns\n",
        "sns.set_style('white')\n",
        "\n",
        "import numpy as np\n",
        "import pandas as pd\n",
        "import scipy.sparse as sp\n",
        "from scipy.special import expit\n",
        "import pickle\n",
        "import csv\n",
        "import copy\n",
        "import itertools\n",
        "from lightfm import LightFM\n",
        "import lightfm.evaluation\n",
        "import sys\n",
        "from scipy.sparse import coo_matrix, find"
      ],
      "execution_count": null,
      "outputs": []
    },
    {
      "cell_type": "markdown",
      "metadata": {
        "id": "g62ZtFMMHWYT"
      },
      "source": [
        "### helpers.py \n",
        "\n",
        "from https://github.com/EthanRosenthal/rec-a-sketch "
      ]
    },
    {
      "cell_type": "code",
      "metadata": {
        "id": "zrQy7T1lDoFd"
      },
      "source": [
        "import scipy.sparse as sp\n",
        "import numpy as np\n",
        "\n",
        "\n",
        "def threshold_interactions_df(df, row_name, col_name, row_min, col_min):\n",
        "    \"\"\"Limit interactions df to minimum row and column interactions.\n",
        "    Parameters\n",
        "    ----------\n",
        "    df : DataFrame\n",
        "        DataFrame which contains a single row for each interaction between\n",
        "        two entities. Typically, the two entities are a user and an item.\n",
        "    row_name : str\n",
        "        Name of column in df which corresponds to the eventual row in the\n",
        "        interactions matrix.\n",
        "    col_name : str\n",
        "        Name of column in df which corresponds to the eventual column in the\n",
        "        interactions matrix.\n",
        "    row_min : int\n",
        "        Minimum number of interactions that the row entity has had with\n",
        "        distinct column entities.\n",
        "    col_min : int\n",
        "        Minimum number of interactions that the column entity has had with\n",
        "        distinct row entities.\n",
        "    Returns\n",
        "    -------\n",
        "    df : DataFrame\n",
        "        Thresholded version of the input df. Order of rows is not preserved.\n",
        "    Examples\n",
        "    --------\n",
        "    df looks like:\n",
        "    user_id | item_id\n",
        "    =================\n",
        "      1001  |  2002\n",
        "      1001  |  2004\n",
        "      1002  |  2002\n",
        "    thus, row_name = 'user_id', and col_name = 'item_id'\n",
        "    If we were to set row_min = 2 and col_min = 1, then the returned df would\n",
        "    look like\n",
        "    user_id | item_id\n",
        "    =================\n",
        "      1001  |  2002\n",
        "      1001  |  2004\n",
        "    \"\"\"\n",
        "\n",
        "    n_rows = df[row_name].unique().shape[0]\n",
        "    n_cols = df[col_name].unique().shape[0]\n",
        "    sparsity = float(df.shape[0]) / float(n_rows*n_cols) * 100\n",
        "    print('Starting interactions info')\n",
        "    print('Number of rows: {}'.format(n_rows))\n",
        "    print('Number of cols: {}'.format(n_cols))\n",
        "    print('Sparsity: {:4.3f}%'.format(sparsity))\n",
        "\n",
        "    done = False\n",
        "    while not done:\n",
        "        starting_shape = df.shape[0]\n",
        "        col_counts = df.groupby(row_name)[col_name].count()\n",
        "        df = df[~df[row_name].isin(col_counts[col_counts < col_min].index.tolist())]\n",
        "        row_counts = df.groupby(col_name)[row_name].count()\n",
        "        df = df[~df[col_name].isin(row_counts[row_counts < row_min].index.tolist())]\n",
        "        ending_shape = df.shape[0]\n",
        "        if starting_shape == ending_shape:\n",
        "            done = True\n",
        "\n",
        "    n_rows = df[row_name].unique().shape[0]\n",
        "    n_cols = df[col_name].unique().shape[0]\n",
        "    sparsity = float(df.shape[0]) / float(n_rows*n_cols) * 100\n",
        "    print('Ending interactions info')\n",
        "    print('Number of rows: {}'.format(n_rows))\n",
        "    print('Number of columns: {}'.format(n_cols))\n",
        "    print('Sparsity: {:4.3f}%'.format(sparsity))\n",
        "    return df\n",
        "\n",
        "\n",
        "def get_df_matrix_mappings(df, row_name, col_name):\n",
        "    \"\"\"Map entities in interactions df to row and column indices\n",
        "    Parameters\n",
        "    ----------\n",
        "    df : DataFrame\n",
        "        Interactions DataFrame.\n",
        "    row_name : str\n",
        "        Name of column in df which contains row entities.\n",
        "    col_name : str\n",
        "        Name of column in df which contains column entities.\n",
        "    Returns\n",
        "    -------\n",
        "    rid_to_idx : dict\n",
        "        Maps row ID's to the row index in the eventual interactions matrix.\n",
        "    idx_to_rid : dict\n",
        "        Reverse of rid_to_idx. Maps row index to row ID.\n",
        "    cid_to_idx : dict\n",
        "        Same as rid_to_idx but for column ID's\n",
        "    idx_to_cid : dict\n",
        "    \"\"\"\n",
        "\n",
        "\n",
        "    # Create mappings\n",
        "    rid_to_idx = {}\n",
        "    idx_to_rid = {}\n",
        "    for (idx, rid) in enumerate(df[row_name].unique().tolist()):\n",
        "        rid_to_idx[rid] = idx\n",
        "        idx_to_rid[idx] = rid\n",
        "\n",
        "    cid_to_idx = {}\n",
        "    idx_to_cid = {}\n",
        "    for (idx, cid) in enumerate(df[col_name].unique().tolist()):\n",
        "        cid_to_idx[cid] = idx\n",
        "        idx_to_cid[idx] = cid\n",
        "\n",
        "    return rid_to_idx, idx_to_rid, cid_to_idx, idx_to_cid\n",
        "\n",
        "\n",
        "def df_to_matrix(df, row_name, col_name):\n",
        "    \"\"\"Take interactions dataframe and convert to a sparse matrix\n",
        "    Parameters\n",
        "    ----------\n",
        "    df : DataFrame\n",
        "    row_name : str\n",
        "    col_name : str\n",
        "    Returns\n",
        "    -------\n",
        "    interactions : sparse csr matrix\n",
        "    rid_to_idx : dict\n",
        "    idx_to_rid : dict\n",
        "    cid_to_idx : dict\n",
        "    idx_to_cid : dict\n",
        "    \"\"\"\n",
        "\n",
        "    rid_to_idx, idx_to_rid,\\\n",
        "        cid_to_idx, idx_to_cid = get_df_matrix_mappings(df,\n",
        "                                                        row_name,\n",
        "                                                        col_name)\n",
        "\n",
        "    def map_ids(row, mapper):\n",
        "        return mapper[row]\n",
        "\n",
        "    I = df[row_name].apply(map_ids, args=[rid_to_idx]).to_numpy()\n",
        "    J = df[col_name].apply(map_ids, args=[cid_to_idx]).to_numpy()\n",
        "    V = np.ones(I.shape[0])\n",
        "    interactions = sp.coo_matrix((V, (I, J)), dtype=np.float64)\n",
        "    interactions = interactions.tocsr()\n",
        "    return interactions, rid_to_idx, idx_to_rid, cid_to_idx, idx_to_cid\n",
        "\n",
        "\n",
        "def train_test_split(interactions, split_count, fraction=None):\n",
        "    \"\"\"\n",
        "    Split recommendation data into train and test sets\n",
        "    Params\n",
        "    ------\n",
        "    interactions : scipy.sparse matrix\n",
        "        Interactions between users and items.\n",
        "    split_count : int\n",
        "        Number of user-item-interactions per user to move\n",
        "        from training to test set.\n",
        "    fractions : float\n",
        "        Fraction of users to split off some of their\n",
        "        interactions into test set. If None, then all\n",
        "        users are considered.\n",
        "    \"\"\"\n",
        "    # Note: likely not the fastest way to do things below.\n",
        "    train = interactions.copy().tocoo()\n",
        "    test = sp.lil_matrix(train.shape)\n",
        "\n",
        "    if fraction:\n",
        "        try:\n",
        "            user_index = np.random.choice(\n",
        "                np.where(np.bincount(train.row) >= split_count * 2)[0],\n",
        "                replace=False,\n",
        "                size=np.int64(np.floor(fraction * train.shape[0]))\n",
        "            ).tolist()\n",
        "        except:\n",
        "            print(('Not enough users with > {} '\n",
        "                  'interactions for fraction of {}')\\\n",
        "                  .format(2*split_count, fraction))\n",
        "            raise\n",
        "    else:\n",
        "        user_index = range(train.shape[0])\n",
        "\n",
        "    train = train.tolil()\n",
        "\n",
        "    for user in user_index:\n",
        "        test_interactions = np.random.choice(interactions.getrow(user).indices,\n",
        "                                        size=split_count,\n",
        "                                        replace=False)\n",
        "        train[user, test_interactions] = 0.\n",
        "        # These are just 1.0 right now\n",
        "        test[user, test_interactions] = interactions[user, test_interactions]\n",
        "\n",
        "\n",
        "    # Test and training are truly disjoint\n",
        "    assert(train.multiply(test).nnz == 0)\n",
        "    return train.tocsr(), test.tocsr(), user_index\n",
        "\n",
        "def print_log(row, header=False, spacing=12):\n",
        "    top = ''\n",
        "    middle = ''\n",
        "    bottom = ''\n",
        "    for r in row:\n",
        "        top += '+{}'.format('-'*spacing)\n",
        "        if isinstance(r, str):\n",
        "            middle += '| {0:^{1}} '.format(r, spacing-2)\n",
        "        elif isinstance(r, int):\n",
        "            middle += '| {0:^{1}} '.format(r, spacing-2)\n",
        "        elif (isinstance(r, float)\n",
        "              or isinstance(r, np.float32)\n",
        "              or isinstance(r, np.float64)):\n",
        "            middle += '| {0:^{1}.5f} '.format(r, spacing-2)\n",
        "        bottom += '+{}'.format('='*spacing)\n",
        "    top += '+'\n",
        "    middle += '|'\n",
        "    bottom += '+'\n",
        "    if header:\n",
        "        print(top)\n",
        "        print(middle)\n",
        "        print(bottom)\n",
        "    else:\n",
        "        print(middle)\n",
        "        print(top)\n",
        "\n",
        "def patk_learning_curve(model, train, test, eval_train,\n",
        "                        iterarray, user_features=None,\n",
        "                        item_features=None, k=5,\n",
        "                        **fit_params):\n",
        "    old_epoch = 0\n",
        "    train_patk = []\n",
        "    test_patk = []\n",
        "    headers = ['Epoch', 'train p@5', 'test p@5']\n",
        "    print_log(headers, header=True)\n",
        "    for epoch in iterarray:\n",
        "        more = epoch - old_epoch\n",
        "        model.fit_partial(train, user_features=user_features,\n",
        "                          item_features=item_features,\n",
        "                          epochs=more, **fit_params)\n",
        "        this_test = lightfm.evaluation.precision_at_k(model, test, train_interactions=None, k=k)\n",
        "        this_train = lightfm.evaluation.precision_at_k(model, eval_train, train_interactions=None, k=k)\n",
        "\n",
        "        train_patk.append(np.mean(this_train))\n",
        "        test_patk.append(np.mean(this_test))\n",
        "        row = [epoch, train_patk[-1], test_patk[-1]]\n",
        "        print_log(row)\n",
        "    return model, train_patk, test_patk\n",
        "\n",
        "def plot_patk(iterarray, patk,\n",
        "              title, k=5):\n",
        "    plt.plot(iterarray, patk);\n",
        "    plt.title(title, fontsize=20);\n",
        "    plt.xlabel('Epochs', fontsize=24);\n",
        "    plt.ylabel('p@{}'.format(k), fontsize=24);\n",
        "    plt.xticks(fontsize=14);\n",
        "    plt.yticks(fontsize=14);"
      ],
      "execution_count": null,
      "outputs": []
    },
    {
      "cell_type": "markdown",
      "metadata": {
        "id": "j7RJ_FbJetuU"
      },
      "source": [
        "### Данные"
      ]
    },
    {
      "cell_type": "markdown",
      "metadata": {
        "id": "XW-KDtDaetuV"
      },
      "source": [
        "Как я понял, что-угодно, что можно пихнуть в разряженную матрицу вида user-item подходит для алгоритма. Возьму данные, с которыми работаю по проекту и всеми правдами и неправдами превращу их в требуемый формат.\n"
      ]
    },
    {
      "cell_type": "code",
      "metadata": {
        "colab": {
          "base_uri": "https://localhost:8080/"
        },
        "id": "KdaRV8MUetuV",
        "outputId": "0518d550-259d-45a9-84a0-86bd7ff9c18b"
      },
      "source": [
        "from google.colab import drive\n",
        "drive.mount('/content/drive')\n",
        "\n",
        "data = pd.read_csv('/content/drive/MyDrive/Colab Notebooks/CS/sf_4_2019.csv')\n",
        "data = data[[\"taxon_name\", \"user_id\", \"id\"]]\n",
        "data.head()"
      ],
      "execution_count": null,
      "outputs": [
        {
          "output_type": "stream",
          "text": [
            "Drive already mounted at /content/drive; to attempt to forcibly remount, call drive.mount(\"/content/drive\", force_remount=True).\n"
          ],
          "name": "stdout"
        }
      ]
    },
    {
      "cell_type": "code",
      "metadata": {
        "colab": {
          "base_uri": "https://localhost:8080/"
        },
        "id": "jk_Ka4T1etuV",
        "outputId": "f02de2ae-a800-4702-8c98-a8ebe721341e"
      },
      "source": [
        "data = threshold_interactions_df(data, 'user_id', 'taxon_name', 5, 5)"
      ],
      "execution_count": null,
      "outputs": [
        {
          "output_type": "stream",
          "text": [
            "Starting interactions info\n",
            "Number of rows: 3136\n",
            "Number of cols: 3312\n",
            "Sparsity: 0.833%\n",
            "Ending interactions info\n",
            "Number of rows: 2409\n",
            "Number of columns: 2404\n",
            "Sparsity: 1.399%\n"
          ],
          "name": "stdout"
        }
      ]
    },
    {
      "cell_type": "markdown",
      "metadata": {
        "id": "5wVPhpjUetuW"
      },
      "source": [
        "оставим только ту живность которая встретилась больше 5 раз и пользователей, которые отметили как минимум 5 живностей"
      ]
    },
    {
      "cell_type": "code",
      "metadata": {
        "id": "RkI2wHKGetuW"
      },
      "source": [
        "scans, uid_to_idx, idx_to_uid,\\\n",
        "mid_to_idx, idx_to_mid = df_to_matrix(data, 'user_id', 'taxon_name')"
      ],
      "execution_count": null,
      "outputs": []
    },
    {
      "cell_type": "code",
      "metadata": {
        "id": "Qb3dVR7YetuW"
      },
      "source": [
        "train, test, user_index = train_test_split(scans, 5, fraction=0.2)"
      ],
      "execution_count": null,
      "outputs": []
    },
    {
      "cell_type": "markdown",
      "metadata": {
        "id": "guLBtTK4etuW"
      },
      "source": [
        "Разобьём матрицу на обучающую и на тестовую, причём будем просто вытаскивать куски данных, так как модель не умеет предсказывать для совсем новых пользователей"
      ]
    },
    {
      "cell_type": "code",
      "metadata": {
        "id": "HY8gzed9etuW"
      },
      "source": [
        "eval_train = train.copy()\n",
        "non_eval_users = list(set(range(train.shape[0])) - set(user_index))\n",
        "\n",
        "eval_train = eval_train.tolil()\n",
        "for u in non_eval_users:\n",
        "    eval_train[u, :] = 0.0\n",
        "eval_train = eval_train.tocsr()"
      ],
      "execution_count": null,
      "outputs": []
    },
    {
      "cell_type": "markdown",
      "metadata": {
        "id": "l7uvs2O3HcEw"
      },
      "source": [
        "## base example short\n",
        "why warp, and not bpr"
      ]
    },
    {
      "cell_type": "code",
      "metadata": {
        "id": "-RHi2Q3RNNcP"
      },
      "source": [
        "alpha = 1e-05\n",
        "epochs = 30\n",
        "num_components = 64\n",
        "\n",
        "warp_model = LightFM(no_components=num_components,\n",
        "                    loss='warp',\n",
        "                    learning_schedule='adagrad',\n",
        "                    max_sampled=100,\n",
        "                    user_alpha=alpha,\n",
        "                    item_alpha=alpha)\n",
        "\n",
        "bpr_model = LightFM(no_components=num_components,\n",
        "                    loss='bpr',\n",
        "                    learning_schedule='adagrad',\n",
        "                    user_alpha=alpha,\n",
        "                    item_alpha=alpha)\n",
        "\n",
        "warp_duration = []\n",
        "bpr_duration = []\n",
        "warp_auc = []\n",
        "bpr_auc = []\n",
        "\n",
        "for epoch in range(epochs):\n",
        "    start = time.time()\n",
        "    warp_model.fit_partial(train, epochs=1)\n",
        "    warp_duration.append(time.time() - start)\n",
        "    warp_auc.append(auc_score(warp_model, test, train_interactions=train).mean())\n",
        "\n",
        "for epoch in range(epochs):\n",
        "    start = time.time()\n",
        "    bpr_model.fit_partial(train, epochs=1)\n",
        "    bpr_duration.append(time.time() - start)\n",
        "    bpr_auc.append(auc_score(bpr_model, test, train_interactions=train).mean())"
      ],
      "execution_count": null,
      "outputs": []
    },
    {
      "cell_type": "markdown",
      "metadata": {
        "id": "5fcIBR4grQ2z"
      },
      "source": [
        "## AUC"
      ]
    },
    {
      "cell_type": "code",
      "metadata": {
        "colab": {
          "base_uri": "https://localhost:8080/",
          "height": 265
        },
        "id": "-HSp1CZVrQUF",
        "outputId": "2e5ac196-2d19-40bc-f340-ca276c2b5fba"
      },
      "source": [
        "x = np.arange(epochs)\n",
        "plt.plot(x, np.array(warp_auc))\n",
        "plt.plot(x, np.array(bpr_auc))\n",
        "plt.legend(['WARP AUC', 'BPR AUC'], loc='upper right')\n",
        "plt.show()"
      ],
      "execution_count": null,
      "outputs": [
        {
          "output_type": "display_data",
          "data": {
            "image/png": "[encoded data removed]",
            "text/plain": [
              "<Figure size 432x288 with 1 Axes>"
            ]
          },
          "metadata": {
            "tags": []
          }
        }
      ]
    },
    {
      "cell_type": "code",
      "metadata": {
        "id": "tDFlYkg4WCBn",
        "colab": {
          "base_uri": "https://localhost:8080/"
        },
        "outputId": "41d8daaa-8523-49ee-9bfd-d0084d92a0f2"
      },
      "source": [
        "train_auc = auc_score(warp_model, train).mean()\n",
        "test_auc = auc_score(warp_model, test).mean()\n",
        "\n",
        "print('AUC: train %.2f, test %.2f.' % (train_auc, test_auc))"
      ],
      "execution_count": null,
      "outputs": [
        {
          "output_type": "stream",
          "text": [
            "AUC: train 1.00, test 0.85.\n"
          ],
          "name": "stdout"
        }
      ]
    },
    {
      "cell_type": "markdown",
      "metadata": {
        "id": "uhcDIyv-sPxL"
      },
      "source": [
        "## FULL Model test"
      ]
    },
    {
      "cell_type": "code",
      "metadata": {
        "colab": {
          "base_uri": "https://localhost:8080/"
        },
        "id": "IGQcojlXAMjK",
        "outputId": "478f5d8b-aeac-49ac-e661-4c540a56e261"
      },
      "source": [
        "alpha = 1e-05\n",
        "epochs = 50\n",
        "num_components = 20\n",
        "\n",
        "\n",
        "model = LightFM(no_components=num_components,\n",
        "                    loss='warp',\n",
        "                    learning_schedule='adagrad',\n",
        "                    # max_sampled=100,\n",
        "                    # user_alpha=alpha,\n",
        "                    # item_alpha=alpha,\n",
        "                    random_state=42)\n",
        "# Initialize model.\n",
        "model.fit(train, epochs=0);\n",
        "\n",
        "iterarray = range(10, 60, 10)\n",
        "\n",
        "model, train_patk, test_patk = patk_learning_curve(\n",
        "    model, train, test, eval_train, iterarray, k=5, **{'num_threads': 4}\n",
        ")"
      ],
      "execution_count": null,
      "outputs": [
        {
          "output_type": "stream",
          "text": [
            "+------------+------------+------------+\n",
            "|   Epoch    | train p@5  |  test p@5  |\n",
            "+============+============+============+\n",
            "|     10     |  0.32183   |  0.06237   |\n",
            "+------------+------------+------------+\n",
            "|     20     |  0.38420   |  0.06071   |\n",
            "+------------+------------+------------+\n",
            "|     30     |  0.40790   |  0.05780   |\n",
            "+------------+------------+------------+\n",
            "|     40     |  0.41622   |  0.05114   |\n",
            "+------------+------------+------------+\n",
            "|     50     |  0.41289   |  0.04782   |\n",
            "+------------+------------+------------+\n"
          ],
          "name": "stdout"
        }
      ]
    },
    {
      "cell_type": "code",
      "metadata": {
        "colab": {
          "base_uri": "https://localhost:8080/",
          "height": 297
        },
        "id": "2jR0IRthML3k",
        "outputId": "f7aabc91-14e9-42f5-a406-51df90a1c7ce"
      },
      "source": [
        "# Plot train on left\n",
        "ax = plt.subplot(1, 2, 1)\n",
        "fig = ax.get_figure();\n",
        "sns.despine(fig);\n",
        "plot_patk(iterarray, train_patk,\n",
        "         'Train', k=5)\n",
        "\n",
        "# Plot test on right\n",
        "ax = plt.subplot(1, 2, 2)\n",
        "fig = ax.get_figure();\n",
        "sns.despine(fig);\n",
        "plot_patk(iterarray, test_patk,\n",
        "         'Test', k=5)\n",
        "\n",
        "plt.tight_layout();"
      ],
      "execution_count": null,
      "outputs": [
        {
          "output_type": "display_data",
          "data": {
            "image/png": "[encoded data removed]",
            "text/plain": [
              "<Figure size 432x288 with 2 Axes>"
            ]
          },
          "metadata": {
            "tags": []
          }
        }
      ]
    },
    {
      "cell_type": "markdown",
      "metadata": {
        "id": "v3kK0rit84zK"
      },
      "source": [
        "### ROC AUC"
      ]
    },
    {
      "cell_type": "code",
      "metadata": {
        "colab": {
          "base_uri": "https://localhost:8080/"
        },
        "id": "J40oKprs62q9",
        "outputId": "9ec47030-ed77-4728-ec91-c1d64f5fcfa6"
      },
      "source": [
        "train_auc = auc_score(model, train).mean()\n",
        "test_auc = auc_score(model, test).mean()\n",
        "print('AUC: train %.2f, test %.2f.' % (train_auc, test_auc))"
      ],
      "execution_count": null,
      "outputs": [
        {
          "output_type": "stream",
          "text": [
            "AUC: train 0.98, test 0.86.\n"
          ],
          "name": "stdout"
        }
      ]
    },
    {
      "cell_type": "markdown",
      "metadata": {
        "id": "3z_4CDDv863k"
      },
      "source": [
        "### Fake MAP@5"
      ]
    },
    {
      "cell_type": "code",
      "metadata": {
        "colab": {
          "base_uri": "https://localhost:8080/"
        },
        "id": "ViqjW5r_83Ve",
        "outputId": "a0602412-e6f2-425d-e412-13cf5387fd07"
      },
      "source": [
        "ranks = model.predict_rank(train)\n",
        "ranks.data = np.less(ranks.data, 4, ranks.data)\n",
        "precision = np.squeeze(np.array(ranks.sum(axis=1))) / 4\n",
        "precision = precision[train.getnnz(axis=1) > 0]\n",
        "train_map = precision.mean()\n",
        "\n",
        "ranks = model.predict_rank(test)\n",
        "ranks.data = np.less(ranks.data, 4, ranks.data)\n",
        "precision = np.squeeze(np.array(ranks.sum(axis=1))) / 4\n",
        "precision = precision[test.getnnz(axis=1) > 0]\n",
        "test_map = precision.mean()\n",
        "\n",
        "\n",
        "print('MAP@4: train %.2f, test %.2f.' % (train_map, test_map))"
      ],
      "execution_count": null,
      "outputs": [
        {
          "output_type": "stream",
          "text": [
            "MAP@4: train 0.39, test 0.05.\n"
          ],
          "name": "stdout"
        }
      ]
    },
    {
      "cell_type": "markdown",
      "metadata": {
        "id": "sABsIbok9DNm"
      },
      "source": [
        "## TUNING"
      ]
    },
    {
      "cell_type": "markdown",
      "metadata": {
        "id": "LNWniwyEp6Gi"
      },
      "source": [
        "c помощью forest_minimize попробуем слегка улучшить модель, оптимизируя по P@k"
      ]
    },
    {
      "cell_type": "code",
      "metadata": {
        "id": "W1GxctgBKRE6"
      },
      "source": [
        "from skopt import forest_minimize"
      ],
      "execution_count": null,
      "outputs": []
    },
    {
      "cell_type": "code",
      "metadata": {
        "id": "TwGhBbYv0EVz"
      },
      "source": [
        "def objective(params):\n",
        "    # unpack\n",
        "    epochs, learning_rate,\\\n",
        "    no_components, alpha = params\n",
        "    \n",
        "    user_alpha = alpha\n",
        "    item_alpha = alpha\n",
        "    model = LightFM(loss='warp',\n",
        "                    random_state=42,\n",
        "                    learning_rate=learning_rate,\n",
        "                    no_components=no_components,\n",
        "                    user_alpha=user_alpha,\n",
        "                    item_alpha=item_alpha)\n",
        "    model.fit(train, epochs=epochs,\n",
        "              num_threads=4, verbose=True)\n",
        "    \n",
        "    patks = lightfm.evaluation.precision_at_k(model, test,\n",
        "                                              train_interactions=None,\n",
        "                                              k=5, num_threads=4)\n",
        "    mapatk = np.mean(patks)\n",
        "    # Make negative because we want to _minimize_ objective\n",
        "    out = -mapatk\n",
        "    # Handle some weird numerical shit going on\n",
        "    if np.abs(out + 1) < 0.01 or out < -1.0:\n",
        "        return 0.0\n",
        "    else:\n",
        "        return out"
      ],
      "execution_count": null,
      "outputs": []
    },
    {
      "cell_type": "code",
      "metadata": {
        "colab": {
          "base_uri": "https://localhost:8080/"
        },
        "id": "WrcS1NfU7nVv",
        "outputId": "9ef99973-f31f-44bd-d806-af086af34c3c"
      },
      "source": [
        "space = [(1, 50), # epochs\n",
        "         (10**-4, 1.0, 'log-uniform'), # learning_rate\n",
        "         (20, 200), # no_components\n",
        "         (10**-6, 10**-1, 'log-uniform'), # alpha\n",
        "        ]\n",
        "\n",
        "res_fm = forest_minimize(objective, space, n_calls=250,\n",
        "                     random_state=0,\n",
        "                     verbose=True)"
      ],
      "execution_count": null,
      "outputs": [
        {
          "output_type": "stream",
          "text": [
            "\rEpoch:   0%|          | 0/48 [00:00<?, ?it/s]"
          ],
          "name": "stderr"
        },
        {
          "output_type": "stream",
          "text": [
            "Iteration No: 1 started. Evaluating function at random point.\n"
          ],
          "name": "stdout"
        },
        {
          "output_type": "stream",
          "text": [
            "Epoch: 100%|██████████| 48/48 [00:11<00:00,  4.29it/s]\n",
            "Epoch:   2%|▎         | 1/40 [00:00<00:04,  8.74it/s]"
          ],
          "name": "stderr"
        },
        {
          "output_type": "stream",
          "text": [
            "Iteration No: 1 ended. Evaluation done at random point.\n",
            "Time taken: 11.4629\n",
            "Function value obtained: -0.0017\n",
            "Current minimum: -0.0017\n",
            "Iteration No: 2 started. Evaluating function at random point.\n"
          ],
          "name": "stdout"
        },
        {
          "output_type": "stream",
          "text": [
            "Epoch: 100%|██████████| 40/40 [00:04<00:00,  8.65it/s]\n",
            "Epoch:   0%|          | 0/24 [00:00<?, ?it/s]"
          ],
          "name": "stderr"
        },
        {
          "output_type": "stream",
          "text": [
            "Iteration No: 2 ended. Evaluation done at random point.\n",
            "Time taken: 4.7737\n",
            "Function value obtained: -0.0453\n",
            "Current minimum: -0.0453\n",
            "Iteration No: 3 started. Evaluating function at random point.\n"
          ],
          "name": "stdout"
        },
        {
          "output_type": "stream",
          "text": [
            "Epoch: 100%|██████████| 24/24 [00:06<00:00,  3.58it/s]\n",
            "Epoch:   0%|          | 0/2 [00:00<?, ?it/s]"
          ],
          "name": "stderr"
        },
        {
          "output_type": "stream",
          "text": [
            "Iteration No: 3 ended. Evaluation done at random point.\n",
            "Time taken: 7.0354\n",
            "Function value obtained: -0.0004\n",
            "Current minimum: -0.0453\n",
            "Iteration No: 4 started. Evaluating function at random point.\n"
          ],
          "name": "stdout"
        },
        {
          "output_type": "stream",
          "text": [
            "Epoch: 100%|██████████| 2/2 [00:00<00:00,  3.74it/s]\n",
            "Epoch:   0%|          | 0/18 [00:00<?, ?it/s]"
          ],
          "name": "stderr"
        },
        {
          "output_type": "stream",
          "text": [
            "Iteration No: 4 ended. Evaluation done at random point.\n",
            "Time taken: 0.8629\n",
            "Function value obtained: -0.0104\n",
            "Current minimum: -0.0453\n",
            "Iteration No: 5 started. Evaluating function at random point.\n"
          ],
          "name": "stdout"
        },
        {
          "output_type": "stream",
          "text": [
            "Epoch: 100%|██████████| 18/18 [00:04<00:00,  3.90it/s]\n",
            "Epoch:   0%|          | 0/21 [00:00<?, ?it/s]"
          ],
          "name": "stderr"
        },
        {
          "output_type": "stream",
          "text": [
            "Iteration No: 5 ended. Evaluation done at random point.\n",
            "Time taken: 4.9259\n",
            "Function value obtained: -0.0033\n",
            "Current minimum: -0.0453\n",
            "Iteration No: 6 started. Evaluating function at random point.\n"
          ],
          "name": "stdout"
        },
        {
          "output_type": "stream",
          "text": [
            "Epoch: 100%|██████████| 21/21 [00:05<00:00,  3.99it/s]\n",
            "Epoch:   0%|          | 0/19 [00:00<?, ?it/s]"
          ],
          "name": "stderr"
        },
        {
          "output_type": "stream",
          "text": [
            "Iteration No: 6 ended. Evaluation done at random point.\n",
            "Time taken: 5.5837\n",
            "Function value obtained: -0.0412\n",
            "Current minimum: -0.0453\n",
            "Iteration No: 7 started. Evaluating function at random point.\n"
          ],
          "name": "stdout"
        },
        {
          "output_type": "stream",
          "text": [
            "Epoch: 100%|██████████| 19/19 [00:08<00:00,  2.11it/s]\n",
            "Epoch:   0%|          | 0/20 [00:00<?, ?it/s]"
          ],
          "name": "stderr"
        },
        {
          "output_type": "stream",
          "text": [
            "Iteration No: 7 ended. Evaluation done at random point.\n",
            "Time taken: 9.5654\n",
            "Function value obtained: -0.0541\n",
            "Current minimum: -0.0541\n",
            "Iteration No: 8 started. Evaluating function at random point.\n"
          ],
          "name": "stdout"
        },
        {
          "output_type": "stream",
          "text": [
            "Epoch: 100%|██████████| 20/20 [00:09<00:00,  2.21it/s]\n",
            "Epoch:  10%|█         | 1/10 [00:00<00:01,  6.88it/s]"
          ],
          "name": "stderr"
        },
        {
          "output_type": "stream",
          "text": [
            "Iteration No: 8 ended. Evaluation done at random point.\n",
            "Time taken: 9.5965\n",
            "Function value obtained: -0.0661\n",
            "Current minimum: -0.0661\n",
            "Iteration No: 9 started. Evaluating function at random point.\n"
          ],
          "name": "stdout"
        },
        {
          "output_type": "stream",
          "text": [
            "Epoch: 100%|██████████| 10/10 [00:01<00:00,  7.14it/s]\n",
            "Epoch:   0%|          | 0/24 [00:00<?, ?it/s]"
          ],
          "name": "stderr"
        },
        {
          "output_type": "stream",
          "text": [
            "Iteration No: 9 ended. Evaluation done at random point.\n",
            "Time taken: 1.5633\n",
            "Function value obtained: -0.0470\n",
            "Current minimum: -0.0661\n",
            "Iteration No: 10 started. Evaluating function at random point.\n"
          ],
          "name": "stdout"
        },
        {
          "output_type": "stream",
          "text": [
            "Epoch: 100%|██████████| 24/24 [00:08<00:00,  3.00it/s]\n",
            "Epoch:   0%|          | 0/20 [00:00<?, ?it/s]"
          ],
          "name": "stderr"
        },
        {
          "output_type": "stream",
          "text": [
            "Iteration No: 10 ended. Evaluation done at random point.\n",
            "Time taken: 8.6007\n",
            "Function value obtained: -0.0424\n",
            "Current minimum: -0.0661\n",
            "Iteration No: 11 started. Searching for the next optimal point.\n"
          ],
          "name": "stdout"
        },
        {
          "output_type": "stream",
          "text": [
            "Epoch: 100%|██████████| 20/20 [00:06<00:00,  2.91it/s]\n",
            "Epoch:   0%|          | 0/20 [00:00<?, ?it/s]"
          ],
          "name": "stderr"
        },
        {
          "output_type": "stream",
          "text": [
            "Iteration No: 11 ended. Search finished for the next optimal point.\n",
            "Time taken: 7.4808\n",
            "Function value obtained: -0.0669\n",
            "Current minimum: -0.0669\n",
            "Iteration No: 12 started. Searching for the next optimal point.\n"
          ],
          "name": "stdout"
        },
        {
          "output_type": "stream",
          "text": [
            "Epoch: 100%|██████████| 20/20 [00:09<00:00,  2.12it/s]\n",
            "Epoch:   0%|          | 0/12 [00:00<?, ?it/s]"
          ],
          "name": "stderr"
        },
        {
          "output_type": "stream",
          "text": [
            "Iteration No: 12 ended. Search finished for the next optimal point.\n",
            "Time taken: 10.1744\n",
            "Function value obtained: -0.0000\n",
            "Current minimum: -0.0669\n",
            "Iteration No: 13 started. Searching for the next optimal point.\n"
          ],
          "name": "stdout"
        },
        {
          "output_type": "stream",
          "text": [
            "Epoch: 100%|██████████| 12/12 [00:05<00:00,  2.16it/s]\n",
            "Epoch:   0%|          | 0/12 [00:00<?, ?it/s]"
          ],
          "name": "stderr"
        },
        {
          "output_type": "stream",
          "text": [
            "Iteration No: 13 ended. Search finished for the next optimal point.\n",
            "Time taken: 6.3152\n",
            "Function value obtained: -0.0644\n",
            "Current minimum: -0.0669\n",
            "Iteration No: 14 started. Searching for the next optimal point.\n"
          ],
          "name": "stdout"
        },
        {
          "output_type": "stream",
          "text": [
            "Epoch: 100%|██████████| 12/12 [00:05<00:00,  2.14it/s]\n",
            "Epoch:   0%|          | 0/31 [00:00<?, ?it/s]"
          ],
          "name": "stderr"
        },
        {
          "output_type": "stream",
          "text": [
            "Iteration No: 14 ended. Search finished for the next optimal point.\n",
            "Time taken: 6.3629\n",
            "Function value obtained: -0.0499\n",
            "Current minimum: -0.0669\n",
            "Iteration No: 15 started. Searching for the next optimal point.\n"
          ],
          "name": "stdout"
        },
        {
          "output_type": "stream",
          "text": [
            "Epoch: 100%|██████████| 31/31 [00:14<00:00,  2.21it/s]\n",
            "Epoch:   0%|          | 0/28 [00:00<?, ?it/s]"
          ],
          "name": "stderr"
        },
        {
          "output_type": "stream",
          "text": [
            "Iteration No: 15 ended. Search finished for the next optimal point.\n",
            "Time taken: 14.7662\n",
            "Function value obtained: -0.0545\n",
            "Current minimum: -0.0669\n",
            "Iteration No: 16 started. Searching for the next optimal point.\n"
          ],
          "name": "stdout"
        },
        {
          "output_type": "stream",
          "text": [
            "Epoch: 100%|██████████| 28/28 [00:12<00:00,  2.20it/s]\n",
            "Epoch:   0%|          | 0/18 [00:00<?, ?it/s]"
          ],
          "name": "stderr"
        },
        {
          "output_type": "stream",
          "text": [
            "Iteration No: 16 ended. Search finished for the next optimal point.\n",
            "Time taken: 13.5932\n",
            "Function value obtained: -0.0012\n",
            "Current minimum: -0.0669\n",
            "Iteration No: 17 started. Searching for the next optimal point.\n"
          ],
          "name": "stdout"
        },
        {
          "output_type": "stream",
          "text": [
            "Epoch: 100%|██████████| 18/18 [00:08<00:00,  2.19it/s]\n",
            "Epoch:   0%|          | 0/20 [00:00<?, ?it/s]"
          ],
          "name": "stderr"
        },
        {
          "output_type": "stream",
          "text": [
            "Iteration No: 17 ended. Search finished for the next optimal point.\n",
            "Time taken: 8.9674\n",
            "Function value obtained: -0.0474\n",
            "Current minimum: -0.0669\n",
            "Iteration No: 18 started. Searching for the next optimal point.\n"
          ],
          "name": "stdout"
        },
        {
          "output_type": "stream",
          "text": [
            "Epoch: 100%|██████████| 20/20 [00:07<00:00,  2.68it/s]\n",
            "Epoch:   0%|          | 0/20 [00:00<?, ?it/s]"
          ],
          "name": "stderr"
        },
        {
          "output_type": "stream",
          "text": [
            "Iteration No: 18 ended. Search finished for the next optimal point.\n",
            "Time taken: 8.1215\n",
            "Function value obtained: -0.0711\n",
            "Current minimum: -0.0711\n",
            "Iteration No: 19 started. Searching for the next optimal point.\n"
          ],
          "name": "stdout"
        },
        {
          "output_type": "stream",
          "text": [
            "Epoch: 100%|██████████| 20/20 [00:06<00:00,  3.03it/s]\n",
            "Epoch:   0%|          | 0/21 [00:00<?, ?it/s]"
          ],
          "name": "stderr"
        },
        {
          "output_type": "stream",
          "text": [
            "Iteration No: 19 ended. Search finished for the next optimal point.\n",
            "Time taken: 7.2163\n",
            "Function value obtained: -0.0665\n",
            "Current minimum: -0.0711\n",
            "Iteration No: 20 started. Searching for the next optimal point.\n"
          ],
          "name": "stdout"
        },
        {
          "output_type": "stream",
          "text": [
            "Epoch: 100%|██████████| 21/21 [00:07<00:00,  2.65it/s]\n",
            "Epoch:   0%|          | 0/20 [00:00<?, ?it/s]"
          ],
          "name": "stderr"
        },
        {
          "output_type": "stream",
          "text": [
            "Iteration No: 20 ended. Search finished for the next optimal point.\n",
            "Time taken: 8.5898\n",
            "Function value obtained: -0.0229\n",
            "Current minimum: -0.0711\n",
            "Iteration No: 21 started. Searching for the next optimal point.\n"
          ],
          "name": "stdout"
        },
        {
          "output_type": "stream",
          "text": [
            "Epoch: 100%|██████████| 20/20 [00:08<00:00,  2.36it/s]\n",
            "Epoch:   0%|          | 0/20 [00:00<?, ?it/s]"
          ],
          "name": "stderr"
        },
        {
          "output_type": "stream",
          "text": [
            "Iteration No: 21 ended. Search finished for the next optimal point.\n",
            "Time taken: 9.1831\n",
            "Function value obtained: -0.0632\n",
            "Current minimum: -0.0711\n",
            "Iteration No: 22 started. Searching for the next optimal point.\n"
          ],
          "name": "stdout"
        },
        {
          "output_type": "stream",
          "text": [
            "Epoch: 100%|██████████| 20/20 [00:06<00:00,  3.13it/s]\n",
            "Epoch:   0%|          | 0/32 [00:00<?, ?it/s]"
          ],
          "name": "stderr"
        },
        {
          "output_type": "stream",
          "text": [
            "Iteration No: 22 ended. Search finished for the next optimal point.\n",
            "Time taken: 6.9661\n",
            "Function value obtained: -0.0682\n",
            "Current minimum: -0.0711\n",
            "Iteration No: 23 started. Searching for the next optimal point.\n"
          ],
          "name": "stdout"
        },
        {
          "output_type": "stream",
          "text": [
            "Epoch: 100%|██████████| 32/32 [00:11<00:00,  2.90it/s]\n",
            "Epoch:   0%|          | 0/20 [00:00<?, ?it/s]"
          ],
          "name": "stderr"
        },
        {
          "output_type": "stream",
          "text": [
            "Iteration No: 23 ended. Search finished for the next optimal point.\n",
            "Time taken: 11.6400\n",
            "Function value obtained: -0.0640\n",
            "Current minimum: -0.0711\n",
            "Iteration No: 24 started. Searching for the next optimal point.\n"
          ],
          "name": "stdout"
        },
        {
          "output_type": "stream",
          "text": [
            "Epoch: 100%|██████████| 20/20 [00:05<00:00,  3.64it/s]\n",
            "Epoch:   0%|          | 0/21 [00:00<?, ?it/s]"
          ],
          "name": "stderr"
        },
        {
          "output_type": "stream",
          "text": [
            "Iteration No: 24 ended. Search finished for the next optimal point.\n",
            "Time taken: 6.0318\n",
            "Function value obtained: -0.0748\n",
            "Current minimum: -0.0748\n",
            "Iteration No: 25 started. Searching for the next optimal point.\n"
          ],
          "name": "stdout"
        },
        {
          "output_type": "stream",
          "text": [
            "Epoch: 100%|██████████| 21/21 [00:05<00:00,  3.76it/s]\n",
            "Epoch:   0%|          | 0/20 [00:00<?, ?it/s]"
          ],
          "name": "stderr"
        },
        {
          "output_type": "stream",
          "text": [
            "Iteration No: 25 ended. Search finished for the next optimal point.\n",
            "Time taken: 6.1211\n",
            "Function value obtained: -0.0674\n",
            "Current minimum: -0.0748\n",
            "Iteration No: 26 started. Searching for the next optimal point.\n"
          ],
          "name": "stdout"
        },
        {
          "output_type": "stream",
          "text": [
            "Epoch: 100%|██████████| 20/20 [00:05<00:00,  3.77it/s]\n",
            "Epoch:   0%|          | 0/20 [00:00<?, ?it/s]"
          ],
          "name": "stderr"
        },
        {
          "output_type": "stream",
          "text": [
            "Iteration No: 26 ended. Search finished for the next optimal point.\n",
            "Time taken: 5.8314\n",
            "Function value obtained: -0.0545\n",
            "Current minimum: -0.0748\n",
            "Iteration No: 27 started. Searching for the next optimal point.\n"
          ],
          "name": "stdout"
        },
        {
          "output_type": "stream",
          "text": [
            "Epoch: 100%|██████████| 20/20 [00:06<00:00,  3.20it/s]\n",
            "Epoch:   0%|          | 0/20 [00:00<?, ?it/s]"
          ],
          "name": "stderr"
        },
        {
          "output_type": "stream",
          "text": [
            "Iteration No: 27 ended. Search finished for the next optimal point.\n",
            "Time taken: 6.9473\n",
            "Function value obtained: -0.0046\n",
            "Current minimum: -0.0748\n",
            "Iteration No: 28 started. Searching for the next optimal point.\n"
          ],
          "name": "stdout"
        },
        {
          "output_type": "stream",
          "text": [
            "Epoch: 100%|██████████| 20/20 [00:06<00:00,  3.22it/s]\n",
            "Epoch:   0%|          | 0/21 [00:00<?, ?it/s]"
          ],
          "name": "stderr"
        },
        {
          "output_type": "stream",
          "text": [
            "Iteration No: 28 ended. Search finished for the next optimal point.\n",
            "Time taken: 6.7948\n",
            "Function value obtained: -0.0661\n",
            "Current minimum: -0.0748\n",
            "Iteration No: 29 started. Searching for the next optimal point.\n"
          ],
          "name": "stdout"
        },
        {
          "output_type": "stream",
          "text": [
            "Epoch: 100%|██████████| 21/21 [00:06<00:00,  3.46it/s]\n",
            "Epoch:   0%|          | 0/47 [00:00<?, ?it/s]"
          ],
          "name": "stderr"
        },
        {
          "output_type": "stream",
          "text": [
            "Iteration No: 29 ended. Search finished for the next optimal point.\n",
            "Time taken: 6.6270\n",
            "Function value obtained: -0.0428\n",
            "Current minimum: -0.0748\n",
            "Iteration No: 30 started. Searching for the next optimal point.\n"
          ],
          "name": "stdout"
        },
        {
          "output_type": "stream",
          "text": [
            "Epoch: 100%|██████████| 47/47 [00:14<00:00,  3.22it/s]\n",
            "Epoch:   0%|          | 0/6 [00:00<?, ?it/s]"
          ],
          "name": "stderr"
        },
        {
          "output_type": "stream",
          "text": [
            "Iteration No: 30 ended. Search finished for the next optimal point.\n",
            "Time taken: 15.2005\n",
            "Function value obtained: -0.0632\n",
            "Current minimum: -0.0748\n",
            "Iteration No: 31 started. Searching for the next optimal point.\n"
          ],
          "name": "stdout"
        },
        {
          "output_type": "stream",
          "text": [
            "Epoch: 100%|██████████| 6/6 [00:01<00:00,  3.16it/s]\n",
            "Epoch:   2%|▏         | 1/46 [00:00<00:06,  6.97it/s]"
          ],
          "name": "stderr"
        },
        {
          "output_type": "stream",
          "text": [
            "Iteration No: 31 ended. Search finished for the next optimal point.\n",
            "Time taken: 2.4900\n",
            "Function value obtained: -0.0557\n",
            "Current minimum: -0.0748\n",
            "Iteration No: 32 started. Searching for the next optimal point.\n"
          ],
          "name": "stdout"
        },
        {
          "output_type": "stream",
          "text": [
            "Epoch: 100%|██████████| 46/46 [00:06<00:00,  7.48it/s]\n",
            "Epoch:   0%|          | 0/19 [00:00<?, ?it/s]"
          ],
          "name": "stderr"
        },
        {
          "output_type": "stream",
          "text": [
            "Iteration No: 32 ended. Search finished for the next optimal point.\n",
            "Time taken: 6.5287\n",
            "Function value obtained: -0.0640\n",
            "Current minimum: -0.0748\n",
            "Iteration No: 33 started. Searching for the next optimal point.\n"
          ],
          "name": "stdout"
        },
        {
          "output_type": "stream",
          "text": [
            "Epoch: 100%|██████████| 19/19 [00:05<00:00,  3.48it/s]\n",
            "Epoch:   0%|          | 0/33 [00:00<?, ?it/s]"
          ],
          "name": "stderr"
        },
        {
          "output_type": "stream",
          "text": [
            "Iteration No: 33 ended. Search finished for the next optimal point.\n",
            "Time taken: 6.0373\n",
            "Function value obtained: -0.0582\n",
            "Current minimum: -0.0748\n",
            "Iteration No: 34 started. Searching for the next optimal point.\n"
          ],
          "name": "stdout"
        },
        {
          "output_type": "stream",
          "text": [
            "Epoch: 100%|██████████| 33/33 [00:10<00:00,  3.18it/s]\n",
            "Epoch:   0%|          | 0/20 [00:00<?, ?it/s]"
          ],
          "name": "stderr"
        },
        {
          "output_type": "stream",
          "text": [
            "Iteration No: 34 ended. Search finished for the next optimal point.\n",
            "Time taken: 10.9827\n",
            "Function value obtained: -0.0545\n",
            "Current minimum: -0.0748\n",
            "Iteration No: 35 started. Searching for the next optimal point.\n"
          ],
          "name": "stdout"
        },
        {
          "output_type": "stream",
          "text": [
            "Epoch: 100%|██████████| 20/20 [00:07<00:00,  2.85it/s]\n",
            "Epoch:   0%|          | 0/20 [00:00<?, ?it/s]"
          ],
          "name": "stderr"
        },
        {
          "output_type": "stream",
          "text": [
            "Iteration No: 35 ended. Search finished for the next optimal point.\n",
            "Time taken: 7.6930\n",
            "Function value obtained: -0.0453\n",
            "Current minimum: -0.0748\n",
            "Iteration No: 36 started. Searching for the next optimal point.\n"
          ],
          "name": "stdout"
        },
        {
          "output_type": "stream",
          "text": [
            "Epoch: 100%|██████████| 20/20 [00:04<00:00,  4.91it/s]\n",
            "Epoch:   0%|          | 0/30 [00:00<?, ?it/s]"
          ],
          "name": "stderr"
        },
        {
          "output_type": "stream",
          "text": [
            "Iteration No: 36 ended. Search finished for the next optimal point.\n",
            "Time taken: 4.6338\n",
            "Function value obtained: -0.0595\n",
            "Current minimum: -0.0748\n",
            "Iteration No: 37 started. Searching for the next optimal point.\n"
          ],
          "name": "stdout"
        },
        {
          "output_type": "stream",
          "text": [
            "Epoch: 100%|██████████| 30/30 [00:07<00:00,  3.78it/s]\n",
            "Epoch:   0%|          | 0/49 [00:00<?, ?it/s]"
          ],
          "name": "stderr"
        },
        {
          "output_type": "stream",
          "text": [
            "Iteration No: 37 ended. Search finished for the next optimal point.\n",
            "Time taken: 8.4828\n",
            "Function value obtained: -0.0657\n",
            "Current minimum: -0.0748\n",
            "Iteration No: 38 started. Searching for the next optimal point.\n"
          ],
          "name": "stdout"
        },
        {
          "output_type": "stream",
          "text": [
            "Epoch: 100%|██████████| 49/49 [00:12<00:00,  4.03it/s]\n",
            "Epoch:   0%|          | 0/44 [00:00<?, ?it/s]"
          ],
          "name": "stderr"
        },
        {
          "output_type": "stream",
          "text": [
            "Iteration No: 38 ended. Search finished for the next optimal point.\n",
            "Time taken: 12.6931\n",
            "Function value obtained: -0.0640\n",
            "Current minimum: -0.0748\n",
            "Iteration No: 39 started. Searching for the next optimal point.\n"
          ],
          "name": "stdout"
        },
        {
          "output_type": "stream",
          "text": [
            "Epoch: 100%|██████████| 44/44 [00:12<00:00,  3.45it/s]\n",
            "Epoch:   0%|          | 0/44 [00:00<?, ?it/s]"
          ],
          "name": "stderr"
        },
        {
          "output_type": "stream",
          "text": [
            "Iteration No: 39 ended. Search finished for the next optimal point.\n",
            "Time taken: 13.3211\n",
            "Function value obtained: -0.0008\n",
            "Current minimum: -0.0748\n",
            "Iteration No: 40 started. Searching for the next optimal point.\n"
          ],
          "name": "stdout"
        },
        {
          "output_type": "stream",
          "text": [
            "Epoch: 100%|██████████| 44/44 [00:10<00:00,  4.21it/s]\n",
            "Epoch:   0%|          | 0/36 [00:00<?, ?it/s]"
          ],
          "name": "stderr"
        },
        {
          "output_type": "stream",
          "text": [
            "Iteration No: 40 ended. Search finished for the next optimal point.\n",
            "Time taken: 10.9773\n",
            "Function value obtained: -0.0395\n",
            "Current minimum: -0.0748\n",
            "Iteration No: 41 started. Searching for the next optimal point.\n"
          ],
          "name": "stdout"
        },
        {
          "output_type": "stream",
          "text": [
            "Epoch: 100%|██████████| 36/36 [00:10<00:00,  3.53it/s]\n",
            "Epoch:   0%|          | 0/48 [00:00<?, ?it/s]"
          ],
          "name": "stderr"
        },
        {
          "output_type": "stream",
          "text": [
            "Iteration No: 41 ended. Search finished for the next optimal point.\n",
            "Time taken: 10.7916\n",
            "Function value obtained: -0.0611\n",
            "Current minimum: -0.0748\n",
            "Iteration No: 42 started. Searching for the next optimal point.\n"
          ],
          "name": "stdout"
        },
        {
          "output_type": "stream",
          "text": [
            "Epoch: 100%|██████████| 48/48 [00:14<00:00,  3.38it/s]\n",
            "Epoch:   0%|          | 0/47 [00:00<?, ?it/s]"
          ],
          "name": "stderr"
        },
        {
          "output_type": "stream",
          "text": [
            "Iteration No: 42 ended. Search finished for the next optimal point.\n",
            "Time taken: 14.7740\n",
            "Function value obtained: -0.0699\n",
            "Current minimum: -0.0748\n",
            "Iteration No: 43 started. Searching for the next optimal point.\n"
          ],
          "name": "stdout"
        },
        {
          "output_type": "stream",
          "text": [
            "Epoch: 100%|██████████| 47/47 [00:14<00:00,  3.35it/s]\n",
            "Epoch:   0%|          | 0/45 [00:00<?, ?it/s]"
          ],
          "name": "stderr"
        },
        {
          "output_type": "stream",
          "text": [
            "Iteration No: 43 ended. Search finished for the next optimal point.\n",
            "Time taken: 14.6509\n",
            "Function value obtained: -0.0561\n",
            "Current minimum: -0.0748\n",
            "Iteration No: 44 started. Searching for the next optimal point.\n"
          ],
          "name": "stdout"
        },
        {
          "output_type": "stream",
          "text": [
            "Epoch: 100%|██████████| 45/45 [00:14<00:00,  3.03it/s]\n",
            "Epoch:   0%|          | 0/50 [00:00<?, ?it/s]"
          ],
          "name": "stderr"
        },
        {
          "output_type": "stream",
          "text": [
            "Iteration No: 44 ended. Search finished for the next optimal point.\n",
            "Time taken: 15.4964\n",
            "Function value obtained: -0.0557\n",
            "Current minimum: -0.0748\n",
            "Iteration No: 45 started. Searching for the next optimal point.\n"
          ],
          "name": "stdout"
        },
        {
          "output_type": "stream",
          "text": [
            "Epoch: 100%|██████████| 50/50 [00:24<00:00,  2.08it/s]\n",
            "Epoch:   0%|          | 0/24 [00:00<?, ?it/s]"
          ],
          "name": "stderr"
        },
        {
          "output_type": "stream",
          "text": [
            "Iteration No: 45 ended. Search finished for the next optimal point.\n",
            "Time taken: 25.0051\n",
            "Function value obtained: -0.0004\n",
            "Current minimum: -0.0748\n",
            "Iteration No: 46 started. Searching for the next optimal point.\n"
          ],
          "name": "stdout"
        },
        {
          "output_type": "stream",
          "text": [
            "Epoch: 100%|██████████| 24/24 [00:10<00:00,  2.28it/s]\n",
            "Epoch:   0%|          | 0/43 [00:00<?, ?it/s]"
          ],
          "name": "stderr"
        },
        {
          "output_type": "stream",
          "text": [
            "Iteration No: 46 ended. Search finished for the next optimal point.\n",
            "Time taken: 11.2693\n",
            "Function value obtained: -0.0661\n",
            "Current minimum: -0.0748\n",
            "Iteration No: 47 started. Searching for the next optimal point.\n"
          ],
          "name": "stdout"
        },
        {
          "output_type": "stream",
          "text": [
            "Epoch: 100%|██████████| 43/43 [00:19<00:00,  2.18it/s]\n",
            "Epoch:   0%|          | 0/38 [00:00<?, ?it/s]"
          ],
          "name": "stderr"
        },
        {
          "output_type": "stream",
          "text": [
            "Iteration No: 47 ended. Search finished for the next optimal point.\n",
            "Time taken: 20.4764\n",
            "Function value obtained: -0.0636\n",
            "Current minimum: -0.0748\n",
            "Iteration No: 48 started. Searching for the next optimal point.\n"
          ],
          "name": "stdout"
        },
        {
          "output_type": "stream",
          "text": [
            "Epoch: 100%|██████████| 38/38 [00:18<00:00,  2.11it/s]\n",
            "Epoch:   0%|          | 0/42 [00:00<?, ?it/s]"
          ],
          "name": "stderr"
        },
        {
          "output_type": "stream",
          "text": [
            "Iteration No: 48 ended. Search finished for the next optimal point.\n",
            "Time taken: 18.8185\n",
            "Function value obtained: -0.0661\n",
            "Current minimum: -0.0748\n",
            "Iteration No: 49 started. Searching for the next optimal point.\n"
          ],
          "name": "stdout"
        },
        {
          "output_type": "stream",
          "text": [
            "Epoch: 100%|██████████| 42/42 [00:19<00:00,  2.13it/s]\n",
            "Epoch:   0%|          | 0/46 [00:00<?, ?it/s]"
          ],
          "name": "stderr"
        },
        {
          "output_type": "stream",
          "text": [
            "Iteration No: 49 ended. Search finished for the next optimal point.\n",
            "Time taken: 20.5496\n",
            "Function value obtained: -0.0607\n",
            "Current minimum: -0.0748\n",
            "Iteration No: 50 started. Searching for the next optimal point.\n"
          ],
          "name": "stdout"
        },
        {
          "output_type": "stream",
          "text": [
            "Epoch: 100%|██████████| 46/46 [00:21<00:00,  2.11it/s]\n",
            "Epoch:   0%|          | 0/49 [00:00<?, ?it/s]"
          ],
          "name": "stderr"
        },
        {
          "output_type": "stream",
          "text": [
            "Iteration No: 50 ended. Search finished for the next optimal point.\n",
            "Time taken: 22.5928\n",
            "Function value obtained: -0.0640\n",
            "Current minimum: -0.0748\n",
            "Iteration No: 51 started. Searching for the next optimal point.\n"
          ],
          "name": "stdout"
        },
        {
          "output_type": "stream",
          "text": [
            "Epoch: 100%|██████████| 49/49 [00:19<00:00,  2.50it/s]\n",
            "Epoch:   0%|          | 0/50 [00:00<?, ?it/s]"
          ],
          "name": "stderr"
        },
        {
          "output_type": "stream",
          "text": [
            "Iteration No: 51 ended. Search finished for the next optimal point.\n",
            "Time taken: 20.3686\n",
            "Function value obtained: -0.0000\n",
            "Current minimum: -0.0748\n",
            "Iteration No: 52 started. Searching for the next optimal point.\n"
          ],
          "name": "stdout"
        },
        {
          "output_type": "stream",
          "text": [
            "Epoch: 100%|██████████| 50/50 [00:21<00:00,  2.31it/s]\n",
            "Epoch:   0%|          | 0/49 [00:00<?, ?it/s]"
          ],
          "name": "stderr"
        },
        {
          "output_type": "stream",
          "text": [
            "Iteration No: 52 ended. Search finished for the next optimal point.\n",
            "Time taken: 22.3738\n",
            "Function value obtained: -0.0603\n",
            "Current minimum: -0.0748\n",
            "Iteration No: 53 started. Searching for the next optimal point.\n"
          ],
          "name": "stdout"
        },
        {
          "output_type": "stream",
          "text": [
            "Epoch: 100%|██████████| 49/49 [00:20<00:00,  2.38it/s]\n",
            "Epoch:   0%|          | 0/38 [00:00<?, ?it/s]"
          ],
          "name": "stderr"
        },
        {
          "output_type": "stream",
          "text": [
            "Iteration No: 53 ended. Search finished for the next optimal point.\n",
            "Time taken: 21.3419\n",
            "Function value obtained: -0.0640\n",
            "Current minimum: -0.0748\n",
            "Iteration No: 54 started. Searching for the next optimal point.\n"
          ],
          "name": "stdout"
        },
        {
          "output_type": "stream",
          "text": [
            "Epoch: 100%|██████████| 38/38 [00:17<00:00,  2.16it/s]\n",
            "Epoch:   0%|          | 0/24 [00:00<?, ?it/s]"
          ],
          "name": "stderr"
        },
        {
          "output_type": "stream",
          "text": [
            "Iteration No: 54 ended. Search finished for the next optimal point.\n",
            "Time taken: 18.3604\n",
            "Function value obtained: -0.0445\n",
            "Current minimum: -0.0748\n",
            "Iteration No: 55 started. Searching for the next optimal point.\n"
          ],
          "name": "stdout"
        },
        {
          "output_type": "stream",
          "text": [
            "Epoch: 100%|██████████| 24/24 [00:10<00:00,  2.32it/s]\n",
            "Epoch:   0%|          | 0/49 [00:00<?, ?it/s]"
          ],
          "name": "stderr"
        },
        {
          "output_type": "stream",
          "text": [
            "Iteration No: 55 ended. Search finished for the next optimal point.\n",
            "Time taken: 11.0860\n",
            "Function value obtained: -0.0549\n",
            "Current minimum: -0.0748\n",
            "Iteration No: 56 started. Searching for the next optimal point.\n"
          ],
          "name": "stdout"
        },
        {
          "output_type": "stream",
          "text": [
            "Epoch: 100%|██████████| 49/49 [00:23<00:00,  2.10it/s]\n",
            "Epoch:   0%|          | 0/48 [00:00<?, ?it/s]"
          ],
          "name": "stderr"
        },
        {
          "output_type": "stream",
          "text": [
            "Iteration No: 56 ended. Search finished for the next optimal point.\n",
            "Time taken: 24.2022\n",
            "Function value obtained: -0.0640\n",
            "Current minimum: -0.0748\n",
            "Iteration No: 57 started. Searching for the next optimal point.\n"
          ],
          "name": "stdout"
        },
        {
          "output_type": "stream",
          "text": [
            "Epoch: 100%|██████████| 48/48 [00:13<00:00,  3.49it/s]\n",
            "Epoch:   0%|          | 0/43 [00:00<?, ?it/s]"
          ],
          "name": "stderr"
        },
        {
          "output_type": "stream",
          "text": [
            "Iteration No: 57 ended. Search finished for the next optimal point.\n",
            "Time taken: 14.3267\n",
            "Function value obtained: -0.0582\n",
            "Current minimum: -0.0748\n",
            "Iteration No: 58 started. Searching for the next optimal point.\n"
          ],
          "name": "stdout"
        },
        {
          "output_type": "stream",
          "text": [
            "Epoch: 100%|██████████| 43/43 [00:20<00:00,  2.11it/s]\n",
            "Epoch:   0%|          | 0/48 [00:00<?, ?it/s]"
          ],
          "name": "stderr"
        },
        {
          "output_type": "stream",
          "text": [
            "Iteration No: 58 ended. Search finished for the next optimal point.\n",
            "Time taken: 21.2084\n",
            "Function value obtained: -0.0611\n",
            "Current minimum: -0.0748\n",
            "Iteration No: 59 started. Searching for the next optimal point.\n"
          ],
          "name": "stdout"
        },
        {
          "output_type": "stream",
          "text": [
            "Epoch: 100%|██████████| 48/48 [00:19<00:00,  2.52it/s]\n",
            "Epoch:   0%|          | 0/50 [00:00<?, ?it/s]"
          ],
          "name": "stderr"
        },
        {
          "output_type": "stream",
          "text": [
            "Iteration No: 59 ended. Search finished for the next optimal point.\n",
            "Time taken: 19.7897\n",
            "Function value obtained: -0.0258\n",
            "Current minimum: -0.0748\n",
            "Iteration No: 60 started. Searching for the next optimal point.\n"
          ],
          "name": "stdout"
        },
        {
          "output_type": "stream",
          "text": [
            "Epoch: 100%|██████████| 50/50 [00:05<00:00,  9.77it/s]\n",
            "Epoch:   0%|          | 0/22 [00:00<?, ?it/s]"
          ],
          "name": "stderr"
        },
        {
          "output_type": "stream",
          "text": [
            "Iteration No: 60 ended. Search finished for the next optimal point.\n",
            "Time taken: 5.4789\n",
            "Function value obtained: -0.0428\n",
            "Current minimum: -0.0748\n",
            "Iteration No: 61 started. Searching for the next optimal point.\n"
          ],
          "name": "stdout"
        },
        {
          "output_type": "stream",
          "text": [
            "Epoch: 100%|██████████| 22/22 [00:06<00:00,  3.41it/s]\n",
            "Epoch:   0%|          | 0/48 [00:00<?, ?it/s]"
          ],
          "name": "stderr"
        },
        {
          "output_type": "stream",
          "text": [
            "Iteration No: 61 ended. Search finished for the next optimal point.\n",
            "Time taken: 7.0539\n",
            "Function value obtained: -0.0387\n",
            "Current minimum: -0.0748\n",
            "Iteration No: 62 started. Searching for the next optimal point.\n"
          ],
          "name": "stdout"
        },
        {
          "output_type": "stream",
          "text": [
            "Epoch: 100%|██████████| 48/48 [00:21<00:00,  2.27it/s]\n",
            "Epoch:   0%|          | 0/49 [00:00<?, ?it/s]"
          ],
          "name": "stderr"
        },
        {
          "output_type": "stream",
          "text": [
            "Iteration No: 62 ended. Search finished for the next optimal point.\n",
            "Time taken: 21.9530\n",
            "Function value obtained: -0.0249\n",
            "Current minimum: -0.0748\n",
            "Iteration No: 63 started. Searching for the next optimal point.\n"
          ],
          "name": "stdout"
        },
        {
          "output_type": "stream",
          "text": [
            "Epoch: 100%|██████████| 49/49 [00:23<00:00,  2.11it/s]\n",
            "Epoch:   0%|          | 0/50 [00:00<?, ?it/s]"
          ],
          "name": "stderr"
        },
        {
          "output_type": "stream",
          "text": [
            "Iteration No: 63 ended. Search finished for the next optimal point.\n",
            "Time taken: 24.0744\n",
            "Function value obtained: -0.0628\n",
            "Current minimum: -0.0748\n",
            "Iteration No: 64 started. Searching for the next optimal point.\n"
          ],
          "name": "stdout"
        },
        {
          "output_type": "stream",
          "text": [
            "Epoch: 100%|██████████| 50/50 [00:21<00:00,  2.37it/s]\n",
            "Epoch:   0%|          | 0/49 [00:00<?, ?it/s]"
          ],
          "name": "stderr"
        },
        {
          "output_type": "stream",
          "text": [
            "Iteration No: 64 ended. Search finished for the next optimal point.\n",
            "Time taken: 21.8836\n",
            "Function value obtained: -0.0661\n",
            "Current minimum: -0.0748\n",
            "Iteration No: 65 started. Searching for the next optimal point.\n"
          ],
          "name": "stdout"
        },
        {
          "output_type": "stream",
          "text": [
            "Epoch: 100%|██████████| 49/49 [00:23<00:00,  2.12it/s]\n",
            "Epoch:   0%|          | 0/48 [00:00<?, ?it/s]"
          ],
          "name": "stderr"
        },
        {
          "output_type": "stream",
          "text": [
            "Iteration No: 65 ended. Search finished for the next optimal point.\n",
            "Time taken: 23.9991\n",
            "Function value obtained: -0.0615\n",
            "Current minimum: -0.0748\n",
            "Iteration No: 66 started. Searching for the next optimal point.\n"
          ],
          "name": "stdout"
        },
        {
          "output_type": "stream",
          "text": [
            "Epoch: 100%|██████████| 48/48 [00:19<00:00,  2.42it/s]\n",
            "Epoch:   0%|          | 0/13 [00:00<?, ?it/s]"
          ],
          "name": "stderr"
        },
        {
          "output_type": "stream",
          "text": [
            "Iteration No: 66 ended. Search finished for the next optimal point.\n",
            "Time taken: 20.5560\n",
            "Function value obtained: -0.0407\n",
            "Current minimum: -0.0748\n",
            "Iteration No: 67 started. Searching for the next optimal point.\n"
          ],
          "name": "stdout"
        },
        {
          "output_type": "stream",
          "text": [
            "Epoch: 100%|██████████| 13/13 [00:03<00:00,  3.75it/s]\n",
            "Epoch:   0%|          | 0/27 [00:00<?, ?it/s]"
          ],
          "name": "stderr"
        },
        {
          "output_type": "stream",
          "text": [
            "Iteration No: 67 ended. Search finished for the next optimal point.\n",
            "Time taken: 4.0277\n",
            "Function value obtained: -0.0416\n",
            "Current minimum: -0.0748\n",
            "Iteration No: 68 started. Searching for the next optimal point.\n"
          ],
          "name": "stdout"
        },
        {
          "output_type": "stream",
          "text": [
            "Epoch: 100%|██████████| 27/27 [00:08<00:00,  3.03it/s]\n",
            "Epoch:   0%|          | 0/48 [00:00<?, ?it/s]"
          ],
          "name": "stderr"
        },
        {
          "output_type": "stream",
          "text": [
            "Iteration No: 68 ended. Search finished for the next optimal point.\n",
            "Time taken: 9.5451\n",
            "Function value obtained: -0.0457\n",
            "Current minimum: -0.0748\n",
            "Iteration No: 69 started. Searching for the next optimal point.\n"
          ],
          "name": "stdout"
        },
        {
          "output_type": "stream",
          "text": [
            "Epoch: 100%|██████████| 48/48 [00:10<00:00,  4.56it/s]\n",
            "Epoch:   0%|          | 0/50 [00:00<?, ?it/s]"
          ],
          "name": "stderr"
        },
        {
          "output_type": "stream",
          "text": [
            "Iteration No: 69 ended. Search finished for the next optimal point.\n",
            "Time taken: 11.0210\n",
            "Function value obtained: -0.0678\n",
            "Current minimum: -0.0748\n",
            "Iteration No: 70 started. Searching for the next optimal point.\n"
          ],
          "name": "stdout"
        },
        {
          "output_type": "stream",
          "text": [
            "Epoch: 100%|██████████| 50/50 [00:17<00:00,  2.86it/s]\n",
            "Epoch:   0%|          | 0/49 [00:00<?, ?it/s]"
          ],
          "name": "stderr"
        },
        {
          "output_type": "stream",
          "text": [
            "Iteration No: 70 ended. Search finished for the next optimal point.\n",
            "Time taken: 18.1423\n",
            "Function value obtained: -0.0432\n",
            "Current minimum: -0.0748\n",
            "Iteration No: 71 started. Searching for the next optimal point.\n"
          ],
          "name": "stdout"
        },
        {
          "output_type": "stream",
          "text": [
            "Epoch: 100%|██████████| 49/49 [00:22<00:00,  2.14it/s]\n",
            "Epoch:   0%|          | 0/46 [00:00<?, ?it/s]"
          ],
          "name": "stderr"
        },
        {
          "output_type": "stream",
          "text": [
            "Iteration No: 71 ended. Search finished for the next optimal point.\n",
            "Time taken: 23.6563\n",
            "Function value obtained: -0.0690\n",
            "Current minimum: -0.0748\n",
            "Iteration No: 72 started. Searching for the next optimal point.\n"
          ],
          "name": "stdout"
        },
        {
          "output_type": "stream",
          "text": [
            "Epoch: 100%|██████████| 46/46 [00:19<00:00,  2.35it/s]\n",
            "Epoch:   0%|          | 0/49 [00:00<?, ?it/s]"
          ],
          "name": "stderr"
        },
        {
          "output_type": "stream",
          "text": [
            "Iteration No: 72 ended. Search finished for the next optimal point.\n",
            "Time taken: 20.3523\n",
            "Function value obtained: -0.0158\n",
            "Current minimum: -0.0748\n",
            "Iteration No: 73 started. Searching for the next optimal point.\n"
          ],
          "name": "stdout"
        },
        {
          "output_type": "stream",
          "text": [
            "Epoch: 100%|██████████| 49/49 [00:13<00:00,  3.58it/s]\n",
            "Epoch:   0%|          | 0/45 [00:00<?, ?it/s]"
          ],
          "name": "stderr"
        },
        {
          "output_type": "stream",
          "text": [
            "Iteration No: 73 ended. Search finished for the next optimal point.\n",
            "Time taken: 14.3178\n",
            "Function value obtained: -0.0195\n",
            "Current minimum: -0.0748\n",
            "Iteration No: 74 started. Searching for the next optimal point.\n"
          ],
          "name": "stdout"
        },
        {
          "output_type": "stream",
          "text": [
            "Epoch: 100%|██████████| 45/45 [00:21<00:00,  2.08it/s]\n",
            "Epoch:   4%|▍         | 2/49 [00:00<00:03, 13.60it/s]"
          ],
          "name": "stderr"
        },
        {
          "output_type": "stream",
          "text": [
            "Iteration No: 74 ended. Search finished for the next optimal point.\n",
            "Time taken: 22.4384\n",
            "Function value obtained: -0.0299\n",
            "Current minimum: -0.0748\n",
            "Iteration No: 75 started. Searching for the next optimal point.\n"
          ],
          "name": "stdout"
        },
        {
          "output_type": "stream",
          "text": [
            "Epoch: 100%|██████████| 49/49 [00:03<00:00, 13.19it/s]\n",
            "Epoch:   4%|▍         | 2/50 [00:00<00:03, 13.87it/s]"
          ],
          "name": "stderr"
        },
        {
          "output_type": "stream",
          "text": [
            "Iteration No: 75 ended. Search finished for the next optimal point.\n",
            "Time taken: 4.0412\n",
            "Function value obtained: -0.0744\n",
            "Current minimum: -0.0748\n",
            "Iteration No: 76 started. Searching for the next optimal point.\n"
          ],
          "name": "stdout"
        },
        {
          "output_type": "stream",
          "text": [
            "Epoch: 100%|██████████| 50/50 [00:03<00:00, 14.36it/s]\n",
            "Epoch:   2%|▏         | 1/46 [00:00<00:06,  6.96it/s]"
          ],
          "name": "stderr"
        },
        {
          "output_type": "stream",
          "text": [
            "Iteration No: 76 ended. Search finished for the next optimal point.\n",
            "Time taken: 3.8975\n",
            "Function value obtained: -0.0657\n",
            "Current minimum: -0.0748\n",
            "Iteration No: 77 started. Searching for the next optimal point.\n"
          ],
          "name": "stdout"
        },
        {
          "output_type": "stream",
          "text": [
            "Epoch: 100%|██████████| 46/46 [00:05<00:00,  7.72it/s]\n",
            "Epoch:   2%|▏         | 1/46 [00:00<00:06,  6.88it/s]"
          ],
          "name": "stderr"
        },
        {
          "output_type": "stream",
          "text": [
            "Iteration No: 77 ended. Search finished for the next optimal point.\n",
            "Time taken: 6.3607\n",
            "Function value obtained: -0.0212\n",
            "Current minimum: -0.0748\n",
            "Iteration No: 78 started. Searching for the next optimal point.\n"
          ],
          "name": "stdout"
        },
        {
          "output_type": "stream",
          "text": [
            "Epoch: 100%|██████████| 46/46 [00:06<00:00,  6.95it/s]\n",
            "Epoch:   0%|          | 0/20 [00:00<?, ?it/s]"
          ],
          "name": "stderr"
        },
        {
          "output_type": "stream",
          "text": [
            "Iteration No: 78 ended. Search finished for the next optimal point.\n",
            "Time taken: 7.0448\n",
            "Function value obtained: -0.0387\n",
            "Current minimum: -0.0748\n",
            "Iteration No: 79 started. Searching for the next optimal point.\n"
          ],
          "name": "stdout"
        },
        {
          "output_type": "stream",
          "text": [
            "Epoch: 100%|██████████| 20/20 [00:09<00:00,  2.18it/s]\n",
            "Epoch:   0%|          | 0/50 [00:00<?, ?it/s]"
          ],
          "name": "stderr"
        },
        {
          "output_type": "stream",
          "text": [
            "Iteration No: 79 ended. Search finished for the next optimal point.\n",
            "Time taken: 9.9695\n",
            "Function value obtained: -0.0644\n",
            "Current minimum: -0.0748\n",
            "Iteration No: 80 started. Searching for the next optimal point.\n"
          ],
          "name": "stdout"
        },
        {
          "output_type": "stream",
          "text": [
            "Epoch: 100%|██████████| 50/50 [00:17<00:00,  2.91it/s]\n",
            "Epoch:   0%|          | 0/49 [00:00<?, ?it/s]"
          ],
          "name": "stderr"
        },
        {
          "output_type": "stream",
          "text": [
            "Iteration No: 80 ended. Search finished for the next optimal point.\n",
            "Time taken: 17.8497\n",
            "Function value obtained: -0.0628\n",
            "Current minimum: -0.0748\n",
            "Iteration No: 81 started. Searching for the next optimal point.\n"
          ],
          "name": "stdout"
        },
        {
          "output_type": "stream",
          "text": [
            "Epoch: 100%|██████████| 49/49 [00:20<00:00,  2.41it/s]\n",
            "Epoch:   0%|          | 0/43 [00:00<?, ?it/s]"
          ],
          "name": "stderr"
        },
        {
          "output_type": "stream",
          "text": [
            "Iteration No: 81 ended. Search finished for the next optimal point.\n",
            "Time taken: 21.0610\n",
            "Function value obtained: -0.0607\n",
            "Current minimum: -0.0748\n",
            "Iteration No: 82 started. Searching for the next optimal point.\n"
          ],
          "name": "stdout"
        },
        {
          "output_type": "stream",
          "text": [
            "Epoch: 100%|██████████| 43/43 [00:11<00:00,  3.82it/s]\n",
            "Epoch:   0%|          | 0/46 [00:00<?, ?it/s]"
          ],
          "name": "stderr"
        },
        {
          "output_type": "stream",
          "text": [
            "Iteration No: 82 ended. Search finished for the next optimal point.\n",
            "Time taken: 11.7934\n",
            "Function value obtained: -0.0649\n",
            "Current minimum: -0.0748\n",
            "Iteration No: 83 started. Searching for the next optimal point.\n"
          ],
          "name": "stdout"
        },
        {
          "output_type": "stream",
          "text": [
            "Epoch: 100%|██████████| 46/46 [00:20<00:00,  2.25it/s]\n",
            "Epoch:   0%|          | 0/44 [00:00<?, ?it/s]"
          ],
          "name": "stderr"
        },
        {
          "output_type": "stream",
          "text": [
            "Iteration No: 83 ended. Search finished for the next optimal point.\n",
            "Time taken: 21.2249\n",
            "Function value obtained: -0.0561\n",
            "Current minimum: -0.0748\n",
            "Iteration No: 84 started. Searching for the next optimal point.\n"
          ],
          "name": "stdout"
        },
        {
          "output_type": "stream",
          "text": [
            "Epoch: 100%|██████████| 44/44 [00:09<00:00,  4.84it/s]\n",
            "Epoch:   0%|          | 0/4 [00:00<?, ?it/s]"
          ],
          "name": "stderr"
        },
        {
          "output_type": "stream",
          "text": [
            "Iteration No: 84 ended. Search finished for the next optimal point.\n",
            "Time taken: 9.5801\n",
            "Function value obtained: -0.0582\n",
            "Current minimum: -0.0748\n",
            "Iteration No: 85 started. Searching for the next optimal point.\n"
          ],
          "name": "stdout"
        },
        {
          "output_type": "stream",
          "text": [
            "Epoch: 100%|██████████| 4/4 [00:00<00:00,  4.04it/s]\n",
            "Epoch:   0%|          | 0/50 [00:00<?, ?it/s]"
          ],
          "name": "stderr"
        },
        {
          "output_type": "stream",
          "text": [
            "Iteration No: 85 ended. Search finished for the next optimal point.\n",
            "Time taken: 1.6312\n",
            "Function value obtained: -0.0528\n",
            "Current minimum: -0.0748\n",
            "Iteration No: 86 started. Searching for the next optimal point.\n"
          ],
          "name": "stdout"
        },
        {
          "output_type": "stream",
          "text": [
            "Epoch: 100%|██████████| 50/50 [00:21<00:00,  2.28it/s]\n",
            "Epoch:   2%|▏         | 1/50 [00:00<00:05,  9.22it/s]"
          ],
          "name": "stderr"
        },
        {
          "output_type": "stream",
          "text": [
            "Iteration No: 86 ended. Search finished for the next optimal point.\n",
            "Time taken: 22.7456\n",
            "Function value obtained: -0.0603\n",
            "Current minimum: -0.0748\n",
            "Iteration No: 87 started. Searching for the next optimal point.\n"
          ],
          "name": "stdout"
        },
        {
          "output_type": "stream",
          "text": [
            "Epoch: 100%|██████████| 50/50 [00:05<00:00,  9.09it/s]\n",
            "Epoch:   0%|          | 0/46 [00:00<?, ?it/s]"
          ],
          "name": "stderr"
        },
        {
          "output_type": "stream",
          "text": [
            "Iteration No: 87 ended. Search finished for the next optimal point.\n",
            "Time taken: 5.8862\n",
            "Function value obtained: -0.0054\n",
            "Current minimum: -0.0748\n",
            "Iteration No: 88 started. Searching for the next optimal point.\n"
          ],
          "name": "stdout"
        },
        {
          "output_type": "stream",
          "text": [
            "Epoch: 100%|██████████| 46/46 [00:09<00:00,  4.98it/s]\n",
            "Epoch:   2%|▏         | 1/50 [00:00<00:07,  6.98it/s]"
          ],
          "name": "stderr"
        },
        {
          "output_type": "stream",
          "text": [
            "Iteration No: 88 ended. Search finished for the next optimal point.\n",
            "Time taken: 9.7211\n",
            "Function value obtained: -0.0565\n",
            "Current minimum: -0.0748\n",
            "Iteration No: 89 started. Searching for the next optimal point.\n"
          ],
          "name": "stdout"
        },
        {
          "output_type": "stream",
          "text": [
            "Epoch: 100%|██████████| 50/50 [00:07<00:00,  6.71it/s]\n",
            "Epoch:   2%|▏         | 1/48 [00:00<00:06,  7.42it/s]"
          ],
          "name": "stderr"
        },
        {
          "output_type": "stream",
          "text": [
            "Iteration No: 89 ended. Search finished for the next optimal point.\n",
            "Time taken: 7.8786\n",
            "Function value obtained: -0.0590\n",
            "Current minimum: -0.0748\n",
            "Iteration No: 90 started. Searching for the next optimal point.\n"
          ],
          "name": "stdout"
        },
        {
          "output_type": "stream",
          "text": [
            "Epoch: 100%|██████████| 48/48 [00:06<00:00,  7.26it/s]\n",
            "Epoch:   8%|▊         | 2/25 [00:00<00:01, 14.33it/s]"
          ],
          "name": "stderr"
        },
        {
          "output_type": "stream",
          "text": [
            "Iteration No: 90 ended. Search finished for the next optimal point.\n",
            "Time taken: 7.0166\n",
            "Function value obtained: -0.0624\n",
            "Current minimum: -0.0748\n",
            "Iteration No: 91 started. Searching for the next optimal point.\n"
          ],
          "name": "stdout"
        },
        {
          "output_type": "stream",
          "text": [
            "Epoch: 100%|██████████| 25/25 [00:01<00:00, 13.74it/s]\n",
            "Epoch:   2%|▏         | 1/50 [00:00<00:06,  7.01it/s]"
          ],
          "name": "stderr"
        },
        {
          "output_type": "stream",
          "text": [
            "Iteration No: 91 ended. Search finished for the next optimal point.\n",
            "Time taken: 2.1552\n",
            "Function value obtained: -0.0586\n",
            "Current minimum: -0.0748\n",
            "Iteration No: 92 started. Searching for the next optimal point.\n"
          ],
          "name": "stdout"
        },
        {
          "output_type": "stream",
          "text": [
            "Epoch: 100%|██████████| 50/50 [00:06<00:00,  7.21it/s]\n",
            "Epoch:   6%|▌         | 2/36 [00:00<00:02, 14.44it/s]"
          ],
          "name": "stderr"
        },
        {
          "output_type": "stream",
          "text": [
            "Iteration No: 92 ended. Search finished for the next optimal point.\n",
            "Time taken: 7.3475\n",
            "Function value obtained: -0.0719\n",
            "Current minimum: -0.0748\n",
            "Iteration No: 93 started. Searching for the next optimal point.\n"
          ],
          "name": "stdout"
        },
        {
          "output_type": "stream",
          "text": [
            "Epoch: 100%|██████████| 36/36 [00:02<00:00, 13.76it/s]\n",
            "Epoch:   5%|▌         | 2/37 [00:00<00:02, 13.12it/s]"
          ],
          "name": "stderr"
        },
        {
          "output_type": "stream",
          "text": [
            "Iteration No: 93 ended. Search finished for the next optimal point.\n",
            "Time taken: 2.9424\n",
            "Function value obtained: -0.0599\n",
            "Current minimum: -0.0748\n",
            "Iteration No: 94 started. Searching for the next optimal point.\n"
          ],
          "name": "stdout"
        },
        {
          "output_type": "stream",
          "text": [
            "Epoch: 100%|██████████| 37/37 [00:02<00:00, 13.78it/s]\n",
            "Epoch:   0%|          | 0/50 [00:00<?, ?it/s]"
          ],
          "name": "stderr"
        },
        {
          "output_type": "stream",
          "text": [
            "Iteration No: 94 ended. Search finished for the next optimal point.\n",
            "Time taken: 3.0130\n",
            "Function value obtained: -0.0316\n",
            "Current minimum: -0.0748\n",
            "Iteration No: 95 started. Searching for the next optimal point.\n"
          ],
          "name": "stdout"
        },
        {
          "output_type": "stream",
          "text": [
            "Epoch: 100%|██████████| 50/50 [00:04<00:00, 10.88it/s]\n",
            "Epoch:   0%|          | 0/49 [00:00<?, ?it/s]"
          ],
          "name": "stderr"
        },
        {
          "output_type": "stream",
          "text": [
            "Iteration No: 95 ended. Search finished for the next optimal point.\n",
            "Time taken: 4.9611\n",
            "Function value obtained: -0.0678\n",
            "Current minimum: -0.0748\n",
            "Iteration No: 96 started. Searching for the next optimal point.\n"
          ],
          "name": "stdout"
        },
        {
          "output_type": "stream",
          "text": [
            "Epoch: 100%|██████████| 49/49 [00:22<00:00,  2.19it/s]\n",
            "Epoch:   4%|▍         | 2/48 [00:00<00:03, 14.47it/s]"
          ],
          "name": "stderr"
        },
        {
          "output_type": "stream",
          "text": [
            "Iteration No: 96 ended. Search finished for the next optimal point.\n",
            "Time taken: 23.2635\n",
            "Function value obtained: -0.0595\n",
            "Current minimum: -0.0748\n",
            "Iteration No: 97 started. Searching for the next optimal point.\n"
          ],
          "name": "stdout"
        },
        {
          "output_type": "stream",
          "text": [
            "Epoch: 100%|██████████| 48/48 [00:03<00:00, 14.20it/s]\n",
            "Epoch:   2%|▏         | 1/50 [00:00<00:05,  8.37it/s]"
          ],
          "name": "stderr"
        },
        {
          "output_type": "stream",
          "text": [
            "Iteration No: 97 ended. Search finished for the next optimal point.\n",
            "Time taken: 3.7173\n",
            "Function value obtained: -0.0004\n",
            "Current minimum: -0.0748\n",
            "Iteration No: 98 started. Searching for the next optimal point.\n"
          ],
          "name": "stdout"
        },
        {
          "output_type": "stream",
          "text": [
            "Epoch: 100%|██████████| 50/50 [00:05<00:00,  8.52it/s]\n",
            "Epoch:   4%|▍         | 2/49 [00:00<00:03, 13.67it/s]"
          ],
          "name": "stderr"
        },
        {
          "output_type": "stream",
          "text": [
            "Iteration No: 98 ended. Search finished for the next optimal point.\n",
            "Time taken: 6.2558\n",
            "Function value obtained: -0.0682\n",
            "Current minimum: -0.0748\n",
            "Iteration No: 99 started. Searching for the next optimal point.\n"
          ],
          "name": "stdout"
        },
        {
          "output_type": "stream",
          "text": [
            "Epoch: 100%|██████████| 49/49 [00:03<00:00, 14.01it/s]\n",
            "Epoch:   0%|          | 0/48 [00:00<?, ?it/s]"
          ],
          "name": "stderr"
        },
        {
          "output_type": "stream",
          "text": [
            "Iteration No: 99 ended. Search finished for the next optimal point.\n",
            "Time taken: 3.8381\n",
            "Function value obtained: -0.0179\n",
            "Current minimum: -0.0748\n",
            "Iteration No: 100 started. Searching for the next optimal point.\n"
          ],
          "name": "stdout"
        },
        {
          "output_type": "stream",
          "text": [
            "Epoch: 100%|██████████| 48/48 [00:23<00:00,  2.08it/s]\n",
            "Epoch:   2%|▏         | 1/49 [00:00<00:05,  8.94it/s]"
          ],
          "name": "stderr"
        },
        {
          "output_type": "stream",
          "text": [
            "Iteration No: 100 ended. Search finished for the next optimal point.\n",
            "Time taken: 23.8983\n",
            "Function value obtained: -0.0553\n",
            "Current minimum: -0.0748\n",
            "Iteration No: 101 started. Searching for the next optimal point.\n"
          ],
          "name": "stdout"
        },
        {
          "output_type": "stream",
          "text": [
            "Epoch: 100%|██████████| 49/49 [00:05<00:00,  8.67it/s]\n",
            "Epoch:   4%|▍         | 2/49 [00:00<00:02, 15.86it/s]"
          ],
          "name": "stderr"
        },
        {
          "output_type": "stream",
          "text": [
            "Iteration No: 101 ended. Search finished for the next optimal point.\n",
            "Time taken: 6.0246\n",
            "Function value obtained: -0.0711\n",
            "Current minimum: -0.0748\n",
            "Iteration No: 102 started. Searching for the next optimal point.\n"
          ],
          "name": "stdout"
        },
        {
          "output_type": "stream",
          "text": [
            "Epoch: 100%|██████████| 49/49 [00:03<00:00, 16.10it/s]\n",
            "Epoch:   2%|▏         | 1/50 [00:00<00:08,  5.61it/s]"
          ],
          "name": "stderr"
        },
        {
          "output_type": "stream",
          "text": [
            "Iteration No: 102 ended. Search finished for the next optimal point.\n",
            "Time taken: 3.3608\n",
            "Function value obtained: -0.0632\n",
            "Current minimum: -0.0748\n",
            "Iteration No: 103 started. Searching for the next optimal point.\n"
          ],
          "name": "stdout"
        },
        {
          "output_type": "stream",
          "text": [
            "Epoch: 100%|██████████| 50/50 [00:08<00:00,  5.64it/s]\n",
            "Epoch:   4%|▍         | 2/46 [00:00<00:02, 15.13it/s]"
          ],
          "name": "stderr"
        },
        {
          "output_type": "stream",
          "text": [
            "Iteration No: 103 ended. Search finished for the next optimal point.\n",
            "Time taken: 9.3280\n",
            "Function value obtained: -0.0482\n",
            "Current minimum: -0.0748\n",
            "Iteration No: 104 started. Searching for the next optimal point.\n"
          ],
          "name": "stdout"
        },
        {
          "output_type": "stream",
          "text": [
            "Epoch: 100%|██████████| 46/46 [00:02<00:00, 15.66it/s]\n",
            "Epoch:   2%|▏         | 1/48 [00:00<00:05,  8.59it/s]"
          ],
          "name": "stderr"
        },
        {
          "output_type": "stream",
          "text": [
            "Iteration No: 104 ended. Search finished for the next optimal point.\n",
            "Time taken: 3.2706\n",
            "Function value obtained: -0.0657\n",
            "Current minimum: -0.0748\n",
            "Iteration No: 105 started. Searching for the next optimal point.\n"
          ],
          "name": "stdout"
        },
        {
          "output_type": "stream",
          "text": [
            "Epoch: 100%|██████████| 48/48 [00:05<00:00,  8.67it/s]\n",
            "Epoch:  12%|█▎        | 2/16 [00:00<00:00, 14.18it/s]"
          ],
          "name": "stderr"
        },
        {
          "output_type": "stream",
          "text": [
            "Iteration No: 105 ended. Search finished for the next optimal point.\n",
            "Time taken: 5.9102\n",
            "Function value obtained: -0.0649\n",
            "Current minimum: -0.0748\n",
            "Iteration No: 106 started. Searching for the next optimal point.\n"
          ],
          "name": "stdout"
        },
        {
          "output_type": "stream",
          "text": [
            "Epoch: 100%|██████████| 16/16 [00:01<00:00, 15.61it/s]\n",
            "Epoch:   4%|▍         | 2/49 [00:00<00:03, 11.97it/s]"
          ],
          "name": "stderr"
        },
        {
          "output_type": "stream",
          "text": [
            "Iteration No: 106 ended. Search finished for the next optimal point.\n",
            "Time taken: 1.3710\n",
            "Function value obtained: -0.0657\n",
            "Current minimum: -0.0748\n",
            "Iteration No: 107 started. Searching for the next optimal point.\n"
          ],
          "name": "stdout"
        },
        {
          "output_type": "stream",
          "text": [
            "Epoch: 100%|██████████| 49/49 [00:03<00:00, 13.19it/s]\n",
            "Epoch:   4%|▍         | 2/48 [00:00<00:03, 11.58it/s]"
          ],
          "name": "stderr"
        },
        {
          "output_type": "stream",
          "text": [
            "Iteration No: 107 ended. Search finished for the next optimal point.\n",
            "Time taken: 4.1758\n",
            "Function value obtained: -0.0474\n",
            "Current minimum: -0.0748\n",
            "Iteration No: 108 started. Searching for the next optimal point.\n"
          ],
          "name": "stdout"
        },
        {
          "output_type": "stream",
          "text": [
            "Epoch: 100%|██████████| 48/48 [00:03<00:00, 12.24it/s]\n",
            "Epoch:   4%|▍         | 2/46 [00:00<00:03, 14.33it/s]"
          ],
          "name": "stderr"
        },
        {
          "output_type": "stream",
          "text": [
            "Iteration No: 108 ended. Search finished for the next optimal point.\n",
            "Time taken: 4.2709\n",
            "Function value obtained: -0.0686\n",
            "Current minimum: -0.0748\n",
            "Iteration No: 109 started. Searching for the next optimal point.\n"
          ],
          "name": "stdout"
        },
        {
          "output_type": "stream",
          "text": [
            "Epoch: 100%|██████████| 46/46 [00:03<00:00, 14.30it/s]\n",
            "Epoch:   4%|▍         | 2/49 [00:00<00:03, 11.94it/s]"
          ],
          "name": "stderr"
        },
        {
          "output_type": "stream",
          "text": [
            "Iteration No: 109 ended. Search finished for the next optimal point.\n",
            "Time taken: 3.5509\n",
            "Function value obtained: -0.0649\n",
            "Current minimum: -0.0748\n",
            "Iteration No: 110 started. Searching for the next optimal point.\n"
          ],
          "name": "stdout"
        },
        {
          "output_type": "stream",
          "text": [
            "Epoch: 100%|██████████| 49/49 [00:03<00:00, 13.50it/s]\n",
            "Epoch:   4%|▍         | 2/47 [00:00<00:03, 12.20it/s]"
          ],
          "name": "stderr"
        },
        {
          "output_type": "stream",
          "text": [
            "Iteration No: 110 ended. Search finished for the next optimal point.\n",
            "Time taken: 3.9797\n",
            "Function value obtained: -0.0499\n",
            "Current minimum: -0.0748\n",
            "Iteration No: 111 started. Searching for the next optimal point.\n"
          ],
          "name": "stdout"
        },
        {
          "output_type": "stream",
          "text": [
            "Epoch: 100%|██████████| 47/47 [00:03<00:00, 12.56it/s]\n",
            "Epoch:   5%|▍         | 2/43 [00:00<00:02, 14.61it/s]"
          ],
          "name": "stderr"
        },
        {
          "output_type": "stream",
          "text": [
            "Iteration No: 111 ended. Search finished for the next optimal point.\n",
            "Time taken: 4.0921\n",
            "Function value obtained: -0.0707\n",
            "Current minimum: -0.0748\n",
            "Iteration No: 112 started. Searching for the next optimal point.\n"
          ],
          "name": "stdout"
        },
        {
          "output_type": "stream",
          "text": [
            "Epoch: 100%|██████████| 43/43 [00:02<00:00, 15.64it/s]\n",
            "Epoch:   4%|▍         | 2/48 [00:00<00:03, 12.26it/s]"
          ],
          "name": "stderr"
        },
        {
          "output_type": "stream",
          "text": [
            "Iteration No: 112 ended. Search finished for the next optimal point.\n",
            "Time taken: 3.0694\n",
            "Function value obtained: -0.0669\n",
            "Current minimum: -0.0748\n",
            "Iteration No: 113 started. Searching for the next optimal point.\n"
          ],
          "name": "stdout"
        },
        {
          "output_type": "stream",
          "text": [
            "Epoch: 100%|██████████| 48/48 [00:03<00:00, 14.05it/s]\n",
            "Epoch:   4%|▍         | 2/48 [00:00<00:03, 15.33it/s]"
          ],
          "name": "stderr"
        },
        {
          "output_type": "stream",
          "text": [
            "Iteration No: 113 ended. Search finished for the next optimal point.\n",
            "Time taken: 3.7611\n",
            "Function value obtained: -0.0607\n",
            "Current minimum: -0.0748\n",
            "Iteration No: 114 started. Searching for the next optimal point.\n"
          ],
          "name": "stdout"
        },
        {
          "output_type": "stream",
          "text": [
            "Epoch: 100%|██████████| 48/48 [00:03<00:00, 15.81it/s]\n",
            "Epoch:   4%|▍         | 2/47 [00:00<00:03, 12.40it/s]"
          ],
          "name": "stderr"
        },
        {
          "output_type": "stream",
          "text": [
            "Iteration No: 114 ended. Search finished for the next optimal point.\n",
            "Time taken: 3.3635\n",
            "Function value obtained: -0.0632\n",
            "Current minimum: -0.0748\n",
            "Iteration No: 115 started. Searching for the next optimal point.\n"
          ],
          "name": "stdout"
        },
        {
          "output_type": "stream",
          "text": [
            "Epoch: 100%|██████████| 47/47 [00:03<00:00, 13.16it/s]\n",
            "Epoch:   4%|▍         | 2/50 [00:00<00:04, 11.47it/s]"
          ],
          "name": "stderr"
        },
        {
          "output_type": "stream",
          "text": [
            "Iteration No: 115 ended. Search finished for the next optimal point.\n",
            "Time taken: 3.9112\n",
            "Function value obtained: -0.0620\n",
            "Current minimum: -0.0748\n",
            "Iteration No: 116 started. Searching for the next optimal point.\n"
          ],
          "name": "stdout"
        },
        {
          "output_type": "stream",
          "text": [
            "Epoch: 100%|██████████| 50/50 [00:04<00:00, 11.54it/s]\n",
            "Epoch:  12%|█▏        | 2/17 [00:00<00:01, 11.71it/s]"
          ],
          "name": "stderr"
        },
        {
          "output_type": "stream",
          "text": [
            "Iteration No: 116 ended. Search finished for the next optimal point.\n",
            "Time taken: 4.7022\n",
            "Function value obtained: -0.0004\n",
            "Current minimum: -0.0748\n",
            "Iteration No: 117 started. Searching for the next optimal point.\n"
          ],
          "name": "stdout"
        },
        {
          "output_type": "stream",
          "text": [
            "Epoch: 100%|██████████| 17/17 [00:01<00:00, 12.00it/s]\n",
            "Epoch:   5%|▍         | 2/44 [00:00<00:02, 14.05it/s]"
          ],
          "name": "stderr"
        },
        {
          "output_type": "stream",
          "text": [
            "Iteration No: 117 ended. Search finished for the next optimal point.\n",
            "Time taken: 1.7946\n",
            "Function value obtained: -0.0366\n",
            "Current minimum: -0.0748\n",
            "Iteration No: 118 started. Searching for the next optimal point.\n"
          ],
          "name": "stdout"
        },
        {
          "output_type": "stream",
          "text": [
            "Epoch: 100%|██████████| 44/44 [00:03<00:00, 13.88it/s]\n",
            "Epoch:   4%|▍         | 2/49 [00:00<00:04, 10.51it/s]"
          ],
          "name": "stderr"
        },
        {
          "output_type": "stream",
          "text": [
            "Iteration No: 118 ended. Search finished for the next optimal point.\n",
            "Time taken: 3.6028\n",
            "Function value obtained: -0.0620\n",
            "Current minimum: -0.0748\n",
            "Iteration No: 119 started. Searching for the next optimal point.\n"
          ],
          "name": "stdout"
        },
        {
          "output_type": "stream",
          "text": [
            "Epoch: 100%|██████████| 49/49 [00:05<00:00,  9.74it/s]\n",
            "Epoch:   5%|▍         | 2/43 [00:00<00:03, 12.54it/s]"
          ],
          "name": "stderr"
        },
        {
          "output_type": "stream",
          "text": [
            "Iteration No: 119 ended. Search finished for the next optimal point.\n",
            "Time taken: 5.4128\n",
            "Function value obtained: -0.0495\n",
            "Current minimum: -0.0748\n",
            "Iteration No: 120 started. Searching for the next optimal point.\n"
          ],
          "name": "stdout"
        },
        {
          "output_type": "stream",
          "text": [
            "Epoch: 100%|██████████| 43/43 [00:03<00:00, 12.50it/s]\n",
            "Epoch:   6%|▌         | 2/33 [00:00<00:01, 15.87it/s]"
          ],
          "name": "stderr"
        },
        {
          "output_type": "stream",
          "text": [
            "Iteration No: 120 ended. Search finished for the next optimal point.\n",
            "Time taken: 3.8043\n",
            "Function value obtained: -0.0541\n",
            "Current minimum: -0.0748\n",
            "Iteration No: 121 started. Searching for the next optimal point.\n"
          ],
          "name": "stdout"
        },
        {
          "output_type": "stream",
          "text": [
            "Epoch: 100%|██████████| 33/33 [00:02<00:00, 16.10it/s]\n",
            "Epoch:   4%|▍         | 2/50 [00:00<00:03, 12.16it/s]"
          ],
          "name": "stderr"
        },
        {
          "output_type": "stream",
          "text": [
            "Iteration No: 121 ended. Search finished for the next optimal point.\n",
            "Time taken: 2.3820\n",
            "Function value obtained: -0.0308\n",
            "Current minimum: -0.0748\n",
            "Iteration No: 122 started. Searching for the next optimal point.\n"
          ],
          "name": "stdout"
        },
        {
          "output_type": "stream",
          "text": [
            "Epoch: 100%|██████████| 50/50 [00:04<00:00, 11.95it/s]\n",
            "Epoch:  11%|█         | 2/18 [00:00<00:01, 11.07it/s]"
          ],
          "name": "stderr"
        },
        {
          "output_type": "stream",
          "text": [
            "Iteration No: 122 ended. Search finished for the next optimal point.\n",
            "Time taken: 4.5645\n",
            "Function value obtained: -0.0470\n",
            "Current minimum: -0.0748\n",
            "Iteration No: 123 started. Searching for the next optimal point.\n"
          ],
          "name": "stdout"
        },
        {
          "output_type": "stream",
          "text": [
            "Epoch: 100%|██████████| 18/18 [00:01<00:00, 10.89it/s]\n",
            "Epoch:   0%|          | 0/20 [00:00<?, ?it/s]"
          ],
          "name": "stderr"
        },
        {
          "output_type": "stream",
          "text": [
            "Iteration No: 123 ended. Search finished for the next optimal point.\n",
            "Time taken: 2.0172\n",
            "Function value obtained: -0.0607\n",
            "Current minimum: -0.0748\n",
            "Iteration No: 124 started. Searching for the next optimal point.\n"
          ],
          "name": "stdout"
        },
        {
          "output_type": "stream",
          "text": [
            "Epoch: 100%|██████████| 20/20 [00:07<00:00,  2.70it/s]\n",
            "Epoch:   7%|▋         | 2/30 [00:00<00:01, 14.73it/s]"
          ],
          "name": "stderr"
        },
        {
          "output_type": "stream",
          "text": [
            "Iteration No: 124 ended. Search finished for the next optimal point.\n",
            "Time taken: 8.1286\n",
            "Function value obtained: -0.0728\n",
            "Current minimum: -0.0748\n",
            "Iteration No: 125 started. Searching for the next optimal point.\n"
          ],
          "name": "stdout"
        },
        {
          "output_type": "stream",
          "text": [
            "Epoch: 100%|██████████| 30/30 [00:02<00:00, 14.69it/s]\n",
            "Epoch:   0%|          | 0/28 [00:00<?, ?it/s]"
          ],
          "name": "stderr"
        },
        {
          "output_type": "stream",
          "text": [
            "Iteration No: 125 ended. Search finished for the next optimal point.\n",
            "Time taken: 2.3820\n",
            "Function value obtained: -0.0649\n",
            "Current minimum: -0.0748\n",
            "Iteration No: 126 started. Searching for the next optimal point.\n"
          ],
          "name": "stdout"
        },
        {
          "output_type": "stream",
          "text": [
            "Epoch: 100%|██████████| 28/28 [00:11<00:00,  2.41it/s]\n",
            "Epoch:   2%|▏         | 1/45 [00:00<00:06,  7.11it/s]"
          ],
          "name": "stderr"
        },
        {
          "output_type": "stream",
          "text": [
            "Iteration No: 126 ended. Search finished for the next optimal point.\n",
            "Time taken: 12.3946\n",
            "Function value obtained: -0.0462\n",
            "Current minimum: -0.0748\n",
            "Iteration No: 127 started. Searching for the next optimal point.\n"
          ],
          "name": "stdout"
        },
        {
          "output_type": "stream",
          "text": [
            "Epoch: 100%|██████████| 45/45 [00:05<00:00,  7.62it/s]\n",
            "Epoch:   2%|▏         | 1/49 [00:00<00:05,  8.09it/s]"
          ],
          "name": "stderr"
        },
        {
          "output_type": "stream",
          "text": [
            "Iteration No: 127 ended. Search finished for the next optimal point.\n",
            "Time taken: 6.3257\n",
            "Function value obtained: -0.0595\n",
            "Current minimum: -0.0748\n",
            "Iteration No: 128 started. Searching for the next optimal point.\n"
          ],
          "name": "stdout"
        },
        {
          "output_type": "stream",
          "text": [
            "Epoch: 100%|██████████| 49/49 [00:06<00:00,  8.09it/s]\n",
            "Epoch:   2%|▏         | 1/44 [00:00<00:05,  7.70it/s]"
          ],
          "name": "stderr"
        },
        {
          "output_type": "stream",
          "text": [
            "Iteration No: 128 ended. Search finished for the next optimal point.\n",
            "Time taken: 6.4556\n",
            "Function value obtained: -0.0632\n",
            "Current minimum: -0.0748\n",
            "Iteration No: 129 started. Searching for the next optimal point.\n"
          ],
          "name": "stdout"
        },
        {
          "output_type": "stream",
          "text": [
            "Epoch: 100%|██████████| 44/44 [00:05<00:00,  8.02it/s]\n",
            "Epoch:   2%|▏         | 1/50 [00:00<00:06,  7.35it/s]"
          ],
          "name": "stderr"
        },
        {
          "output_type": "stream",
          "text": [
            "Iteration No: 129 ended. Search finished for the next optimal point.\n",
            "Time taken: 5.8964\n",
            "Function value obtained: -0.0428\n",
            "Current minimum: -0.0748\n",
            "Iteration No: 130 started. Searching for the next optimal point.\n"
          ],
          "name": "stdout"
        },
        {
          "output_type": "stream",
          "text": [
            "Epoch: 100%|██████████| 50/50 [00:06<00:00,  7.72it/s]\n",
            "Epoch:   4%|▍         | 2/48 [00:00<00:03, 11.67it/s]"
          ],
          "name": "stderr"
        },
        {
          "output_type": "stream",
          "text": [
            "Iteration No: 130 ended. Search finished for the next optimal point.\n",
            "Time taken: 7.0078\n",
            "Function value obtained: -0.0528\n",
            "Current minimum: -0.0748\n",
            "Iteration No: 131 started. Searching for the next optimal point.\n"
          ],
          "name": "stdout"
        },
        {
          "output_type": "stream",
          "text": [
            "Epoch: 100%|██████████| 48/48 [00:04<00:00, 11.48it/s]\n",
            "Epoch:   4%|▍         | 2/47 [00:00<00:03, 14.71it/s]"
          ],
          "name": "stderr"
        },
        {
          "output_type": "stream",
          "text": [
            "Iteration No: 131 ended. Search finished for the next optimal point.\n",
            "Time taken: 4.5402\n",
            "Function value obtained: -0.0541\n",
            "Current minimum: -0.0748\n",
            "Iteration No: 132 started. Searching for the next optimal point.\n"
          ],
          "name": "stdout"
        },
        {
          "output_type": "stream",
          "text": [
            "Epoch: 100%|██████████| 47/47 [00:03<00:00, 14.91it/s]\n",
            "Epoch:   2%|▏         | 1/50 [00:00<00:05,  9.38it/s]"
          ],
          "name": "stderr"
        },
        {
          "output_type": "stream",
          "text": [
            "Iteration No: 132 ended. Search finished for the next optimal point.\n",
            "Time taken: 3.4912\n",
            "Function value obtained: -0.0391\n",
            "Current minimum: -0.0748\n",
            "Iteration No: 133 started. Searching for the next optimal point.\n"
          ],
          "name": "stdout"
        },
        {
          "output_type": "stream",
          "text": [
            "Epoch: 100%|██████████| 50/50 [00:05<00:00,  9.24it/s]\n",
            "Epoch:   0%|          | 0/19 [00:00<?, ?it/s]"
          ],
          "name": "stderr"
        },
        {
          "output_type": "stream",
          "text": [
            "Iteration No: 133 ended. Search finished for the next optimal point.\n",
            "Time taken: 5.8024\n",
            "Function value obtained: -0.0640\n",
            "Current minimum: -0.0748\n",
            "Iteration No: 134 started. Searching for the next optimal point.\n"
          ],
          "name": "stdout"
        },
        {
          "output_type": "stream",
          "text": [
            "Epoch: 100%|██████████| 19/19 [00:08<00:00,  2.20it/s]\n",
            "Epoch:   7%|▋         | 2/28 [00:00<00:01, 14.64it/s]"
          ],
          "name": "stderr"
        },
        {
          "output_type": "stream",
          "text": [
            "Iteration No: 134 ended. Search finished for the next optimal point.\n",
            "Time taken: 9.4575\n",
            "Function value obtained: -0.0516\n",
            "Current minimum: -0.0748\n",
            "Iteration No: 135 started. Searching for the next optimal point.\n"
          ],
          "name": "stdout"
        },
        {
          "output_type": "stream",
          "text": [
            "Epoch: 100%|██████████| 28/28 [00:01<00:00, 15.01it/s]\n",
            "Epoch:   0%|          | 0/42 [00:00<?, ?it/s]"
          ],
          "name": "stderr"
        },
        {
          "output_type": "stream",
          "text": [
            "Iteration No: 135 ended. Search finished for the next optimal point.\n",
            "Time taken: 2.2083\n",
            "Function value obtained: -0.0424\n",
            "Current minimum: -0.0748\n",
            "Iteration No: 136 started. Searching for the next optimal point.\n"
          ],
          "name": "stdout"
        },
        {
          "output_type": "stream",
          "text": [
            "Epoch: 100%|██████████| 42/42 [00:15<00:00,  2.71it/s]\n",
            "Epoch:   4%|▍         | 2/50 [00:00<00:04, 11.48it/s]"
          ],
          "name": "stderr"
        },
        {
          "output_type": "stream",
          "text": [
            "Iteration No: 136 ended. Search finished for the next optimal point.\n",
            "Time taken: 16.2427\n",
            "Function value obtained: -0.0657\n",
            "Current minimum: -0.0748\n",
            "Iteration No: 137 started. Searching for the next optimal point.\n"
          ],
          "name": "stdout"
        },
        {
          "output_type": "stream",
          "text": [
            "Epoch: 100%|██████████| 50/50 [00:04<00:00, 11.51it/s]\n",
            "Epoch:   0%|          | 0/44 [00:00<?, ?it/s]"
          ],
          "name": "stderr"
        },
        {
          "output_type": "stream",
          "text": [
            "Iteration No: 137 ended. Search finished for the next optimal point.\n",
            "Time taken: 4.6988\n",
            "Function value obtained: -0.0703\n",
            "Current minimum: -0.0748\n",
            "Iteration No: 138 started. Searching for the next optimal point.\n"
          ],
          "name": "stdout"
        },
        {
          "output_type": "stream",
          "text": [
            "Epoch: 100%|██████████| 44/44 [00:18<00:00,  2.34it/s]\n",
            "Epoch:   0%|          | 0/23 [00:00<?, ?it/s]"
          ],
          "name": "stderr"
        },
        {
          "output_type": "stream",
          "text": [
            "Iteration No: 138 ended. Search finished for the next optimal point.\n",
            "Time taken: 19.6028\n",
            "Function value obtained: -0.0258\n",
            "Current minimum: -0.0748\n",
            "Iteration No: 139 started. Searching for the next optimal point.\n"
          ],
          "name": "stdout"
        },
        {
          "output_type": "stream",
          "text": [
            "Epoch: 100%|██████████| 23/23 [00:08<00:00,  2.77it/s]\n",
            "Epoch:   0%|          | 0/20 [00:00<?, ?it/s]"
          ],
          "name": "stderr"
        },
        {
          "output_type": "stream",
          "text": [
            "Iteration No: 139 ended. Search finished for the next optimal point.\n",
            "Time taken: 9.0114\n",
            "Function value obtained: -0.0557\n",
            "Current minimum: -0.0748\n",
            "Iteration No: 140 started. Searching for the next optimal point.\n"
          ],
          "name": "stdout"
        },
        {
          "output_type": "stream",
          "text": [
            "Epoch: 100%|██████████| 20/20 [00:07<00:00,  2.75it/s]\n",
            "Epoch:   0%|          | 0/20 [00:00<?, ?it/s]"
          ],
          "name": "stderr"
        },
        {
          "output_type": "stream",
          "text": [
            "Iteration No: 140 ended. Search finished for the next optimal point.\n",
            "Time taken: 8.0055\n",
            "Function value obtained: -0.0665\n",
            "Current minimum: -0.0748\n",
            "Iteration No: 141 started. Searching for the next optimal point.\n"
          ],
          "name": "stdout"
        },
        {
          "output_type": "stream",
          "text": [
            "Epoch: 100%|██████████| 20/20 [00:06<00:00,  2.87it/s]\n",
            "Epoch:   0%|          | 0/20 [00:00<?, ?it/s]"
          ],
          "name": "stderr"
        },
        {
          "output_type": "stream",
          "text": [
            "Iteration No: 141 ended. Search finished for the next optimal point.\n",
            "Time taken: 7.6639\n",
            "Function value obtained: -0.0703\n",
            "Current minimum: -0.0748\n",
            "Iteration No: 142 started. Searching for the next optimal point.\n"
          ],
          "name": "stdout"
        },
        {
          "output_type": "stream",
          "text": [
            "Epoch: 100%|██████████| 20/20 [00:07<00:00,  2.73it/s]\n",
            "Epoch:   0%|          | 0/19 [00:00<?, ?it/s]"
          ],
          "name": "stderr"
        },
        {
          "output_type": "stream",
          "text": [
            "Iteration No: 142 ended. Search finished for the next optimal point.\n",
            "Time taken: 8.1562\n",
            "Function value obtained: -0.0661\n",
            "Current minimum: -0.0748\n",
            "Iteration No: 143 started. Searching for the next optimal point.\n"
          ],
          "name": "stdout"
        },
        {
          "output_type": "stream",
          "text": [
            "Epoch: 100%|██████████| 19/19 [00:06<00:00,  2.91it/s]\n",
            "Epoch:   0%|          | 0/18 [00:00<?, ?it/s]"
          ],
          "name": "stderr"
        },
        {
          "output_type": "stream",
          "text": [
            "Iteration No: 143 ended. Search finished for the next optimal point.\n",
            "Time taken: 7.2527\n",
            "Function value obtained: -0.0590\n",
            "Current minimum: -0.0748\n",
            "Iteration No: 144 started. Searching for the next optimal point.\n"
          ],
          "name": "stdout"
        },
        {
          "output_type": "stream",
          "text": [
            "Epoch: 100%|██████████| 18/18 [00:05<00:00,  3.11it/s]\n",
            "Epoch:   0%|          | 0/20 [00:00<?, ?it/s]"
          ],
          "name": "stderr"
        },
        {
          "output_type": "stream",
          "text": [
            "Iteration No: 144 ended. Search finished for the next optimal point.\n",
            "Time taken: 6.4976\n",
            "Function value obtained: -0.0241\n",
            "Current minimum: -0.0748\n",
            "Iteration No: 145 started. Searching for the next optimal point.\n"
          ],
          "name": "stdout"
        },
        {
          "output_type": "stream",
          "text": [
            "Epoch: 100%|██████████| 20/20 [00:06<00:00,  3.01it/s]\n",
            "Epoch:   0%|          | 0/13 [00:00<?, ?it/s]"
          ],
          "name": "stderr"
        },
        {
          "output_type": "stream",
          "text": [
            "Iteration No: 145 ended. Search finished for the next optimal point.\n",
            "Time taken: 7.3443\n",
            "Function value obtained: -0.0308\n",
            "Current minimum: -0.0748\n",
            "Iteration No: 146 started. Searching for the next optimal point.\n"
          ],
          "name": "stdout"
        },
        {
          "output_type": "stream",
          "text": [
            "Epoch: 100%|██████████| 13/13 [00:03<00:00,  3.51it/s]\n",
            "Epoch:   0%|          | 0/22 [00:00<?, ?it/s]"
          ],
          "name": "stderr"
        },
        {
          "output_type": "stream",
          "text": [
            "Iteration No: 146 ended. Search finished for the next optimal point.\n",
            "Time taken: 4.3428\n",
            "Function value obtained: -0.0653\n",
            "Current minimum: -0.0748\n",
            "Iteration No: 147 started. Searching for the next optimal point.\n"
          ],
          "name": "stdout"
        },
        {
          "output_type": "stream",
          "text": [
            "Epoch: 100%|██████████| 22/22 [00:06<00:00,  3.54it/s]\n",
            "Epoch:   0%|          | 0/25 [00:00<?, ?it/s]"
          ],
          "name": "stderr"
        },
        {
          "output_type": "stream",
          "text": [
            "Iteration No: 147 ended. Search finished for the next optimal point.\n",
            "Time taken: 6.8256\n",
            "Function value obtained: -0.0653\n",
            "Current minimum: -0.0748\n",
            "Iteration No: 148 started. Searching for the next optimal point.\n"
          ],
          "name": "stdout"
        },
        {
          "output_type": "stream",
          "text": [
            "Epoch: 100%|██████████| 25/25 [00:06<00:00,  3.77it/s]\n",
            "Epoch:   0%|          | 0/30 [00:00<?, ?it/s]"
          ],
          "name": "stderr"
        },
        {
          "output_type": "stream",
          "text": [
            "Iteration No: 148 ended. Search finished for the next optimal point.\n",
            "Time taken: 7.2359\n",
            "Function value obtained: -0.0640\n",
            "Current minimum: -0.0748\n",
            "Iteration No: 149 started. Searching for the next optimal point.\n"
          ],
          "name": "stdout"
        },
        {
          "output_type": "stream",
          "text": [
            "Epoch: 100%|██████████| 30/30 [00:07<00:00,  3.92it/s]\n",
            "Epoch:   0%|          | 0/24 [00:00<?, ?it/s]"
          ],
          "name": "stderr"
        },
        {
          "output_type": "stream",
          "text": [
            "Iteration No: 149 ended. Search finished for the next optimal point.\n",
            "Time taken: 8.2623\n",
            "Function value obtained: -0.0719\n",
            "Current minimum: -0.0748\n",
            "Iteration No: 150 started. Searching for the next optimal point.\n"
          ],
          "name": "stdout"
        },
        {
          "output_type": "stream",
          "text": [
            "Epoch: 100%|██████████| 24/24 [00:05<00:00,  4.09it/s]\n",
            "Epoch:   0%|          | 0/25 [00:00<?, ?it/s]"
          ],
          "name": "stderr"
        },
        {
          "output_type": "stream",
          "text": [
            "Iteration No: 150 ended. Search finished for the next optimal point.\n",
            "Time taken: 6.4656\n",
            "Function value obtained: -0.0678\n",
            "Current minimum: -0.0748\n",
            "Iteration No: 151 started. Searching for the next optimal point.\n"
          ],
          "name": "stdout"
        },
        {
          "output_type": "stream",
          "text": [
            "Epoch: 100%|██████████| 25/25 [00:10<00:00,  2.36it/s]\n",
            "Epoch:   0%|          | 0/29 [00:00<?, ?it/s]"
          ],
          "name": "stderr"
        },
        {
          "output_type": "stream",
          "text": [
            "Iteration No: 151 ended. Search finished for the next optimal point.\n",
            "Time taken: 11.4067\n",
            "Function value obtained: -0.0678\n",
            "Current minimum: -0.0748\n",
            "Iteration No: 152 started. Searching for the next optimal point.\n"
          ],
          "name": "stdout"
        },
        {
          "output_type": "stream",
          "text": [
            "Epoch: 100%|██████████| 29/29 [00:13<00:00,  2.20it/s]\n",
            "Epoch:   0%|          | 0/22 [00:00<?, ?it/s]"
          ],
          "name": "stderr"
        },
        {
          "output_type": "stream",
          "text": [
            "Iteration No: 152 ended. Search finished for the next optimal point.\n",
            "Time taken: 14.0537\n",
            "Function value obtained: -0.0686\n",
            "Current minimum: -0.0748\n",
            "Iteration No: 153 started. Searching for the next optimal point.\n"
          ],
          "name": "stdout"
        },
        {
          "output_type": "stream",
          "text": [
            "Epoch: 100%|██████████| 22/22 [00:05<00:00,  3.93it/s]\n",
            "Epoch:   0%|          | 0/24 [00:00<?, ?it/s]"
          ],
          "name": "stderr"
        },
        {
          "output_type": "stream",
          "text": [
            "Iteration No: 153 ended. Search finished for the next optimal point.\n",
            "Time taken: 6.1883\n",
            "Function value obtained: -0.0632\n",
            "Current minimum: -0.0748\n",
            "Iteration No: 154 started. Searching for the next optimal point.\n"
          ],
          "name": "stdout"
        },
        {
          "output_type": "stream",
          "text": [
            "Epoch: 100%|██████████| 24/24 [00:05<00:00,  4.59it/s]\n",
            "Epoch:   0%|          | 0/50 [00:00<?, ?it/s]"
          ],
          "name": "stderr"
        },
        {
          "output_type": "stream",
          "text": [
            "Iteration No: 154 ended. Search finished for the next optimal point.\n",
            "Time taken: 5.8948\n",
            "Function value obtained: -0.0503\n",
            "Current minimum: -0.0748\n",
            "Iteration No: 155 started. Searching for the next optimal point.\n"
          ],
          "name": "stdout"
        },
        {
          "output_type": "stream",
          "text": [
            "Epoch: 100%|██████████| 50/50 [00:21<00:00,  2.28it/s]\n",
            "Epoch:   0%|          | 0/9 [00:00<?, ?it/s]"
          ],
          "name": "stderr"
        },
        {
          "output_type": "stream",
          "text": [
            "Iteration No: 155 ended. Search finished for the next optimal point.\n",
            "Time taken: 22.7834\n",
            "Function value obtained: -0.0628\n",
            "Current minimum: -0.0748\n",
            "Iteration No: 156 started. Searching for the next optimal point.\n"
          ],
          "name": "stdout"
        },
        {
          "output_type": "stream",
          "text": [
            "Epoch: 100%|██████████| 9/9 [00:03<00:00,  2.65it/s]\n",
            "Epoch:   3%|▎         | 1/29 [00:00<00:03,  8.97it/s]"
          ],
          "name": "stderr"
        },
        {
          "output_type": "stream",
          "text": [
            "Iteration No: 156 ended. Search finished for the next optimal point.\n",
            "Time taken: 4.1327\n",
            "Function value obtained: -0.0624\n",
            "Current minimum: -0.0748\n",
            "Iteration No: 157 started. Searching for the next optimal point.\n"
          ],
          "name": "stdout"
        },
        {
          "output_type": "stream",
          "text": [
            "Epoch: 100%|██████████| 29/29 [00:02<00:00, 10.16it/s]\n",
            "Epoch:   0%|          | 0/50 [00:00<?, ?it/s]"
          ],
          "name": "stderr"
        },
        {
          "output_type": "stream",
          "text": [
            "Iteration No: 157 ended. Search finished for the next optimal point.\n",
            "Time taken: 3.2664\n",
            "Function value obtained: -0.0333\n",
            "Current minimum: -0.0748\n",
            "Iteration No: 158 started. Searching for the next optimal point.\n"
          ],
          "name": "stdout"
        },
        {
          "output_type": "stream",
          "text": [
            "Epoch: 100%|██████████| 50/50 [00:23<00:00,  2.10it/s]\n",
            "Epoch:   0%|          | 0/50 [00:00<?, ?it/s]"
          ],
          "name": "stderr"
        },
        {
          "output_type": "stream",
          "text": [
            "Iteration No: 158 ended. Search finished for the next optimal point.\n",
            "Time taken: 24.6202\n",
            "Function value obtained: -0.0021\n",
            "Current minimum: -0.0748\n",
            "Iteration No: 159 started. Searching for the next optimal point.\n"
          ],
          "name": "stdout"
        },
        {
          "output_type": "stream",
          "text": [
            "Epoch: 100%|██████████| 50/50 [00:21<00:00,  2.36it/s]\n",
            "Epoch:   4%|▍         | 2/50 [00:00<00:03, 15.00it/s]"
          ],
          "name": "stderr"
        },
        {
          "output_type": "stream",
          "text": [
            "Iteration No: 159 ended. Search finished for the next optimal point.\n",
            "Time taken: 22.0552\n",
            "Function value obtained: -0.0549\n",
            "Current minimum: -0.0748\n",
            "Iteration No: 160 started. Searching for the next optimal point.\n"
          ],
          "name": "stdout"
        },
        {
          "output_type": "stream",
          "text": [
            "Epoch: 100%|██████████| 50/50 [00:03<00:00, 15.03it/s]\n",
            "Epoch:   0%|          | 0/50 [00:00<?, ?it/s]"
          ],
          "name": "stderr"
        },
        {
          "output_type": "stream",
          "text": [
            "Iteration No: 160 ended. Search finished for the next optimal point.\n",
            "Time taken: 3.6888\n",
            "Function value obtained: -0.0699\n",
            "Current minimum: -0.0748\n",
            "Iteration No: 161 started. Searching for the next optimal point.\n"
          ],
          "name": "stdout"
        },
        {
          "output_type": "stream",
          "text": [
            "Epoch: 100%|██████████| 50/50 [00:23<00:00,  2.14it/s]\n",
            "Epoch:   0%|          | 0/50 [00:00<?, ?it/s]"
          ],
          "name": "stderr"
        },
        {
          "output_type": "stream",
          "text": [
            "Iteration No: 161 ended. Search finished for the next optimal point.\n",
            "Time taken: 24.2580\n",
            "Function value obtained: -0.0678\n",
            "Current minimum: -0.0748\n",
            "Iteration No: 162 started. Searching for the next optimal point.\n"
          ],
          "name": "stdout"
        },
        {
          "output_type": "stream",
          "text": [
            "Epoch: 100%|██████████| 50/50 [00:22<00:00,  2.19it/s]\n",
            "Epoch:   0%|          | 0/45 [00:00<?, ?it/s]"
          ],
          "name": "stderr"
        },
        {
          "output_type": "stream",
          "text": [
            "Iteration No: 162 ended. Search finished for the next optimal point.\n",
            "Time taken: 23.7010\n",
            "Function value obtained: -0.0719\n",
            "Current minimum: -0.0748\n",
            "Iteration No: 163 started. Searching for the next optimal point.\n"
          ],
          "name": "stdout"
        },
        {
          "output_type": "stream",
          "text": [
            "Epoch: 100%|██████████| 45/45 [00:20<00:00,  2.16it/s]\n",
            "Epoch:   0%|          | 0/48 [00:00<?, ?it/s]"
          ],
          "name": "stderr"
        },
        {
          "output_type": "stream",
          "text": [
            "Iteration No: 163 ended. Search finished for the next optimal point.\n",
            "Time taken: 21.7075\n",
            "Function value obtained: -0.0707\n",
            "Current minimum: -0.0748\n",
            "Iteration No: 164 started. Searching for the next optimal point.\n"
          ],
          "name": "stdout"
        },
        {
          "output_type": "stream",
          "text": [
            "Epoch: 100%|██████████| 48/48 [00:21<00:00,  2.19it/s]\n",
            "Epoch:   0%|          | 0/47 [00:00<?, ?it/s]"
          ],
          "name": "stderr"
        },
        {
          "output_type": "stream",
          "text": [
            "Iteration No: 164 ended. Search finished for the next optimal point.\n",
            "Time taken: 22.7325\n",
            "Function value obtained: -0.0686\n",
            "Current minimum: -0.0748\n",
            "Iteration No: 165 started. Searching for the next optimal point.\n"
          ],
          "name": "stdout"
        },
        {
          "output_type": "stream",
          "text": [
            "Epoch: 100%|██████████| 47/47 [00:20<00:00,  2.25it/s]\n",
            "Epoch:   0%|          | 0/50 [00:00<?, ?it/s]"
          ],
          "name": "stderr"
        },
        {
          "output_type": "stream",
          "text": [
            "Iteration No: 165 ended. Search finished for the next optimal point.\n",
            "Time taken: 21.7086\n",
            "Function value obtained: -0.0590\n",
            "Current minimum: -0.0748\n",
            "Iteration No: 166 started. Searching for the next optimal point.\n"
          ],
          "name": "stdout"
        },
        {
          "output_type": "stream",
          "text": [
            "Epoch: 100%|██████████| 50/50 [00:23<00:00,  2.13it/s]\n",
            "Epoch:   0%|          | 0/48 [00:00<?, ?it/s]"
          ],
          "name": "stderr"
        },
        {
          "output_type": "stream",
          "text": [
            "Iteration No: 166 ended. Search finished for the next optimal point.\n",
            "Time taken: 24.4226\n",
            "Function value obtained: -0.0549\n",
            "Current minimum: -0.0748\n",
            "Iteration No: 167 started. Searching for the next optimal point.\n"
          ],
          "name": "stdout"
        },
        {
          "output_type": "stream",
          "text": [
            "Epoch: 100%|██████████| 48/48 [00:22<00:00,  2.12it/s]\n",
            "Epoch:   0%|          | 0/50 [00:00<?, ?it/s]"
          ],
          "name": "stderr"
        },
        {
          "output_type": "stream",
          "text": [
            "Iteration No: 167 ended. Search finished for the next optimal point.\n",
            "Time taken: 23.4522\n",
            "Function value obtained: -0.0412\n",
            "Current minimum: -0.0748\n",
            "Iteration No: 168 started. Searching for the next optimal point.\n"
          ],
          "name": "stdout"
        },
        {
          "output_type": "stream",
          "text": [
            "Epoch: 100%|██████████| 50/50 [00:23<00:00,  2.16it/s]\n",
            "Epoch:   0%|          | 0/50 [00:00<?, ?it/s]"
          ],
          "name": "stderr"
        },
        {
          "output_type": "stream",
          "text": [
            "Iteration No: 168 ended. Search finished for the next optimal point.\n",
            "Time taken: 24.0044\n",
            "Function value obtained: -0.0628\n",
            "Current minimum: -0.0748\n",
            "Iteration No: 169 started. Searching for the next optimal point.\n"
          ],
          "name": "stdout"
        },
        {
          "output_type": "stream",
          "text": [
            "Epoch: 100%|██████████| 50/50 [00:20<00:00,  2.42it/s]\n",
            "Epoch:   0%|          | 0/43 [00:00<?, ?it/s]"
          ],
          "name": "stderr"
        },
        {
          "output_type": "stream",
          "text": [
            "Iteration No: 169 ended. Search finished for the next optimal point.\n",
            "Time taken: 21.4983\n",
            "Function value obtained: -0.0320\n",
            "Current minimum: -0.0748\n",
            "Iteration No: 170 started. Searching for the next optimal point.\n"
          ],
          "name": "stdout"
        },
        {
          "output_type": "stream",
          "text": [
            "Epoch: 100%|██████████| 43/43 [00:15<00:00,  2.86it/s]\n",
            "Epoch:   0%|          | 0/42 [00:00<?, ?it/s]"
          ],
          "name": "stderr"
        },
        {
          "output_type": "stream",
          "text": [
            "Iteration No: 170 ended. Search finished for the next optimal point.\n",
            "Time taken: 15.8889\n",
            "Function value obtained: -0.0008\n",
            "Current minimum: -0.0748\n",
            "Iteration No: 171 started. Searching for the next optimal point.\n"
          ],
          "name": "stdout"
        },
        {
          "output_type": "stream",
          "text": [
            "Epoch: 100%|██████████| 42/42 [00:17<00:00,  2.42it/s]\n",
            "Epoch:   4%|▍         | 2/49 [00:00<00:03, 14.51it/s]"
          ],
          "name": "stderr"
        },
        {
          "output_type": "stream",
          "text": [
            "Iteration No: 171 ended. Search finished for the next optimal point.\n",
            "Time taken: 18.1493\n",
            "Function value obtained: -0.0503\n",
            "Current minimum: -0.0748\n",
            "Iteration No: 172 started. Searching for the next optimal point.\n"
          ],
          "name": "stdout"
        },
        {
          "output_type": "stream",
          "text": [
            "Epoch: 100%|██████████| 49/49 [00:03<00:00, 14.17it/s]\n",
            "Epoch:   0%|          | 0/29 [00:00<?, ?it/s]"
          ],
          "name": "stderr"
        },
        {
          "output_type": "stream",
          "text": [
            "Iteration No: 172 ended. Search finished for the next optimal point.\n",
            "Time taken: 3.8112\n",
            "Function value obtained: -0.0699\n",
            "Current minimum: -0.0748\n",
            "Iteration No: 173 started. Searching for the next optimal point.\n"
          ],
          "name": "stdout"
        },
        {
          "output_type": "stream",
          "text": [
            "Epoch: 100%|██████████| 29/29 [00:12<00:00,  2.42it/s]\n",
            "Epoch:   0%|          | 0/27 [00:00<?, ?it/s]"
          ],
          "name": "stderr"
        },
        {
          "output_type": "stream",
          "text": [
            "Iteration No: 173 ended. Search finished for the next optimal point.\n",
            "Time taken: 12.8526\n",
            "Function value obtained: -0.0262\n",
            "Current minimum: -0.0748\n",
            "Iteration No: 174 started. Searching for the next optimal point.\n"
          ],
          "name": "stdout"
        },
        {
          "output_type": "stream",
          "text": [
            "Epoch: 100%|██████████| 27/27 [00:12<00:00,  2.21it/s]\n",
            "Epoch:   0%|          | 0/46 [00:00<?, ?it/s]"
          ],
          "name": "stderr"
        },
        {
          "output_type": "stream",
          "text": [
            "Iteration No: 174 ended. Search finished for the next optimal point.\n",
            "Time taken: 13.0658\n",
            "Function value obtained: -0.0607\n",
            "Current minimum: -0.0748\n",
            "Iteration No: 175 started. Searching for the next optimal point.\n"
          ],
          "name": "stdout"
        },
        {
          "output_type": "stream",
          "text": [
            "Epoch: 100%|██████████| 46/46 [00:21<00:00,  2.19it/s]\n",
            "Epoch:   4%|▍         | 2/50 [00:00<00:03, 14.57it/s]"
          ],
          "name": "stderr"
        },
        {
          "output_type": "stream",
          "text": [
            "Iteration No: 175 ended. Search finished for the next optimal point.\n",
            "Time taken: 21.8586\n",
            "Function value obtained: -0.0595\n",
            "Current minimum: -0.0748\n",
            "Iteration No: 176 started. Searching for the next optimal point.\n"
          ],
          "name": "stdout"
        },
        {
          "output_type": "stream",
          "text": [
            "Epoch: 100%|██████████| 50/50 [00:03<00:00, 15.39it/s]\n",
            "Epoch:   0%|          | 0/24 [00:00<?, ?it/s]"
          ],
          "name": "stderr"
        },
        {
          "output_type": "stream",
          "text": [
            "Iteration No: 176 ended. Search finished for the next optimal point.\n",
            "Time taken: 3.7201\n",
            "Function value obtained: -0.0424\n",
            "Current minimum: -0.0748\n",
            "Iteration No: 177 started. Searching for the next optimal point.\n"
          ],
          "name": "stdout"
        },
        {
          "output_type": "stream",
          "text": [
            "Epoch: 100%|██████████| 24/24 [00:10<00:00,  2.19it/s]\n",
            "Epoch:   0%|          | 0/19 [00:00<?, ?it/s]"
          ],
          "name": "stderr"
        },
        {
          "output_type": "stream",
          "text": [
            "Iteration No: 177 ended. Search finished for the next optimal point.\n",
            "Time taken: 11.8152\n",
            "Function value obtained: -0.0640\n",
            "Current minimum: -0.0748\n",
            "Iteration No: 178 started. Searching for the next optimal point.\n"
          ],
          "name": "stdout"
        },
        {
          "output_type": "stream",
          "text": [
            "Epoch: 100%|██████████| 19/19 [00:04<00:00,  4.00it/s]\n",
            "Epoch:   0%|          | 0/2 [00:00<?, ?it/s]"
          ],
          "name": "stderr"
        },
        {
          "output_type": "stream",
          "text": [
            "Iteration No: 178 ended. Search finished for the next optimal point.\n",
            "Time taken: 5.3834\n",
            "Function value obtained: -0.0200\n",
            "Current minimum: -0.0748\n",
            "Iteration No: 179 started. Searching for the next optimal point.\n"
          ],
          "name": "stdout"
        },
        {
          "output_type": "stream",
          "text": [
            "Epoch: 100%|██████████| 2/2 [00:00<00:00,  4.19it/s]\n",
            "Epoch:   0%|          | 0/44 [00:00<?, ?it/s]"
          ],
          "name": "stderr"
        },
        {
          "output_type": "stream",
          "text": [
            "Iteration No: 179 ended. Search finished for the next optimal point.\n",
            "Time taken: 1.0543\n",
            "Function value obtained: -0.0441\n",
            "Current minimum: -0.0748\n",
            "Iteration No: 180 started. Searching for the next optimal point.\n"
          ],
          "name": "stdout"
        },
        {
          "output_type": "stream",
          "text": [
            "Epoch: 100%|██████████| 44/44 [00:21<00:00,  2.08it/s]\n",
            "Epoch:   0%|          | 0/20 [00:00<?, ?it/s]"
          ],
          "name": "stderr"
        },
        {
          "output_type": "stream",
          "text": [
            "Iteration No: 180 ended. Search finished for the next optimal point.\n",
            "Time taken: 21.9852\n",
            "Function value obtained: -0.0649\n",
            "Current minimum: -0.0748\n",
            "Iteration No: 181 started. Searching for the next optimal point.\n"
          ],
          "name": "stdout"
        },
        {
          "output_type": "stream",
          "text": [
            "Epoch: 100%|██████████| 20/20 [00:08<00:00,  2.50it/s]\n",
            "Epoch:   0%|          | 0/49 [00:00<?, ?it/s]"
          ],
          "name": "stderr"
        },
        {
          "output_type": "stream",
          "text": [
            "Iteration No: 181 ended. Search finished for the next optimal point.\n",
            "Time taken: 8.8106\n",
            "Function value obtained: -0.0615\n",
            "Current minimum: -0.0748\n",
            "Iteration No: 182 started. Searching for the next optimal point.\n"
          ],
          "name": "stdout"
        },
        {
          "output_type": "stream",
          "text": [
            "Epoch: 100%|██████████| 49/49 [00:21<00:00,  2.25it/s]\n",
            "Epoch:   0%|          | 0/48 [00:00<?, ?it/s]"
          ],
          "name": "stderr"
        },
        {
          "output_type": "stream",
          "text": [
            "Iteration No: 182 ended. Search finished for the next optimal point.\n",
            "Time taken: 22.5713\n",
            "Function value obtained: -0.0657\n",
            "Current minimum: -0.0748\n",
            "Iteration No: 183 started. Searching for the next optimal point.\n"
          ],
          "name": "stdout"
        },
        {
          "output_type": "stream",
          "text": [
            "Epoch: 100%|██████████| 48/48 [00:11<00:00,  4.15it/s]\n",
            "Epoch:   0%|          | 0/41 [00:00<?, ?it/s]"
          ],
          "name": "stderr"
        },
        {
          "output_type": "stream",
          "text": [
            "Iteration No: 183 ended. Search finished for the next optimal point.\n",
            "Time taken: 12.1702\n",
            "Function value obtained: -0.0553\n",
            "Current minimum: -0.0748\n",
            "Iteration No: 184 started. Searching for the next optimal point.\n"
          ],
          "name": "stdout"
        },
        {
          "output_type": "stream",
          "text": [
            "Epoch: 100%|██████████| 41/41 [00:20<00:00,  2.01it/s]\n",
            "Epoch:   0%|          | 0/46 [00:00<?, ?it/s]"
          ],
          "name": "stderr"
        },
        {
          "output_type": "stream",
          "text": [
            "Iteration No: 184 ended. Search finished for the next optimal point.\n",
            "Time taken: 21.2374\n",
            "Function value obtained: -0.0004\n",
            "Current minimum: -0.0748\n",
            "Iteration No: 185 started. Searching for the next optimal point.\n"
          ],
          "name": "stdout"
        },
        {
          "output_type": "stream",
          "text": [
            "Epoch: 100%|██████████| 46/46 [00:22<00:00,  2.06it/s]\n",
            "Epoch:   0%|          | 0/20 [00:00<?, ?it/s]"
          ],
          "name": "stderr"
        },
        {
          "output_type": "stream",
          "text": [
            "Iteration No: 185 ended. Search finished for the next optimal point.\n",
            "Time taken: 23.1750\n",
            "Function value obtained: -0.0511\n",
            "Current minimum: -0.0748\n",
            "Iteration No: 186 started. Searching for the next optimal point.\n"
          ],
          "name": "stdout"
        },
        {
          "output_type": "stream",
          "text": [
            "Epoch: 100%|██████████| 20/20 [00:09<00:00,  2.06it/s]\n",
            "Epoch:   0%|          | 0/42 [00:00<?, ?it/s]"
          ],
          "name": "stderr"
        },
        {
          "output_type": "stream",
          "text": [
            "Iteration No: 186 ended. Search finished for the next optimal point.\n",
            "Time taken: 10.5763\n",
            "Function value obtained: -0.0412\n",
            "Current minimum: -0.0748\n",
            "Iteration No: 187 started. Searching for the next optimal point.\n"
          ],
          "name": "stdout"
        },
        {
          "output_type": "stream",
          "text": [
            "Epoch: 100%|██████████| 42/42 [00:19<00:00,  2.21it/s]\n",
            "Epoch:   0%|          | 0/49 [00:00<?, ?it/s]"
          ],
          "name": "stderr"
        },
        {
          "output_type": "stream",
          "text": [
            "Iteration No: 187 ended. Search finished for the next optimal point.\n",
            "Time taken: 19.9891\n",
            "Function value obtained: -0.0553\n",
            "Current minimum: -0.0748\n",
            "Iteration No: 188 started. Searching for the next optimal point.\n"
          ],
          "name": "stdout"
        },
        {
          "output_type": "stream",
          "text": [
            "Epoch: 100%|██████████| 49/49 [00:23<00:00,  2.11it/s]\n",
            "Epoch:   0%|          | 0/39 [00:00<?, ?it/s]"
          ],
          "name": "stderr"
        },
        {
          "output_type": "stream",
          "text": [
            "Iteration No: 188 ended. Search finished for the next optimal point.\n",
            "Time taken: 24.0942\n",
            "Function value obtained: -0.0607\n",
            "Current minimum: -0.0748\n",
            "Iteration No: 189 started. Searching for the next optimal point.\n"
          ],
          "name": "stdout"
        },
        {
          "output_type": "stream",
          "text": [
            "Epoch: 100%|██████████| 39/39 [00:18<00:00,  2.10it/s]\n",
            "Epoch:   0%|          | 0/21 [00:00<?, ?it/s]"
          ],
          "name": "stderr"
        },
        {
          "output_type": "stream",
          "text": [
            "Iteration No: 189 ended. Search finished for the next optimal point.\n",
            "Time taken: 19.4158\n",
            "Function value obtained: -0.0678\n",
            "Current minimum: -0.0748\n",
            "Iteration No: 190 started. Searching for the next optimal point.\n"
          ],
          "name": "stdout"
        },
        {
          "output_type": "stream",
          "text": [
            "Epoch: 100%|██████████| 21/21 [00:05<00:00,  3.71it/s]\n",
            "Epoch:   0%|          | 0/25 [00:00<?, ?it/s]"
          ],
          "name": "stderr"
        },
        {
          "output_type": "stream",
          "text": [
            "Iteration No: 190 ended. Search finished for the next optimal point.\n",
            "Time taken: 6.2756\n",
            "Function value obtained: -0.0624\n",
            "Current minimum: -0.0748\n",
            "Iteration No: 191 started. Searching for the next optimal point.\n"
          ],
          "name": "stdout"
        },
        {
          "output_type": "stream",
          "text": [
            "Epoch: 100%|██████████| 25/25 [00:08<00:00,  2.84it/s]\n",
            "Epoch:   0%|          | 0/49 [00:00<?, ?it/s]"
          ],
          "name": "stderr"
        },
        {
          "output_type": "stream",
          "text": [
            "Iteration No: 191 ended. Search finished for the next optimal point.\n",
            "Time taken: 9.5411\n",
            "Function value obtained: -0.0495\n",
            "Current minimum: -0.0748\n",
            "Iteration No: 192 started. Searching for the next optimal point.\n"
          ],
          "name": "stdout"
        },
        {
          "output_type": "stream",
          "text": [
            "Epoch: 100%|██████████| 49/49 [00:21<00:00,  2.24it/s]\n",
            "Epoch:   0%|          | 0/49 [00:00<?, ?it/s]"
          ],
          "name": "stderr"
        },
        {
          "output_type": "stream",
          "text": [
            "Iteration No: 192 ended. Search finished for the next optimal point.\n",
            "Time taken: 22.7433\n",
            "Function value obtained: -0.0320\n",
            "Current minimum: -0.0748\n",
            "Iteration No: 193 started. Searching for the next optimal point.\n"
          ],
          "name": "stdout"
        },
        {
          "output_type": "stream",
          "text": [
            "Epoch: 100%|██████████| 49/49 [00:20<00:00,  2.35it/s]\n",
            "Epoch:   4%|▍         | 2/49 [00:00<00:03, 11.96it/s]"
          ],
          "name": "stderr"
        },
        {
          "output_type": "stream",
          "text": [
            "Iteration No: 193 ended. Search finished for the next optimal point.\n",
            "Time taken: 21.6700\n",
            "Function value obtained: -0.0462\n",
            "Current minimum: -0.0748\n",
            "Iteration No: 194 started. Searching for the next optimal point.\n"
          ],
          "name": "stdout"
        },
        {
          "output_type": "stream",
          "text": [
            "Epoch: 100%|██████████| 49/49 [00:03<00:00, 12.27it/s]\n",
            "Epoch:   0%|          | 0/20 [00:00<?, ?it/s]"
          ],
          "name": "stderr"
        },
        {
          "output_type": "stream",
          "text": [
            "Iteration No: 194 ended. Search finished for the next optimal point.\n",
            "Time taken: 4.3683\n",
            "Function value obtained: -0.0678\n",
            "Current minimum: -0.0748\n",
            "Iteration No: 195 started. Searching for the next optimal point.\n"
          ],
          "name": "stdout"
        },
        {
          "output_type": "stream",
          "text": [
            "Epoch: 100%|██████████| 20/20 [00:07<00:00,  2.64it/s]\n",
            "Epoch:   0%|          | 0/19 [00:00<?, ?it/s]"
          ],
          "name": "stderr"
        },
        {
          "output_type": "stream",
          "text": [
            "Iteration No: 195 ended. Search finished for the next optimal point.\n",
            "Time taken: 8.4485\n",
            "Function value obtained: -0.0062\n",
            "Current minimum: -0.0748\n",
            "Iteration No: 196 started. Searching for the next optimal point.\n"
          ],
          "name": "stdout"
        },
        {
          "output_type": "stream",
          "text": [
            "Epoch: 100%|██████████| 19/19 [00:08<00:00,  2.36it/s]\n",
            "Epoch:   0%|          | 0/39 [00:00<?, ?it/s]"
          ],
          "name": "stderr"
        },
        {
          "output_type": "stream",
          "text": [
            "Iteration No: 196 ended. Search finished for the next optimal point.\n",
            "Time taken: 8.8825\n",
            "Function value obtained: -0.0595\n",
            "Current minimum: -0.0748\n",
            "Iteration No: 197 started. Searching for the next optimal point.\n"
          ],
          "name": "stdout"
        },
        {
          "output_type": "stream",
          "text": [
            "Epoch: 100%|██████████| 39/39 [00:18<00:00,  2.14it/s]\n",
            "Epoch:   0%|          | 0/28 [00:00<?, ?it/s]"
          ],
          "name": "stderr"
        },
        {
          "output_type": "stream",
          "text": [
            "Iteration No: 197 ended. Search finished for the next optimal point.\n",
            "Time taken: 19.0780\n",
            "Function value obtained: -0.0407\n",
            "Current minimum: -0.0748\n",
            "Iteration No: 198 started. Searching for the next optimal point.\n"
          ],
          "name": "stdout"
        },
        {
          "output_type": "stream",
          "text": [
            "Epoch: 100%|██████████| 28/28 [00:13<00:00,  2.09it/s]\n",
            "Epoch:   0%|          | 0/11 [00:00<?, ?it/s]"
          ],
          "name": "stderr"
        },
        {
          "output_type": "stream",
          "text": [
            "Iteration No: 198 ended. Search finished for the next optimal point.\n",
            "Time taken: 14.2491\n",
            "Function value obtained: -0.0565\n",
            "Current minimum: -0.0748\n",
            "Iteration No: 199 started. Searching for the next optimal point.\n"
          ],
          "name": "stdout"
        },
        {
          "output_type": "stream",
          "text": [
            "Epoch: 100%|██████████| 11/11 [00:05<00:00,  2.16it/s]\n",
            "Epoch:   4%|▍         | 2/50 [00:00<00:03, 12.14it/s]"
          ],
          "name": "stderr"
        },
        {
          "output_type": "stream",
          "text": [
            "Iteration No: 199 ended. Search finished for the next optimal point.\n",
            "Time taken: 6.0620\n",
            "Function value obtained: -0.0640\n",
            "Current minimum: -0.0748\n",
            "Iteration No: 200 started. Searching for the next optimal point.\n"
          ],
          "name": "stdout"
        },
        {
          "output_type": "stream",
          "text": [
            "Epoch: 100%|██████████| 50/50 [00:04<00:00, 12.23it/s]\n",
            "Epoch:   0%|          | 0/15 [00:00<?, ?it/s]"
          ],
          "name": "stderr"
        },
        {
          "output_type": "stream",
          "text": [
            "Iteration No: 200 ended. Search finished for the next optimal point.\n",
            "Time taken: 4.4858\n",
            "Function value obtained: -0.0578\n",
            "Current minimum: -0.0748\n",
            "Iteration No: 201 started. Searching for the next optimal point.\n"
          ],
          "name": "stdout"
        },
        {
          "output_type": "stream",
          "text": [
            "Epoch: 100%|██████████| 15/15 [00:05<00:00,  2.65it/s]\n",
            "Epoch:   4%|▍         | 2/49 [00:00<00:02, 15.71it/s]"
          ],
          "name": "stderr"
        },
        {
          "output_type": "stream",
          "text": [
            "Iteration No: 201 ended. Search finished for the next optimal point.\n",
            "Time taken: 6.4560\n",
            "Function value obtained: -0.0225\n",
            "Current minimum: -0.0748\n",
            "Iteration No: 202 started. Searching for the next optimal point.\n"
          ],
          "name": "stdout"
        },
        {
          "output_type": "stream",
          "text": [
            "Epoch: 100%|██████████| 49/49 [00:03<00:00, 15.24it/s]\n",
            "Epoch:   5%|▌         | 2/39 [00:00<00:02, 13.42it/s]"
          ],
          "name": "stderr"
        },
        {
          "output_type": "stream",
          "text": [
            "Iteration No: 202 ended. Search finished for the next optimal point.\n",
            "Time taken: 3.5962\n",
            "Function value obtained: -0.0657\n",
            "Current minimum: -0.0748\n",
            "Iteration No: 203 started. Searching for the next optimal point.\n"
          ],
          "name": "stdout"
        },
        {
          "output_type": "stream",
          "text": [
            "Epoch: 100%|██████████| 39/39 [00:03<00:00, 12.70it/s]\n",
            "Epoch:   2%|▏         | 1/49 [00:00<00:07,  6.33it/s]"
          ],
          "name": "stderr"
        },
        {
          "output_type": "stream",
          "text": [
            "Iteration No: 203 ended. Search finished for the next optimal point.\n",
            "Time taken: 3.4685\n",
            "Function value obtained: -0.0412\n",
            "Current minimum: -0.0748\n",
            "Iteration No: 204 started. Searching for the next optimal point.\n"
          ],
          "name": "stdout"
        },
        {
          "output_type": "stream",
          "text": [
            "Epoch: 100%|██████████| 49/49 [00:07<00:00,  6.62it/s]\n",
            "Epoch:   0%|          | 0/45 [00:00<?, ?it/s]"
          ],
          "name": "stderr"
        },
        {
          "output_type": "stream",
          "text": [
            "Iteration No: 204 ended. Search finished for the next optimal point.\n",
            "Time taken: 7.8673\n",
            "Function value obtained: -0.0516\n",
            "Current minimum: -0.0748\n",
            "Iteration No: 205 started. Searching for the next optimal point.\n"
          ],
          "name": "stdout"
        },
        {
          "output_type": "stream",
          "text": [
            "Epoch: 100%|██████████| 45/45 [00:04<00:00, 10.52it/s]\n",
            "Epoch:   0%|          | 0/23 [00:00<?, ?it/s]"
          ],
          "name": "stderr"
        },
        {
          "output_type": "stream",
          "text": [
            "Iteration No: 205 ended. Search finished for the next optimal point.\n",
            "Time taken: 4.6960\n",
            "Function value obtained: -0.0570\n",
            "Current minimum: -0.0748\n",
            "Iteration No: 206 started. Searching for the next optimal point.\n"
          ],
          "name": "stdout"
        },
        {
          "output_type": "stream",
          "text": [
            "Epoch: 100%|██████████| 23/23 [00:09<00:00,  2.31it/s]\n",
            "Epoch:   0%|          | 0/20 [00:00<?, ?it/s]"
          ],
          "name": "stderr"
        },
        {
          "output_type": "stream",
          "text": [
            "Iteration No: 206 ended. Search finished for the next optimal point.\n",
            "Time taken: 10.8189\n",
            "Function value obtained: -0.0453\n",
            "Current minimum: -0.0748\n",
            "Iteration No: 207 started. Searching for the next optimal point.\n"
          ],
          "name": "stdout"
        },
        {
          "output_type": "stream",
          "text": [
            "Epoch: 100%|██████████| 20/20 [00:08<00:00,  2.31it/s]\n",
            "Epoch:   0%|          | 0/17 [00:00<?, ?it/s]"
          ],
          "name": "stderr"
        },
        {
          "output_type": "stream",
          "text": [
            "Iteration No: 207 ended. Search finished for the next optimal point.\n",
            "Time taken: 9.4836\n",
            "Function value obtained: -0.0383\n",
            "Current minimum: -0.0748\n",
            "Iteration No: 208 started. Searching for the next optimal point.\n"
          ],
          "name": "stdout"
        },
        {
          "output_type": "stream",
          "text": [
            "Epoch: 100%|██████████| 17/17 [00:04<00:00,  3.59it/s]\n",
            "Epoch:   6%|▌         | 1/17 [00:00<00:02,  6.29it/s]"
          ],
          "name": "stderr"
        },
        {
          "output_type": "stream",
          "text": [
            "Iteration No: 208 ended. Search finished for the next optimal point.\n",
            "Time taken: 5.3781\n",
            "Function value obtained: -0.0640\n",
            "Current minimum: -0.0748\n",
            "Iteration No: 209 started. Searching for the next optimal point.\n"
          ],
          "name": "stdout"
        },
        {
          "output_type": "stream",
          "text": [
            "Epoch: 100%|██████████| 17/17 [00:02<00:00,  6.32it/s]\n",
            "Epoch:   0%|          | 0/45 [00:00<?, ?it/s]"
          ],
          "name": "stderr"
        },
        {
          "output_type": "stream",
          "text": [
            "Iteration No: 209 ended. Search finished for the next optimal point.\n",
            "Time taken: 3.1648\n",
            "Function value obtained: -0.0374\n",
            "Current minimum: -0.0748\n",
            "Iteration No: 210 started. Searching for the next optimal point.\n"
          ],
          "name": "stdout"
        },
        {
          "output_type": "stream",
          "text": [
            "Epoch: 100%|██████████| 45/45 [00:21<00:00,  2.09it/s]\n",
            "Epoch:   4%|▍         | 2/45 [00:00<00:03, 11.82it/s]"
          ],
          "name": "stderr"
        },
        {
          "output_type": "stream",
          "text": [
            "Iteration No: 210 ended. Search finished for the next optimal point.\n",
            "Time taken: 22.5483\n",
            "Function value obtained: -0.0649\n",
            "Current minimum: -0.0748\n",
            "Iteration No: 211 started. Searching for the next optimal point.\n"
          ],
          "name": "stdout"
        },
        {
          "output_type": "stream",
          "text": [
            "Epoch: 100%|██████████| 45/45 [00:03<00:00, 12.05it/s]\n",
            "Epoch:   0%|          | 0/48 [00:00<?, ?it/s]"
          ],
          "name": "stderr"
        },
        {
          "output_type": "stream",
          "text": [
            "Iteration No: 211 ended. Search finished for the next optimal point.\n",
            "Time taken: 4.1493\n",
            "Function value obtained: -0.0104\n",
            "Current minimum: -0.0748\n",
            "Iteration No: 212 started. Searching for the next optimal point.\n"
          ],
          "name": "stdout"
        },
        {
          "output_type": "stream",
          "text": [
            "Epoch: 100%|██████████| 48/48 [00:22<00:00,  2.09it/s]\n",
            "Epoch:   0%|          | 0/45 [00:00<?, ?it/s]"
          ],
          "name": "stderr"
        },
        {
          "output_type": "stream",
          "text": [
            "Iteration No: 212 ended. Search finished for the next optimal point.\n",
            "Time taken: 23.8261\n",
            "Function value obtained: -0.0100\n",
            "Current minimum: -0.0748\n",
            "Iteration No: 213 started. Searching for the next optimal point.\n"
          ],
          "name": "stdout"
        },
        {
          "output_type": "stream",
          "text": [
            "Epoch: 100%|██████████| 45/45 [00:21<00:00,  2.14it/s]\n",
            "Epoch:   0%|          | 0/19 [00:00<?, ?it/s]"
          ],
          "name": "stderr"
        },
        {
          "output_type": "stream",
          "text": [
            "Iteration No: 213 ended. Search finished for the next optimal point.\n",
            "Time taken: 21.9277\n",
            "Function value obtained: -0.0470\n",
            "Current minimum: -0.0748\n",
            "Iteration No: 214 started. Searching for the next optimal point.\n"
          ],
          "name": "stdout"
        },
        {
          "output_type": "stream",
          "text": [
            "Epoch: 100%|██████████| 19/19 [00:05<00:00,  3.79it/s]\n",
            "Epoch:   0%|          | 0/2 [00:00<?, ?it/s]"
          ],
          "name": "stderr"
        },
        {
          "output_type": "stream",
          "text": [
            "Iteration No: 214 ended. Search finished for the next optimal point.\n",
            "Time taken: 5.6320\n",
            "Function value obtained: -0.0636\n",
            "Current minimum: -0.0748\n",
            "Iteration No: 215 started. Searching for the next optimal point.\n"
          ],
          "name": "stdout"
        },
        {
          "output_type": "stream",
          "text": [
            "Epoch: 100%|██████████| 2/2 [00:00<00:00,  3.71it/s]\n",
            "Epoch:   0%|          | 0/18 [00:00<?, ?it/s]"
          ],
          "name": "stderr"
        },
        {
          "output_type": "stream",
          "text": [
            "Iteration No: 215 ended. Search finished for the next optimal point.\n",
            "Time taken: 1.1724\n",
            "Function value obtained: -0.0445\n",
            "Current minimum: -0.0748\n",
            "Iteration No: 216 started. Searching for the next optimal point.\n"
          ],
          "name": "stdout"
        },
        {
          "output_type": "stream",
          "text": [
            "Epoch: 100%|██████████| 18/18 [00:06<00:00,  2.57it/s]\n",
            "Epoch:   0%|          | 0/21 [00:00<?, ?it/s]"
          ],
          "name": "stderr"
        },
        {
          "output_type": "stream",
          "text": [
            "Iteration No: 216 ended. Search finished for the next optimal point.\n",
            "Time taken: 7.7676\n",
            "Function value obtained: -0.0653\n",
            "Current minimum: -0.0748\n",
            "Iteration No: 217 started. Searching for the next optimal point.\n"
          ],
          "name": "stdout"
        },
        {
          "output_type": "stream",
          "text": [
            "Epoch: 100%|██████████| 21/21 [00:08<00:00,  2.60it/s]\n",
            "Epoch:   4%|▍         | 2/49 [00:00<00:03, 14.33it/s]"
          ],
          "name": "stderr"
        },
        {
          "output_type": "stream",
          "text": [
            "Iteration No: 217 ended. Search finished for the next optimal point.\n",
            "Time taken: 8.8234\n",
            "Function value obtained: -0.0636\n",
            "Current minimum: -0.0748\n",
            "Iteration No: 218 started. Searching for the next optimal point.\n"
          ],
          "name": "stdout"
        },
        {
          "output_type": "stream",
          "text": [
            "Epoch: 100%|██████████| 49/49 [00:03<00:00, 13.96it/s]\n",
            "Epoch:   0%|          | 0/46 [00:00<?, ?it/s]"
          ],
          "name": "stderr"
        },
        {
          "output_type": "stream",
          "text": [
            "Iteration No: 218 ended. Search finished for the next optimal point.\n",
            "Time taken: 3.8861\n",
            "Function value obtained: -0.0012\n",
            "Current minimum: -0.0748\n",
            "Iteration No: 219 started. Searching for the next optimal point.\n"
          ],
          "name": "stdout"
        },
        {
          "output_type": "stream",
          "text": [
            "Epoch: 100%|██████████| 46/46 [00:22<00:00,  2.08it/s]\n",
            "Epoch:   0%|          | 0/47 [00:00<?, ?it/s]"
          ],
          "name": "stderr"
        },
        {
          "output_type": "stream",
          "text": [
            "Iteration No: 219 ended. Search finished for the next optimal point.\n",
            "Time taken: 22.9666\n",
            "Function value obtained: -0.0420\n",
            "Current minimum: -0.0748\n",
            "Iteration No: 220 started. Searching for the next optimal point.\n"
          ],
          "name": "stdout"
        },
        {
          "output_type": "stream",
          "text": [
            "Epoch: 100%|██████████| 47/47 [00:20<00:00,  2.30it/s]\n",
            "Epoch:   2%|▏         | 1/49 [00:00<00:06,  7.21it/s]"
          ],
          "name": "stderr"
        },
        {
          "output_type": "stream",
          "text": [
            "Iteration No: 220 ended. Search finished for the next optimal point.\n",
            "Time taken: 21.2575\n",
            "Function value obtained: -0.0146\n",
            "Current minimum: -0.0748\n",
            "Iteration No: 221 started. Searching for the next optimal point.\n"
          ],
          "name": "stdout"
        },
        {
          "output_type": "stream",
          "text": [
            "Epoch: 100%|██████████| 49/49 [00:06<00:00,  7.56it/s]\n",
            "Epoch:   0%|          | 0/46 [00:00<?, ?it/s]"
          ],
          "name": "stderr"
        },
        {
          "output_type": "stream",
          "text": [
            "Iteration No: 221 ended. Search finished for the next optimal point.\n",
            "Time taken: 6.9199\n",
            "Function value obtained: -0.0432\n",
            "Current minimum: -0.0748\n",
            "Iteration No: 222 started. Searching for the next optimal point.\n"
          ],
          "name": "stdout"
        },
        {
          "output_type": "stream",
          "text": [
            "Epoch: 100%|██████████| 46/46 [00:19<00:00,  2.40it/s]\n",
            "Epoch:   0%|          | 0/20 [00:00<?, ?it/s]"
          ],
          "name": "stderr"
        },
        {
          "output_type": "stream",
          "text": [
            "Iteration No: 222 ended. Search finished for the next optimal point.\n",
            "Time taken: 20.0955\n",
            "Function value obtained: -0.0661\n",
            "Current minimum: -0.0748\n",
            "Iteration No: 223 started. Searching for the next optimal point.\n"
          ],
          "name": "stdout"
        },
        {
          "output_type": "stream",
          "text": [
            "Epoch: 100%|██████████| 20/20 [00:09<00:00,  2.13it/s]\n",
            "Epoch:   0%|          | 0/41 [00:00<?, ?it/s]"
          ],
          "name": "stderr"
        },
        {
          "output_type": "stream",
          "text": [
            "Iteration No: 223 ended. Search finished for the next optimal point.\n",
            "Time taken: 10.2698\n",
            "Function value obtained: -0.0653\n",
            "Current minimum: -0.0748\n",
            "Iteration No: 224 started. Searching for the next optimal point.\n"
          ],
          "name": "stdout"
        },
        {
          "output_type": "stream",
          "text": [
            "Epoch: 100%|██████████| 41/41 [00:19<00:00,  2.10it/s]\n",
            "Epoch:   4%|▍         | 2/50 [00:00<00:03, 13.84it/s]"
          ],
          "name": "stderr"
        },
        {
          "output_type": "stream",
          "text": [
            "Iteration No: 224 ended. Search finished for the next optimal point.\n",
            "Time taken: 20.4373\n",
            "Function value obtained: -0.0528\n",
            "Current minimum: -0.0748\n",
            "Iteration No: 225 started. Searching for the next optimal point.\n"
          ],
          "name": "stdout"
        },
        {
          "output_type": "stream",
          "text": [
            "Epoch: 100%|██████████| 50/50 [00:03<00:00, 13.55it/s]\n",
            "Epoch:   0%|          | 0/33 [00:00<?, ?it/s]"
          ],
          "name": "stderr"
        },
        {
          "output_type": "stream",
          "text": [
            "Iteration No: 225 ended. Search finished for the next optimal point.\n",
            "Time taken: 4.0878\n",
            "Function value obtained: -0.0636\n",
            "Current minimum: -0.0748\n",
            "Iteration No: 226 started. Searching for the next optimal point.\n"
          ],
          "name": "stdout"
        },
        {
          "output_type": "stream",
          "text": [
            "Epoch: 100%|██████████| 33/33 [00:07<00:00,  4.31it/s]\n",
            "Epoch:   0%|          | 0/20 [00:00<?, ?it/s]"
          ],
          "name": "stderr"
        },
        {
          "output_type": "stream",
          "text": [
            "Iteration No: 226 ended. Search finished for the next optimal point.\n",
            "Time taken: 8.2383\n",
            "Function value obtained: -0.0628\n",
            "Current minimum: -0.0748\n",
            "Iteration No: 227 started. Searching for the next optimal point.\n"
          ],
          "name": "stdout"
        },
        {
          "output_type": "stream",
          "text": [
            "Epoch: 100%|██████████| 20/20 [00:06<00:00,  2.90it/s]\n",
            "Epoch:   0%|          | 0/21 [00:00<?, ?it/s]"
          ],
          "name": "stderr"
        },
        {
          "output_type": "stream",
          "text": [
            "Iteration No: 227 ended. Search finished for the next optimal point.\n",
            "Time taken: 7.6507\n",
            "Function value obtained: -0.0104\n",
            "Current minimum: -0.0748\n",
            "Iteration No: 228 started. Searching for the next optimal point.\n"
          ],
          "name": "stdout"
        },
        {
          "output_type": "stream",
          "text": [
            "Epoch: 100%|██████████| 21/21 [00:07<00:00,  2.76it/s]\n",
            "Epoch:   0%|          | 0/39 [00:00<?, ?it/s]"
          ],
          "name": "stderr"
        },
        {
          "output_type": "stream",
          "text": [
            "Iteration No: 228 ended. Search finished for the next optimal point.\n",
            "Time taken: 8.3593\n",
            "Function value obtained: -0.0432\n",
            "Current minimum: -0.0748\n",
            "Iteration No: 229 started. Searching for the next optimal point.\n"
          ],
          "name": "stdout"
        },
        {
          "output_type": "stream",
          "text": [
            "Epoch: 100%|██████████| 39/39 [00:18<00:00,  2.10it/s]\n",
            "Epoch:   5%|▍         | 2/44 [00:00<00:03, 12.30it/s]"
          ],
          "name": "stderr"
        },
        {
          "output_type": "stream",
          "text": [
            "Iteration No: 229 ended. Search finished for the next optimal point.\n",
            "Time taken: 19.4098\n",
            "Function value obtained: -0.0457\n",
            "Current minimum: -0.0748\n",
            "Iteration No: 230 started. Searching for the next optimal point.\n"
          ],
          "name": "stdout"
        },
        {
          "output_type": "stream",
          "text": [
            "Epoch: 100%|██████████| 44/44 [00:03<00:00, 12.00it/s]\n",
            "Epoch:   0%|          | 0/47 [00:00<?, ?it/s]"
          ],
          "name": "stderr"
        },
        {
          "output_type": "stream",
          "text": [
            "Iteration No: 230 ended. Search finished for the next optimal point.\n",
            "Time taken: 4.0812\n",
            "Function value obtained: -0.0653\n",
            "Current minimum: -0.0748\n",
            "Iteration No: 231 started. Searching for the next optimal point.\n"
          ],
          "name": "stdout"
        },
        {
          "output_type": "stream",
          "text": [
            "Epoch: 100%|██████████| 47/47 [00:11<00:00,  4.05it/s]\n",
            "Epoch:   0%|          | 0/20 [00:00<?, ?it/s]"
          ],
          "name": "stderr"
        },
        {
          "output_type": "stream",
          "text": [
            "Iteration No: 231 ended. Search finished for the next optimal point.\n",
            "Time taken: 12.2673\n",
            "Function value obtained: -0.0037\n",
            "Current minimum: -0.0748\n",
            "Iteration No: 232 started. Searching for the next optimal point.\n"
          ],
          "name": "stdout"
        },
        {
          "output_type": "stream",
          "text": [
            "Epoch: 100%|██████████| 20/20 [00:07<00:00,  2.74it/s]\n",
            "Epoch:   0%|          | 0/48 [00:00<?, ?it/s]"
          ],
          "name": "stderr"
        },
        {
          "output_type": "stream",
          "text": [
            "Iteration No: 232 ended. Search finished for the next optimal point.\n",
            "Time taken: 8.0493\n",
            "Function value obtained: -0.0582\n",
            "Current minimum: -0.0748\n",
            "Iteration No: 233 started. Searching for the next optimal point.\n"
          ],
          "name": "stdout"
        },
        {
          "output_type": "stream",
          "text": [
            "Epoch: 100%|██████████| 48/48 [00:14<00:00,  3.32it/s]\n",
            "Epoch:   4%|▍         | 2/48 [00:00<00:03, 13.42it/s]"
          ],
          "name": "stderr"
        },
        {
          "output_type": "stream",
          "text": [
            "Iteration No: 233 ended. Search finished for the next optimal point.\n",
            "Time taken: 15.1187\n",
            "Function value obtained: -0.0574\n",
            "Current minimum: -0.0748\n",
            "Iteration No: 234 started. Searching for the next optimal point.\n"
          ],
          "name": "stdout"
        },
        {
          "output_type": "stream",
          "text": [
            "Epoch: 100%|██████████| 48/48 [00:03<00:00, 13.46it/s]\n",
            "Epoch:   4%|▍         | 2/46 [00:00<00:02, 15.61it/s]"
          ],
          "name": "stderr"
        },
        {
          "output_type": "stream",
          "text": [
            "Iteration No: 234 ended. Search finished for the next optimal point.\n",
            "Time taken: 4.0606\n",
            "Function value obtained: -0.0545\n",
            "Current minimum: -0.0748\n",
            "Iteration No: 235 started. Searching for the next optimal point.\n"
          ],
          "name": "stdout"
        },
        {
          "output_type": "stream",
          "text": [
            "Epoch: 100%|██████████| 46/46 [00:02<00:00, 15.63it/s]\n",
            "Epoch:   0%|          | 0/38 [00:00<?, ?it/s]"
          ],
          "name": "stderr"
        },
        {
          "output_type": "stream",
          "text": [
            "Iteration No: 235 ended. Search finished for the next optimal point.\n",
            "Time taken: 3.3313\n",
            "Function value obtained: -0.0628\n",
            "Current minimum: -0.0748\n",
            "Iteration No: 236 started. Searching for the next optimal point.\n"
          ],
          "name": "stdout"
        },
        {
          "output_type": "stream",
          "text": [
            "Epoch: 100%|██████████| 38/38 [00:08<00:00,  4.29it/s]\n",
            "Epoch:   0%|          | 0/48 [00:00<?, ?it/s]"
          ],
          "name": "stderr"
        },
        {
          "output_type": "stream",
          "text": [
            "Iteration No: 236 ended. Search finished for the next optimal point.\n",
            "Time taken: 9.4657\n",
            "Function value obtained: -0.0137\n",
            "Current minimum: -0.0748\n",
            "Iteration No: 237 started. Searching for the next optimal point.\n"
          ],
          "name": "stdout"
        },
        {
          "output_type": "stream",
          "text": [
            "Epoch: 100%|██████████| 48/48 [00:21<00:00,  2.24it/s]\n",
            "Epoch:   0%|          | 0/20 [00:00<?, ?it/s]"
          ],
          "name": "stderr"
        },
        {
          "output_type": "stream",
          "text": [
            "Iteration No: 237 ended. Search finished for the next optimal point.\n",
            "Time taken: 22.2303\n",
            "Function value obtained: -0.0565\n",
            "Current minimum: -0.0748\n",
            "Iteration No: 238 started. Searching for the next optimal point.\n"
          ],
          "name": "stdout"
        },
        {
          "output_type": "stream",
          "text": [
            "Epoch: 100%|██████████| 20/20 [00:06<00:00,  2.91it/s]\n",
            "Epoch:   0%|          | 0/30 [00:00<?, ?it/s]"
          ],
          "name": "stderr"
        },
        {
          "output_type": "stream",
          "text": [
            "Iteration No: 238 ended. Search finished for the next optimal point.\n",
            "Time taken: 7.5949\n",
            "Function value obtained: -0.0387\n",
            "Current minimum: -0.0748\n",
            "Iteration No: 239 started. Searching for the next optimal point.\n"
          ],
          "name": "stdout"
        },
        {
          "output_type": "stream",
          "text": [
            "Epoch: 100%|██████████| 30/30 [00:07<00:00,  3.82it/s]\n",
            "Epoch:   0%|          | 0/37 [00:00<?, ?it/s]"
          ],
          "name": "stderr"
        },
        {
          "output_type": "stream",
          "text": [
            "Iteration No: 239 ended. Search finished for the next optimal point.\n",
            "Time taken: 8.4668\n",
            "Function value obtained: -0.0699\n",
            "Current minimum: -0.0748\n",
            "Iteration No: 240 started. Searching for the next optimal point.\n"
          ],
          "name": "stdout"
        },
        {
          "output_type": "stream",
          "text": [
            "Epoch: 100%|██████████| 37/37 [00:09<00:00,  3.89it/s]\n",
            "Epoch:   4%|▍         | 2/50 [00:00<00:03, 14.33it/s]"
          ],
          "name": "stderr"
        },
        {
          "output_type": "stream",
          "text": [
            "Iteration No: 240 ended. Search finished for the next optimal point.\n",
            "Time taken: 10.1168\n",
            "Function value obtained: -0.0661\n",
            "Current minimum: -0.0748\n",
            "Iteration No: 241 started. Searching for the next optimal point.\n"
          ],
          "name": "stdout"
        },
        {
          "output_type": "stream",
          "text": [
            "Epoch: 100%|██████████| 50/50 [00:03<00:00, 14.75it/s]\n",
            "Epoch:   4%|▍         | 2/49 [00:00<00:03, 15.01it/s]"
          ],
          "name": "stderr"
        },
        {
          "output_type": "stream",
          "text": [
            "Iteration No: 241 ended. Search finished for the next optimal point.\n",
            "Time taken: 3.7832\n",
            "Function value obtained: -0.0690\n",
            "Current minimum: -0.0748\n",
            "Iteration No: 242 started. Searching for the next optimal point.\n"
          ],
          "name": "stdout"
        },
        {
          "output_type": "stream",
          "text": [
            "Epoch: 100%|██████████| 49/49 [00:03<00:00, 14.96it/s]\n",
            "Epoch:   0%|          | 0/33 [00:00<?, ?it/s]"
          ],
          "name": "stderr"
        },
        {
          "output_type": "stream",
          "text": [
            "Iteration No: 242 ended. Search finished for the next optimal point.\n",
            "Time taken: 3.6747\n",
            "Function value obtained: -0.0349\n",
            "Current minimum: -0.0748\n",
            "Iteration No: 243 started. Searching for the next optimal point.\n"
          ],
          "name": "stdout"
        },
        {
          "output_type": "stream",
          "text": [
            "Epoch: 100%|██████████| 33/33 [00:08<00:00,  3.71it/s]\n",
            "Epoch:   0%|          | 0/39 [00:00<?, ?it/s]"
          ],
          "name": "stderr"
        },
        {
          "output_type": "stream",
          "text": [
            "Iteration No: 243 ended. Search finished for the next optimal point.\n",
            "Time taken: 9.5153\n",
            "Function value obtained: -0.0586\n",
            "Current minimum: -0.0748\n",
            "Iteration No: 244 started. Searching for the next optimal point.\n"
          ],
          "name": "stdout"
        },
        {
          "output_type": "stream",
          "text": [
            "Epoch: 100%|██████████| 39/39 [00:09<00:00,  3.98it/s]\n",
            "Epoch:   0%|          | 0/50 [00:00<?, ?it/s]"
          ],
          "name": "stderr"
        },
        {
          "output_type": "stream",
          "text": [
            "Iteration No: 244 ended. Search finished for the next optimal point.\n",
            "Time taken: 10.4293\n",
            "Function value obtained: -0.0345\n",
            "Current minimum: -0.0748\n",
            "Iteration No: 245 started. Searching for the next optimal point.\n"
          ],
          "name": "stdout"
        },
        {
          "output_type": "stream",
          "text": [
            "Epoch: 100%|██████████| 50/50 [00:23<00:00,  2.15it/s]\n",
            "Epoch:   0%|          | 0/45 [00:00<?, ?it/s]"
          ],
          "name": "stderr"
        },
        {
          "output_type": "stream",
          "text": [
            "Iteration No: 245 ended. Search finished for the next optimal point.\n",
            "Time taken: 24.1549\n",
            "Function value obtained: -0.0536\n",
            "Current minimum: -0.0748\n",
            "Iteration No: 246 started. Searching for the next optimal point.\n"
          ],
          "name": "stdout"
        },
        {
          "output_type": "stream",
          "text": [
            "Epoch: 100%|██████████| 45/45 [00:21<00:00,  2.11it/s]\n",
            "Epoch:   2%|▏         | 1/50 [00:00<00:07,  6.72it/s]"
          ],
          "name": "stderr"
        },
        {
          "output_type": "stream",
          "text": [
            "Iteration No: 246 ended. Search finished for the next optimal point.\n",
            "Time taken: 22.3454\n",
            "Function value obtained: -0.0532\n",
            "Current minimum: -0.0748\n",
            "Iteration No: 247 started. Searching for the next optimal point.\n"
          ],
          "name": "stdout"
        },
        {
          "output_type": "stream",
          "text": [
            "Epoch: 100%|██████████| 50/50 [00:07<00:00,  6.91it/s]\n",
            "Epoch:   0%|          | 0/15 [00:00<?, ?it/s]"
          ],
          "name": "stderr"
        },
        {
          "output_type": "stream",
          "text": [
            "Iteration No: 247 ended. Search finished for the next optimal point.\n",
            "Time taken: 7.7218\n",
            "Function value obtained: -0.0353\n",
            "Current minimum: -0.0748\n",
            "Iteration No: 248 started. Searching for the next optimal point.\n"
          ],
          "name": "stdout"
        },
        {
          "output_type": "stream",
          "text": [
            "Epoch: 100%|██████████| 15/15 [00:05<00:00,  2.59it/s]\n",
            "Epoch:   0%|          | 0/48 [00:00<?, ?it/s]"
          ],
          "name": "stderr"
        },
        {
          "output_type": "stream",
          "text": [
            "Iteration No: 248 ended. Search finished for the next optimal point.\n",
            "Time taken: 6.5467\n",
            "Function value obtained: -0.0270\n",
            "Current minimum: -0.0748\n",
            "Iteration No: 249 started. Searching for the next optimal point.\n"
          ],
          "name": "stdout"
        },
        {
          "output_type": "stream",
          "text": [
            "Epoch: 100%|██████████| 48/48 [00:12<00:00,  3.88it/s]\n",
            "Epoch:   0%|          | 0/50 [00:00<?, ?it/s]"
          ],
          "name": "stderr"
        },
        {
          "output_type": "stream",
          "text": [
            "Iteration No: 249 ended. Search finished for the next optimal point.\n",
            "Time taken: 12.9841\n",
            "Function value obtained: -0.0532\n",
            "Current minimum: -0.0748\n",
            "Iteration No: 250 started. Searching for the next optimal point.\n"
          ],
          "name": "stdout"
        },
        {
          "output_type": "stream",
          "text": [
            "Epoch: 100%|██████████| 50/50 [00:24<00:00,  2.06it/s]\n"
          ],
          "name": "stderr"
        },
        {
          "output_type": "stream",
          "text": [
            "Iteration No: 250 ended. Search finished for the next optimal point.\n",
            "Time taken: 25.1733\n",
            "Function value obtained: -0.0403\n",
            "Current minimum: -0.0748\n"
          ],
          "name": "stdout"
        }
      ]
    },
    {
      "cell_type": "code",
      "metadata": {
        "colab": {
          "base_uri": "https://localhost:8080/"
        },
        "id": "yrjbIt9E9M69",
        "outputId": "4d51dff9-dcff-49e0-80c4-4446d34f4e2d"
      },
      "source": [
        "print('Maximimum p@5 found: {:6.5f}'.format(-res_fm.fun))\n",
        "print('Optimal parameters:')\n",
        "params = ['epochs', 'learning_rate', 'no_components', 'alpha']\n",
        "for (p, x_) in zip(params, res_fm.x):\n",
        "    print('{}: {}'.format(p, x_))"
      ],
      "execution_count": null,
      "outputs": [
        {
          "output_type": "stream",
          "text": [
            "Maximimum p@5 found: 0.07484\n",
            "Optimal parameters:\n",
            "epochs: 20\n",
            "learning_rate: 0.060884281974219585\n",
            "no_components: 110\n",
            "alpha: 0.0010405166011076676\n"
          ],
          "name": "stdout"
        }
      ]
    },
    {
      "cell_type": "markdown",
      "metadata": {
        "id": "dJ2I6i87qD6m"
      },
      "source": [
        "тюнинг поднял точность с 6 до 7, что совсем не стоили 30 минут ожидания, хотя если брать больше эпох, то может что-нибудь и вышло б"
      ]
    },
    {
      "cell_type": "markdown",
      "metadata": {
        "id": "puKOv5nv9ou2"
      },
      "source": [
        "### Recomendation for user"
      ]
    },
    {
      "cell_type": "code",
      "metadata": {
        "id": "w7ZhQvg4TjFu"
      },
      "source": [
        "def sample_recommendation(model, data, idx_to_mid, user_id):\n",
        "\n",
        "\n",
        "    n_users, n_items = train.shape\n",
        "\n",
        "\n",
        "    if user_id >= 0:\n",
        "\n",
        "        df_inx = pd.DataFrame(list(idx_to_mid.items()),columns = ['id','taxon']) \n",
        "        df_inx[df_inx['id'].isin(train[user_id].indices)]\n",
        "        known_positives = df_inx[df_inx['id'].isin(train[user_id].indices)]\n",
        "\n",
        "        df_inx_all = pd.DataFrame(list(idx_to_mid.items()),columns = ['id','taxon'])\n",
        "\n",
        "        scores = model.predict(user_id, np.arange(n_items))\n",
        "        df_inx_all['scores'] = scores\n",
        "        top_items = df_inx_all.sort_values(by=['scores'] ,ascending=False)\n",
        "\n",
        "        print(\"User %s\" % user_id)\n",
        "        print(\"     Known positives:\")\n",
        "\n",
        "        for x in known_positives[:3]['taxon']:\n",
        "            print(\"        %s\" % x)\n",
        "\n",
        "        print(\"     Recommended:\")\n",
        "\n",
        "        for x in top_items[:3]['taxon']:\n",
        "            print(\"        %s\" % x)"
      ],
      "execution_count": null,
      "outputs": []
    },
    {
      "cell_type": "code",
      "metadata": {
        "colab": {
          "base_uri": "https://localhost:8080/"
        },
        "id": "FRdLZXuAYYNg",
        "outputId": "8801b908-2947-482f-9bca-38d7c93b8b3d"
      },
      "source": [
        "sample_recommendation(model, test, idx_to_mid, 2)"
      ],
      "execution_count": null,
      "outputs": [
        {
          "output_type": "stream",
          "text": [
            "User 2\n",
            "     Known positives:\n",
            "        Corvus brachyrhynchos\n",
            "        Candolleomyces candolleanus\n",
            "        Armadillidium vulgare\n",
            "     Recommended:\n",
            "        Aphididae\n",
            "        Branta canadensis\n",
            "        Gastropoda\n"
          ],
          "name": "stdout"
        }
      ]
    },
    {
      "cell_type": "markdown",
      "metadata": {
        "id": "PA9IiWi3fjCJ"
      },
      "source": [
        "человеку, который фоткал ворону, картофельного жука и какой-то гриб\n",
        "мы порекомендуем уточку, тюленя и бабочку\n",
        "\n",
        "тюлень мб странно, но это сан франциско"
      ]
    },
    {
      "cell_type": "markdown",
      "metadata": {
        "id": "6LEmmknGAZVO"
      },
      "source": [
        "## LINKS"
      ]
    },
    {
      "cell_type": "markdown",
      "metadata": {
        "id": "PGktt5gGAbrz"
      },
      "source": [
        "\n",
        "\n",
        "1.   О BPR https://towardsdatascience.com/recommender-system-bayesian-personalized-ranking-from-implicit-feedback-78684bfcddf6\n",
        "2.   https://www.ethanrosenthal.com/2016/11/07/implicit-mf-part-2/ блог про библиотеку light fm\n",
        "3. https://medium.com/@gabrieltseng/intro-to-warp-loss-automatic-differentiation-and-pytorch-b6aa5083187a -- про warp\n",
        "\n",
        "\n"
      ]
    }
  ]
}