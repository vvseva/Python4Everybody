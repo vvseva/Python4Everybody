{
  "nbformat": 4,
  "nbformat_minor": 0,
  "metadata": {
    "colab": {
      "name": "Copy of pyBKT LAK Workshop.ipynb",
      "provenance": [],
      "collapsed_sections": [
        "h6q--qwhPtWW",
        "2ByuvLXxGFmW",
        "WBVD8Vm4YOkE",
        "w-ZZOoi8QInc",
        "vWUoDPqDg5QM"
      ]
    },
    "kernelspec": {
      "name": "python3",
      "display_name": "Python 3"
    }
  },
  "cells": [
    {
      "cell_type": "markdown",
      "metadata": {
        "id": "DxhLN0z_Lavy"
      },
      "source": [
        "# pyBKT Model Workshop - LAK\n",
        "\n",
        "This is a tutorial that explores the basic features of pyBKT, ranging from model creation, fitting, prediction, evaluation and crossvalidation. We will be using the skills contained within the Cognitive Tutor and 2009-2010 Assistments datasets to demonstrate these features."
      ]
    },
    {
      "cell_type": "code",
      "metadata": {
        "id": "FR0xFmRapK-e",
        "colab": {
          "base_uri": "https://localhost:8080/"
        },
        "outputId": "82e435c5-8316-463f-ecb0-0518370eab53"
      },
      "source": [
        "# Install pyBKT from pip!\n",
        "!pip uninstall -y pyBKT\n",
        "!pip install pyBKT\n",
        "\n",
        "# Import all required packages including pyBKT.models.Model!\n",
        "import numpy as np\n",
        "import pandas as pd\n",
        "from pyBKT.models import Model\n",
        "import matplotlib.pyplot as plt"
      ],
      "execution_count": null,
      "outputs": [
        {
          "output_type": "stream",
          "text": [
            "\u001b[33mWARNING: Skipping pyBKT as it is not installed.\u001b[0m\n",
            "Collecting pyBKT\n",
            "\u001b[?25l  Downloading https://files.pythonhosted.org/packages/b1/be/634bd30183089f0e7986bfe99da4df5d728bacfcd73bbc25404b5e5cc4ad/pyBKT-1.2.2.tar.gz (28.2MB)\n",
            "\u001b[K     |████████████████████████████████| 28.2MB 125kB/s \n",
            "\u001b[?25hRequirement already satisfied: numpy in /usr/local/lib/python3.7/dist-packages (from pyBKT) (1.19.5)\n",
            "Requirement already satisfied: sklearn in /usr/local/lib/python3.7/dist-packages (from pyBKT) (0.0)\n",
            "Requirement already satisfied: pandas in /usr/local/lib/python3.7/dist-packages (from pyBKT) (1.1.5)\n",
            "Requirement already satisfied: requests in /usr/local/lib/python3.7/dist-packages (from pyBKT) (2.23.0)\n",
            "Requirement already satisfied: scikit-learn in /usr/local/lib/python3.7/dist-packages (from sklearn->pyBKT) (0.22.2.post1)\n",
            "Requirement already satisfied: pytz>=2017.2 in /usr/local/lib/python3.7/dist-packages (from pandas->pyBKT) (2018.9)\n",
            "Requirement already satisfied: python-dateutil>=2.7.3 in /usr/local/lib/python3.7/dist-packages (from pandas->pyBKT) (2.8.1)\n",
            "Requirement already satisfied: chardet<4,>=3.0.2 in /usr/local/lib/python3.7/dist-packages (from requests->pyBKT) (3.0.4)\n",
            "Requirement already satisfied: urllib3!=1.25.0,!=1.25.1,<1.26,>=1.21.1 in /usr/local/lib/python3.7/dist-packages (from requests->pyBKT) (1.24.3)\n",
            "Requirement already satisfied: certifi>=2017.4.17 in /usr/local/lib/python3.7/dist-packages (from requests->pyBKT) (2020.12.5)\n",
            "Requirement already satisfied: idna<3,>=2.5 in /usr/local/lib/python3.7/dist-packages (from requests->pyBKT) (2.10)\n",
            "Requirement already satisfied: joblib>=0.11 in /usr/local/lib/python3.7/dist-packages (from scikit-learn->sklearn->pyBKT) (1.0.1)\n",
            "Requirement already satisfied: scipy>=0.17.0 in /usr/local/lib/python3.7/dist-packages (from scikit-learn->sklearn->pyBKT) (1.4.1)\n",
            "Requirement already satisfied: six>=1.5 in /usr/local/lib/python3.7/dist-packages (from python-dateutil>=2.7.3->pandas->pyBKT) (1.15.0)\n",
            "Building wheels for collected packages: pyBKT\n",
            "  Building wheel for pyBKT (setup.py) ... \u001b[?25l\u001b[?25hdone\n",
            "  Created wheel for pyBKT: filename=pyBKT-1.2.2-cp37-cp37m-linux_x86_64.whl size=1274124 sha256=0b62289aacbc3ed80420bdbf00d5f03167075d955c5a2d5c2bc388b9f2a9057e\n",
            "  Stored in directory: /root/.cache/pip/wheels/55/73/5f/01ef3d2b8528b11ab932d7d00703df4517253482d23fae8cc3\n",
            "Successfully built pyBKT\n",
            "Installing collected packages: pyBKT\n",
            "Successfully installed pyBKT-1.2.2\n"
          ],
          "name": "stdout"
        },
        {
          "output_type": "stream",
          "text": [
            "/usr/local/lib/python3.7/dist-packages/sklearn/metrics/_classification.py:664: FutureWarning: jaccard_similarity_score has been deprecated and replaced with jaccard_score. It will be removed in version 0.23. This implementation has surprising behavior for binary and multiclass classification tasks.\n",
            "  FutureWarning)\n"
          ],
          "name": "stderr"
        }
      ]
    },
    {
      "cell_type": "markdown",
      "metadata": {
        "id": "8vXtO4xCL_7p"
      },
      "source": [
        "### Basic Model Creation and Evaluation\n",
        "\n",
        "Initialize the model with an optional seed and number of fit initializations. Note that the Model constructor supports many more parameters such as the model variant (which can be modified at fit time), whether to parallelize computation, and more."
      ]
    },
    {
      "cell_type": "code",
      "metadata": {
        "id": "SDSfYxsrpQEb"
      },
      "source": [
        "# Note that the seed chosen is so we can consistently\n",
        "# replicate the results and avoid as much randomness\n",
        "# as possible.\n",
        "model = Model(seed = 42, num_fits = 1, parallel  = True)"
      ],
      "execution_count": null,
      "outputs": []
    },
    {
      "cell_type": "markdown",
      "metadata": {
        "id": "b00tYJERMPBr"
      },
      "source": [
        "Fetch Assistments and CognitiveTutor data to the local disk. We will be using these datasets, but you can use any that you see fit when you use pyBKT. The data formats accepted by pyBKT are comma separated and tab separated files (note that pyBKT will automatically infer which is passed in). Note that the correctness is given by -1 (no response), 0 (incorrect), or 1 (correct)."
      ]
    },
    {
      "cell_type": "code",
      "metadata": {
        "id": "OWu1ZaT_qP9Z"
      },
      "source": [
        "model.fetch_dataset('https://raw.githubusercontent.com/CAHLR/pyBKT-examples/master/data/as.csv', '.')\n",
        "model.fetch_dataset('https://raw.githubusercontent.com/CAHLR/pyBKT-examples/master/data/ct.csv', '.')"
      ],
      "execution_count": null,
      "outputs": []
    },
    {
      "cell_type": "markdown",
      "metadata": {
        "id": "DTKs7JGSMu1G"
      },
      "source": [
        "We open the given datasets and explore them before using them to fit BKT models using pyBKT. Note that the column names describing the student ID, the problem name, the response's correctness and skill name all differ between the two datasets."
      ]
    },
    {
      "cell_type": "code",
      "metadata": {
        "id": "hg06svJsM6oj",
        "colab": {
          "base_uri": "https://localhost:8080/",
          "height": 1000
        },
        "outputId": "0288af93-8130-487f-98cb-f09489a77727"
      },
      "source": [
        "ct_df = pd.read_csv('ct.csv', encoding = 'latin')\n",
        "print(ct_df.columns)\n",
        "ct_df.head(10)"
      ],
      "execution_count": null,
      "outputs": [
        {
          "output_type": "stream",
          "text": [
            "Index(['Unnamed: 0', 'Row', 'Anon Student Id', 'Problem Hierarchy',\n",
            "       'Problem Name', 'Problem View', 'Step Name', 'Step Start Time',\n",
            "       'First Transaction Time', 'Correct Transaction Time', 'Step End Time',\n",
            "       'Step Duration (sec)', 'Correct Step Duration (sec)',\n",
            "       'Error Step Duration (sec)', 'Correct First Attempt', 'Incorrects',\n",
            "       'Hints', 'Corrects', 'KC(Default)', 'Opportunity(Default)'],\n",
            "      dtype='object')\n"
          ],
          "name": "stdout"
        },
        {
          "output_type": "execute_result",
          "data": {
            "text/html": [
              "<div>\n",
              "<style scoped>\n",
              "    .dataframe tbody tr th:only-of-type {\n",
              "        vertical-align: middle;\n",
              "    }\n",
              "\n",
              "    .dataframe tbody tr th {\n",
              "        vertical-align: top;\n",
              "    }\n",
              "\n",
              "    .dataframe thead th {\n",
              "        text-align: right;\n",
              "    }\n",
              "</style>\n",
              "<table border=\"1\" class=\"dataframe\">\n",
              "  <thead>\n",
              "    <tr style=\"text-align: right;\">\n",
              "      <th></th>\n",
              "      <th>Unnamed: 0</th>\n",
              "      <th>Row</th>\n",
              "      <th>Anon Student Id</th>\n",
              "      <th>Problem Hierarchy</th>\n",
              "      <th>Problem Name</th>\n",
              "      <th>Problem View</th>\n",
              "      <th>Step Name</th>\n",
              "      <th>Step Start Time</th>\n",
              "      <th>First Transaction Time</th>\n",
              "      <th>Correct Transaction Time</th>\n",
              "      <th>Step End Time</th>\n",
              "      <th>Step Duration (sec)</th>\n",
              "      <th>Correct Step Duration (sec)</th>\n",
              "      <th>Error Step Duration (sec)</th>\n",
              "      <th>Correct First Attempt</th>\n",
              "      <th>Incorrects</th>\n",
              "      <th>Hints</th>\n",
              "      <th>Corrects</th>\n",
              "      <th>KC(Default)</th>\n",
              "      <th>Opportunity(Default)</th>\n",
              "    </tr>\n",
              "  </thead>\n",
              "  <tbody>\n",
              "    <tr>\n",
              "      <th>0</th>\n",
              "      <td>1576</td>\n",
              "      <td>1927</td>\n",
              "      <td>745Yh</td>\n",
              "      <td>Unit RATIO-PROPORTION, Section RATIO-PROPORTION-2</td>\n",
              "      <td>RATIO2-001</td>\n",
              "      <td>1</td>\n",
              "      <td>SimplifiedNumeratorQuantity1</td>\n",
              "      <td>2006-11-14 10:18:00.0</td>\n",
              "      <td>2006-11-14 10:18:05.0</td>\n",
              "      <td>2006-11-14 10:18:05.0</td>\n",
              "      <td>2006-11-14 10:18:05.0</td>\n",
              "      <td>5.00000</td>\n",
              "      <td>5.00000</td>\n",
              "      <td>nan</td>\n",
              "      <td>1</td>\n",
              "      <td>0</td>\n",
              "      <td>0</td>\n",
              "      <td>1</td>\n",
              "      <td>Calculate unit rate</td>\n",
              "      <td>1</td>\n",
              "    </tr>\n",
              "    <tr>\n",
              "      <th>1</th>\n",
              "      <td>1580</td>\n",
              "      <td>1931</td>\n",
              "      <td>745Yh</td>\n",
              "      <td>Unit RATIO-PROPORTION, Section RATIO-PROPORTION-2</td>\n",
              "      <td>RATIO2-001</td>\n",
              "      <td>1</td>\n",
              "      <td>SimplifiedNumeratorQuantity2</td>\n",
              "      <td>2006-11-14 10:18:11.0</td>\n",
              "      <td>2006-11-14 10:18:17.0</td>\n",
              "      <td>2006-11-14 10:18:34.0</td>\n",
              "      <td>2006-11-14 10:18:34.0</td>\n",
              "      <td>23.00000</td>\n",
              "      <td>nan</td>\n",
              "      <td>23.00000</td>\n",
              "      <td>0</td>\n",
              "      <td>1</td>\n",
              "      <td>0</td>\n",
              "      <td>1</td>\n",
              "      <td>Calculate unit rate</td>\n",
              "      <td>2</td>\n",
              "    </tr>\n",
              "    <tr>\n",
              "      <th>2</th>\n",
              "      <td>1596</td>\n",
              "      <td>1947</td>\n",
              "      <td>745Yh</td>\n",
              "      <td>Unit RATIO-PROPORTION, Section RATIO-PROPORTION-2</td>\n",
              "      <td>RATIO2-012</td>\n",
              "      <td>1</td>\n",
              "      <td>SimplifiedNumeratorQuantity1</td>\n",
              "      <td>2006-11-14 10:50:52.0</td>\n",
              "      <td>2006-11-14 10:50:57.0</td>\n",
              "      <td>2006-11-14 10:51:11.0</td>\n",
              "      <td>2006-11-14 10:51:11.0</td>\n",
              "      <td>18.00000</td>\n",
              "      <td>nan</td>\n",
              "      <td>18.00000</td>\n",
              "      <td>0</td>\n",
              "      <td>1</td>\n",
              "      <td>0</td>\n",
              "      <td>1</td>\n",
              "      <td>Calculate unit rate</td>\n",
              "      <td>3</td>\n",
              "    </tr>\n",
              "    <tr>\n",
              "      <th>3</th>\n",
              "      <td>1597</td>\n",
              "      <td>1948</td>\n",
              "      <td>745Yh</td>\n",
              "      <td>Unit RATIO-PROPORTION, Section RATIO-PROPORTION-2</td>\n",
              "      <td>RATIO2-012</td>\n",
              "      <td>1</td>\n",
              "      <td>SimplifiedNumeratorQuantity2</td>\n",
              "      <td>2006-11-14 10:51:11.0</td>\n",
              "      <td>2006-11-14 10:51:14.0</td>\n",
              "      <td>2006-11-14 10:51:14.0</td>\n",
              "      <td>2006-11-14 10:51:14.0</td>\n",
              "      <td>3.00000</td>\n",
              "      <td>3.00000</td>\n",
              "      <td>nan</td>\n",
              "      <td>1</td>\n",
              "      <td>0</td>\n",
              "      <td>0</td>\n",
              "      <td>1</td>\n",
              "      <td>Calculate unit rate</td>\n",
              "      <td>4</td>\n",
              "    </tr>\n",
              "    <tr>\n",
              "      <th>4</th>\n",
              "      <td>1612</td>\n",
              "      <td>1963</td>\n",
              "      <td>745Yh</td>\n",
              "      <td>Unit RATIO-PROPORTION, Section RATIO-PROPORTION-2</td>\n",
              "      <td>RATIO2-054</td>\n",
              "      <td>1</td>\n",
              "      <td>SimplifiedNumeratorQuantity2</td>\n",
              "      <td>2006-11-28 09:53:43.0</td>\n",
              "      <td>2006-11-28 09:53:47.0</td>\n",
              "      <td>2006-11-28 09:53:56.0</td>\n",
              "      <td>2006-11-28 09:53:56.0</td>\n",
              "      <td>13.00000</td>\n",
              "      <td>nan</td>\n",
              "      <td>13.00000</td>\n",
              "      <td>0</td>\n",
              "      <td>1</td>\n",
              "      <td>0</td>\n",
              "      <td>1</td>\n",
              "      <td>Calculate unit rate</td>\n",
              "      <td>5</td>\n",
              "    </tr>\n",
              "    <tr>\n",
              "      <th>5</th>\n",
              "      <td>1615</td>\n",
              "      <td>1966</td>\n",
              "      <td>745Yh</td>\n",
              "      <td>Unit RATIO-PROPORTION, Section RATIO-PROPORTION-2</td>\n",
              "      <td>RATIO2-054</td>\n",
              "      <td>1</td>\n",
              "      <td>SimplifiedNumeratorQuantity1</td>\n",
              "      <td>2006-11-28 09:54:02.0</td>\n",
              "      <td>2006-11-28 09:54:14.0</td>\n",
              "      <td>2006-11-28 09:54:14.0</td>\n",
              "      <td>2006-11-28 09:54:14.0</td>\n",
              "      <td>12.00000</td>\n",
              "      <td>12.00000</td>\n",
              "      <td>nan</td>\n",
              "      <td>1</td>\n",
              "      <td>0</td>\n",
              "      <td>0</td>\n",
              "      <td>1</td>\n",
              "      <td>Calculate unit rate</td>\n",
              "      <td>6</td>\n",
              "    </tr>\n",
              "    <tr>\n",
              "      <th>6</th>\n",
              "      <td>1627</td>\n",
              "      <td>1978</td>\n",
              "      <td>745Yh</td>\n",
              "      <td>Unit RATIO-PROPORTION, Section RATIO-PROPORTION-2</td>\n",
              "      <td>RATIO2-029</td>\n",
              "      <td>1</td>\n",
              "      <td>SimplifiedNumeratorQuantity2</td>\n",
              "      <td>2006-11-28 10:17:17.0</td>\n",
              "      <td>2006-11-28 10:17:40.0</td>\n",
              "      <td>2006-11-28 10:17:40.0</td>\n",
              "      <td>2006-11-28 10:17:40.0</td>\n",
              "      <td>23.00000</td>\n",
              "      <td>23.00000</td>\n",
              "      <td>nan</td>\n",
              "      <td>1</td>\n",
              "      <td>0</td>\n",
              "      <td>0</td>\n",
              "      <td>1</td>\n",
              "      <td>Calculate unit rate</td>\n",
              "      <td>7</td>\n",
              "    </tr>\n",
              "    <tr>\n",
              "      <th>7</th>\n",
              "      <td>1630</td>\n",
              "      <td>1981</td>\n",
              "      <td>745Yh</td>\n",
              "      <td>Unit RATIO-PROPORTION, Section RATIO-PROPORTION-2</td>\n",
              "      <td>RATIO2-029</td>\n",
              "      <td>1</td>\n",
              "      <td>SimplifiedNumeratorQuantity1</td>\n",
              "      <td>2006-11-28 10:17:50.0</td>\n",
              "      <td>2006-11-28 10:18:06.0</td>\n",
              "      <td>2006-11-28 10:18:06.0</td>\n",
              "      <td>2006-11-28 10:18:06.0</td>\n",
              "      <td>16.00000</td>\n",
              "      <td>16.00000</td>\n",
              "      <td>nan</td>\n",
              "      <td>1</td>\n",
              "      <td>0</td>\n",
              "      <td>0</td>\n",
              "      <td>1</td>\n",
              "      <td>Calculate unit rate</td>\n",
              "      <td>8</td>\n",
              "    </tr>\n",
              "    <tr>\n",
              "      <th>8</th>\n",
              "      <td>1646</td>\n",
              "      <td>1997</td>\n",
              "      <td>745Yh</td>\n",
              "      <td>Unit RATIO-PROPORTION, Section RATIO-PROPORTION-2</td>\n",
              "      <td>RATIO2-109</td>\n",
              "      <td>1</td>\n",
              "      <td>SimplifiedNumeratorQuantity2</td>\n",
              "      <td>2006-11-28 10:44:49.0</td>\n",
              "      <td>2006-11-28 10:44:51.0</td>\n",
              "      <td>2006-11-28 10:44:51.0</td>\n",
              "      <td>2006-11-28 10:44:51.0</td>\n",
              "      <td>2.00000</td>\n",
              "      <td>2.00000</td>\n",
              "      <td>nan</td>\n",
              "      <td>1</td>\n",
              "      <td>0</td>\n",
              "      <td>0</td>\n",
              "      <td>1</td>\n",
              "      <td>Calculate unit rate</td>\n",
              "      <td>9</td>\n",
              "    </tr>\n",
              "    <tr>\n",
              "      <th>9</th>\n",
              "      <td>1647</td>\n",
              "      <td>1998</td>\n",
              "      <td>745Yh</td>\n",
              "      <td>Unit RATIO-PROPORTION, Section RATIO-PROPORTION-2</td>\n",
              "      <td>RATIO2-109</td>\n",
              "      <td>1</td>\n",
              "      <td>SimplifiedNumeratorQuantity1</td>\n",
              "      <td>2006-11-28 10:44:51.0</td>\n",
              "      <td>2006-11-28 10:45:06.0</td>\n",
              "      <td>2006-11-28 10:45:06.0</td>\n",
              "      <td>2006-11-28 10:45:06.0</td>\n",
              "      <td>15.00000</td>\n",
              "      <td>15.00000</td>\n",
              "      <td>nan</td>\n",
              "      <td>1</td>\n",
              "      <td>0</td>\n",
              "      <td>0</td>\n",
              "      <td>1</td>\n",
              "      <td>Calculate unit rate</td>\n",
              "      <td>10</td>\n",
              "    </tr>\n",
              "  </tbody>\n",
              "</table>\n",
              "</div>"
            ],
            "text/plain": [
              "   Unnamed: 0   Row  ...          KC(Default) Opportunity(Default)\n",
              "0        1576  1927  ...  Calculate unit rate                    1\n",
              "1        1580  1931  ...  Calculate unit rate                    2\n",
              "2        1596  1947  ...  Calculate unit rate                    3\n",
              "3        1597  1948  ...  Calculate unit rate                    4\n",
              "4        1612  1963  ...  Calculate unit rate                    5\n",
              "5        1615  1966  ...  Calculate unit rate                    6\n",
              "6        1627  1978  ...  Calculate unit rate                    7\n",
              "7        1630  1981  ...  Calculate unit rate                    8\n",
              "8        1646  1997  ...  Calculate unit rate                    9\n",
              "9        1647  1998  ...  Calculate unit rate                   10\n",
              "\n",
              "[10 rows x 20 columns]"
            ]
          },
          "metadata": {
            "tags": []
          },
          "execution_count": 4
        }
      ]
    },
    {
      "cell_type": "code",
      "metadata": {
        "id": "fMElhjrNNtI4",
        "colab": {
          "base_uri": "https://localhost:8080/",
          "height": 447
        },
        "outputId": "c31a6bba-7f9e-484c-8baf-476e8d8b10d1"
      },
      "source": [
        "as_df = pd.read_csv('as.csv', encoding = 'latin', low_memory = False)\n",
        "print(as_df.columns)\n",
        "as_df.head(5)"
      ],
      "execution_count": null,
      "outputs": [
        {
          "output_type": "stream",
          "text": [
            "Index(['order_id', 'assignment_id', 'user_id', 'assistment_id', 'problem_id',\n",
            "       'original', 'correct', 'attempt_count', 'ms_first_response',\n",
            "       'tutor_mode', 'answer_type', 'sequence_id', 'student_class_id',\n",
            "       'position', 'type', 'base_sequence_id', 'skill_id', 'skill_name',\n",
            "       'teacher_id', 'school_id', 'hint_count', 'hint_total', 'overlap_time',\n",
            "       'template_id', 'answer_id', 'answer_text', 'first_action',\n",
            "       'bottom_hint', 'opportunity', 'opportunity_original'],\n",
            "      dtype='object')\n"
          ],
          "name": "stdout"
        },
        {
          "output_type": "execute_result",
          "data": {
            "text/html": [
              "<div>\n",
              "<style scoped>\n",
              "    .dataframe tbody tr th:only-of-type {\n",
              "        vertical-align: middle;\n",
              "    }\n",
              "\n",
              "    .dataframe tbody tr th {\n",
              "        vertical-align: top;\n",
              "    }\n",
              "\n",
              "    .dataframe thead th {\n",
              "        text-align: right;\n",
              "    }\n",
              "</style>\n",
              "<table border=\"1\" class=\"dataframe\">\n",
              "  <thead>\n",
              "    <tr style=\"text-align: right;\">\n",
              "      <th></th>\n",
              "      <th>order_id</th>\n",
              "      <th>assignment_id</th>\n",
              "      <th>user_id</th>\n",
              "      <th>assistment_id</th>\n",
              "      <th>problem_id</th>\n",
              "      <th>original</th>\n",
              "      <th>correct</th>\n",
              "      <th>attempt_count</th>\n",
              "      <th>ms_first_response</th>\n",
              "      <th>tutor_mode</th>\n",
              "      <th>answer_type</th>\n",
              "      <th>sequence_id</th>\n",
              "      <th>student_class_id</th>\n",
              "      <th>position</th>\n",
              "      <th>type</th>\n",
              "      <th>base_sequence_id</th>\n",
              "      <th>skill_id</th>\n",
              "      <th>skill_name</th>\n",
              "      <th>teacher_id</th>\n",
              "      <th>school_id</th>\n",
              "      <th>hint_count</th>\n",
              "      <th>hint_total</th>\n",
              "      <th>overlap_time</th>\n",
              "      <th>template_id</th>\n",
              "      <th>answer_id</th>\n",
              "      <th>answer_text</th>\n",
              "      <th>first_action</th>\n",
              "      <th>bottom_hint</th>\n",
              "      <th>opportunity</th>\n",
              "      <th>opportunity_original</th>\n",
              "    </tr>\n",
              "  </thead>\n",
              "  <tbody>\n",
              "    <tr>\n",
              "      <th>0</th>\n",
              "      <td>33022537</td>\n",
              "      <td>277618</td>\n",
              "      <td>64525</td>\n",
              "      <td>33139</td>\n",
              "      <td>51424</td>\n",
              "      <td>1</td>\n",
              "      <td>1</td>\n",
              "      <td>1</td>\n",
              "      <td>32454</td>\n",
              "      <td>tutor</td>\n",
              "      <td>algebra</td>\n",
              "      <td>5948</td>\n",
              "      <td>13241</td>\n",
              "      <td>126</td>\n",
              "      <td>MasterySection</td>\n",
              "      <td>5948</td>\n",
              "      <td>1.00000</td>\n",
              "      <td>Box and Whisker</td>\n",
              "      <td>22763</td>\n",
              "      <td>73</td>\n",
              "      <td>0</td>\n",
              "      <td>3</td>\n",
              "      <td>32454</td>\n",
              "      <td>30799</td>\n",
              "      <td>nan</td>\n",
              "      <td>26</td>\n",
              "      <td>0</td>\n",
              "      <td>nan</td>\n",
              "      <td>1</td>\n",
              "      <td>1.00000</td>\n",
              "    </tr>\n",
              "    <tr>\n",
              "      <th>1</th>\n",
              "      <td>33022709</td>\n",
              "      <td>277618</td>\n",
              "      <td>64525</td>\n",
              "      <td>33150</td>\n",
              "      <td>51435</td>\n",
              "      <td>1</td>\n",
              "      <td>1</td>\n",
              "      <td>1</td>\n",
              "      <td>4922</td>\n",
              "      <td>tutor</td>\n",
              "      <td>algebra</td>\n",
              "      <td>5948</td>\n",
              "      <td>13241</td>\n",
              "      <td>126</td>\n",
              "      <td>MasterySection</td>\n",
              "      <td>5948</td>\n",
              "      <td>1.00000</td>\n",
              "      <td>Box and Whisker</td>\n",
              "      <td>22763</td>\n",
              "      <td>73</td>\n",
              "      <td>0</td>\n",
              "      <td>3</td>\n",
              "      <td>4922</td>\n",
              "      <td>30799</td>\n",
              "      <td>nan</td>\n",
              "      <td>55</td>\n",
              "      <td>0</td>\n",
              "      <td>nan</td>\n",
              "      <td>2</td>\n",
              "      <td>2.00000</td>\n",
              "    </tr>\n",
              "    <tr>\n",
              "      <th>2</th>\n",
              "      <td>35450204</td>\n",
              "      <td>220674</td>\n",
              "      <td>70363</td>\n",
              "      <td>33159</td>\n",
              "      <td>51444</td>\n",
              "      <td>1</td>\n",
              "      <td>0</td>\n",
              "      <td>2</td>\n",
              "      <td>25390</td>\n",
              "      <td>tutor</td>\n",
              "      <td>algebra</td>\n",
              "      <td>5948</td>\n",
              "      <td>11816</td>\n",
              "      <td>22</td>\n",
              "      <td>MasterySection</td>\n",
              "      <td>5948</td>\n",
              "      <td>1.00000</td>\n",
              "      <td>Box and Whisker</td>\n",
              "      <td>22763</td>\n",
              "      <td>73</td>\n",
              "      <td>0</td>\n",
              "      <td>3</td>\n",
              "      <td>42000</td>\n",
              "      <td>30799</td>\n",
              "      <td>nan</td>\n",
              "      <td>88</td>\n",
              "      <td>0</td>\n",
              "      <td>nan</td>\n",
              "      <td>1</td>\n",
              "      <td>1.00000</td>\n",
              "    </tr>\n",
              "    <tr>\n",
              "      <th>3</th>\n",
              "      <td>35450295</td>\n",
              "      <td>220674</td>\n",
              "      <td>70363</td>\n",
              "      <td>33110</td>\n",
              "      <td>51395</td>\n",
              "      <td>1</td>\n",
              "      <td>1</td>\n",
              "      <td>1</td>\n",
              "      <td>4859</td>\n",
              "      <td>tutor</td>\n",
              "      <td>algebra</td>\n",
              "      <td>5948</td>\n",
              "      <td>11816</td>\n",
              "      <td>22</td>\n",
              "      <td>MasterySection</td>\n",
              "      <td>5948</td>\n",
              "      <td>1.00000</td>\n",
              "      <td>Box and Whisker</td>\n",
              "      <td>22763</td>\n",
              "      <td>73</td>\n",
              "      <td>0</td>\n",
              "      <td>3</td>\n",
              "      <td>4859</td>\n",
              "      <td>30059</td>\n",
              "      <td>nan</td>\n",
              "      <td>41</td>\n",
              "      <td>0</td>\n",
              "      <td>nan</td>\n",
              "      <td>2</td>\n",
              "      <td>2.00000</td>\n",
              "    </tr>\n",
              "    <tr>\n",
              "      <th>4</th>\n",
              "      <td>35450311</td>\n",
              "      <td>220674</td>\n",
              "      <td>70363</td>\n",
              "      <td>33196</td>\n",
              "      <td>51481</td>\n",
              "      <td>1</td>\n",
              "      <td>0</td>\n",
              "      <td>14</td>\n",
              "      <td>19813</td>\n",
              "      <td>tutor</td>\n",
              "      <td>algebra</td>\n",
              "      <td>5948</td>\n",
              "      <td>11816</td>\n",
              "      <td>22</td>\n",
              "      <td>MasterySection</td>\n",
              "      <td>5948</td>\n",
              "      <td>1.00000</td>\n",
              "      <td>Box and Whisker</td>\n",
              "      <td>22763</td>\n",
              "      <td>73</td>\n",
              "      <td>3</td>\n",
              "      <td>4</td>\n",
              "      <td>124564</td>\n",
              "      <td>30060</td>\n",
              "      <td>nan</td>\n",
              "      <td>65</td>\n",
              "      <td>0</td>\n",
              "      <td>0.00000</td>\n",
              "      <td>3</td>\n",
              "      <td>3.00000</td>\n",
              "    </tr>\n",
              "  </tbody>\n",
              "</table>\n",
              "</div>"
            ],
            "text/plain": [
              "   order_id  assignment_id  ...  opportunity  opportunity_original\n",
              "0  33022537         277618  ...            1               1.00000\n",
              "1  33022709         277618  ...            2               2.00000\n",
              "2  35450204         220674  ...            1               1.00000\n",
              "3  35450295         220674  ...            2               2.00000\n",
              "4  35450311         220674  ...            3               3.00000\n",
              "\n",
              "[5 rows x 30 columns]"
            ]
          },
          "metadata": {
            "tags": []
          },
          "execution_count": 5
        }
      ]
    },
    {
      "cell_type": "markdown",
      "metadata": {
        "id": "yK9SpoSTOCQ6"
      },
      "source": [
        "We can fit a simple BKT model with the `fit` method for the Model class. In this case, we will fit a BKT model to every skill in the Cognitive Tutor dataset separately. Note that when skill(s) are not specified, it trains a separate model on all skills by default.\n",
        "\n",
        "We can either specify a data path (location of a file) or the Pandas DataFrame containing the data."
      ]
    },
    {
      "cell_type": "code",
      "metadata": {
        "id": "wGs-WUcXqgJ4"
      },
      "source": [
        "model.fit(data_path = 'ct.csv')"
      ],
      "execution_count": null,
      "outputs": []
    },
    {
      "cell_type": "markdown",
      "metadata": {
        "id": "t5UGv-MIQbxi"
      },
      "source": [
        "We can train on multiple skills specified by a list of skill names or a \n",
        "REGEX match for each skill using the `skills` parameter. We demonstrate the usage of that below. In this case, we fit on all strings containing fraction."
      ]
    },
    {
      "cell_type": "code",
      "metadata": {
        "id": "WMv6ShtOQqu7",
        "colab": {
          "base_uri": "https://localhost:8080/"
        },
        "outputId": "acaee7da-15d4-4a57-f775-d869843ae42a"
      },
      "source": [
        "model.fit(data_path = 'ct.csv', skills = \".*fraction.*\")\n",
        "print(\"Fitted Skills:\\n%s\" % '\\n'.join(model.coef_.keys()))"
      ],
      "execution_count": null,
      "outputs": [
        {
          "output_type": "stream",
          "text": [
            "Fitted Skills:\n",
            "Plot non-terminating improper fraction\n",
            "Plot terminating proper fraction\n",
            "Calculate part in proportion with fractions\n",
            "Calculate total in proportion with fractions\n"
          ],
          "name": "stdout"
        }
      ]
    },
    {
      "cell_type": "markdown",
      "metadata": {
        "id": "03quuYvxOg_m"
      },
      "source": [
        "Evaluate on the trained skills for any test data located in a Pandas DataFrame or in a file. In this case, we will just use training data, so this will display the training error. Note that the default metric displayed is RMSE. pyBKT supports AUC, RMSE, and accuracy\n",
        "as metrics by default.\n",
        "\n",
        "However, you can define your own custom metric as well!"
      ]
    },
    {
      "cell_type": "code",
      "metadata": {
        "id": "oWRr6FxErB6G",
        "colab": {
          "base_uri": "https://localhost:8080/"
        },
        "outputId": "d5b87d86-42b6-40a4-8fb2-0c264adaaace"
      },
      "source": [
        "# Evaluate with the default RMSE then specify AUC.\n",
        "model.fit(data_path = 'ct.csv')\n",
        "training_rmse = model.evaluate(data = ct_df)\n",
        "training_auc = model.evaluate(data_path = \"ct.csv\", metric = 'auc')\n",
        "print(\"Training RMSE: %f\" % training_rmse)\n",
        "print(\"Training AUC: %f\" % training_auc)"
      ],
      "execution_count": null,
      "outputs": [
        {
          "output_type": "stream",
          "text": [
            "Training RMSE: 0.453674\n",
            "Training AUC: 0.707657\n"
          ],
          "name": "stdout"
        }
      ]
    },
    {
      "cell_type": "code",
      "metadata": {
        "id": "A2K6avPwrMZ0",
        "colab": {
          "base_uri": "https://localhost:8080/"
        },
        "outputId": "47abf97b-754a-4817-d764-929f2f2896cb"
      },
      "source": [
        "# We can even define our own metric!\n",
        "def mae(true_vals, pred_vals):\n",
        "  \"\"\" Calculates the mean absolute error. \"\"\"\n",
        "  return np.mean(np.abs(true_vals - pred_vals))\n",
        "\n",
        "training_mae = model.evaluate(data_path = 'ct.csv', metric = mae)\n",
        "print(\"Training MAE: %f\" % training_mae)"
      ],
      "execution_count": null,
      "outputs": [
        {
          "output_type": "stream",
          "text": [
            "Training MAE: 0.412162\n"
          ],
          "name": "stdout"
        }
      ]
    },
    {
      "cell_type": "markdown",
      "metadata": {
        "id": "h6q--qwhPtWW"
      },
      "source": [
        "### Model Prediction\n",
        "\n",
        "pyBKT can return predictions on a test set given a Pandas DataFrame or a file conaining test data. If pyBKT is asked for predictions on skills for which it has not trained a model, it will output a best effort guess of 0.5 for both the correct and state predictions.\n",
        "\n",
        "We will be using the training dataset again for testing purposes."
      ]
    },
    {
      "cell_type": "code",
      "metadata": {
        "id": "cEMt5Cmlrzmd",
        "colab": {
          "base_uri": "https://localhost:8080/"
        },
        "outputId": "5e5454f4-0855-47d5-f141-4370595bc5a0"
      },
      "source": [
        "# Note again that the REGEX expression below trains BKT models on all\n",
        "# skills containing the word fraction!\n",
        "model.fit(data_path = 'ct.csv', skills = \".*fraction.*\")\n",
        "preds = model.predict(data_path = 'ct.csv')\n",
        "preds[['Anon Student Id', 'KC(Default)', 'Correct First Attempt', \n",
        "       'correct_predictions', 'state_predictions']].tail(5)"
      ],
      "execution_count": null,
      "outputs": [
        {
          "output_type": "execute_result",
          "data": {
            "text/html": [
              "<div>\n",
              "<style scoped>\n",
              "    .dataframe tbody tr th:only-of-type {\n",
              "        vertical-align: middle;\n",
              "    }\n",
              "\n",
              "    .dataframe tbody tr th {\n",
              "        vertical-align: top;\n",
              "    }\n",
              "\n",
              "    .dataframe thead th {\n",
              "        text-align: right;\n",
              "    }\n",
              "</style>\n",
              "<table border=\"1\" class=\"dataframe\">\n",
              "  <thead>\n",
              "    <tr style=\"text-align: right;\">\n",
              "      <th></th>\n",
              "      <th>Anon Student Id</th>\n",
              "      <th>KC(Default)</th>\n",
              "      <th>Correct First Attempt</th>\n",
              "      <th>correct_predictions</th>\n",
              "      <th>state_predictions</th>\n",
              "    </tr>\n",
              "  </thead>\n",
              "  <tbody>\n",
              "    <tr>\n",
              "      <th>2004</th>\n",
              "      <td>zt5vuLM</td>\n",
              "      <td>Calculate part in proportion with fractions</td>\n",
              "      <td>1</td>\n",
              "      <td>0.86000</td>\n",
              "      <td>0.00583</td>\n",
              "    </tr>\n",
              "    <tr>\n",
              "      <th>2005</th>\n",
              "      <td>zt5vuLM</td>\n",
              "      <td>Calculate total in proportion with fractions</td>\n",
              "      <td>1</td>\n",
              "      <td>0.77804</td>\n",
              "      <td>0.16313</td>\n",
              "    </tr>\n",
              "    <tr>\n",
              "      <th>2006</th>\n",
              "      <td>zt5vuLM</td>\n",
              "      <td>Calculate part in proportion with fractions</td>\n",
              "      <td>1</td>\n",
              "      <td>0.86171</td>\n",
              "      <td>0.00226</td>\n",
              "    </tr>\n",
              "    <tr>\n",
              "      <th>2007</th>\n",
              "      <td>zt5vuLM</td>\n",
              "      <td>Calculate total in proportion with fractions</td>\n",
              "      <td>1</td>\n",
              "      <td>0.84658</td>\n",
              "      <td>0.04482</td>\n",
              "    </tr>\n",
              "    <tr>\n",
              "      <th>2008</th>\n",
              "      <td>zt5vuLM</td>\n",
              "      <td>Calculate part in proportion with fractions</td>\n",
              "      <td>1</td>\n",
              "      <td>0.86237</td>\n",
              "      <td>0.00087</td>\n",
              "    </tr>\n",
              "  </tbody>\n",
              "</table>\n",
              "</div>"
            ],
            "text/plain": [
              "     Anon Student Id  ... state_predictions\n",
              "2004         zt5vuLM  ...           0.00583\n",
              "2005         zt5vuLM  ...           0.16313\n",
              "2006         zt5vuLM  ...           0.00226\n",
              "2007         zt5vuLM  ...           0.04482\n",
              "2008         zt5vuLM  ...           0.00087\n",
              "\n",
              "[5 rows x 5 columns]"
            ]
          },
          "metadata": {
            "tags": []
          },
          "execution_count": 10
        }
      ]
    },
    {
      "cell_type": "code",
      "metadata": {
        "id": "UNINLedmRty2",
        "colab": {
          "base_uri": "https://localhost:8080/"
        },
        "outputId": "09b56c13-0ff9-4a69-e575-6606fd096b21"
      },
      "source": [
        "# Let's sanity check that we have only trained on the skills that we \n",
        "# specified in the call to fit! Note that while it is possible for a \n",
        "# BKT prediction to be 0.5 exactly, it is unlikely.\n",
        "preds[preds['correct_predictions'] != 0.5]['KC(Default)'].unique()"
      ],
      "execution_count": null,
      "outputs": [
        {
          "output_type": "execute_result",
          "data": {
            "text/plain": [
              "array(['Plot non-terminating improper fraction',\n",
              "       'Plot terminating proper fraction',\n",
              "       'Calculate part in proportion with fractions',\n",
              "       'Calculate total in proportion with fractions'], dtype=object)"
            ]
          },
          "metadata": {
            "tags": []
          },
          "execution_count": 11
        }
      ]
    },
    {
      "cell_type": "code",
      "metadata": {
        "id": "HMYfbZIOSHmw",
        "colab": {
          "base_uri": "https://localhost:8080/"
        },
        "outputId": "72acc535-2b8f-43dd-c164-19376402161f"
      },
      "source": [
        "# Let's manually calculate the RMSE of the correct predictions \n",
        "# and ensure that it is the same as a call to the evaluate function.\n",
        "def rmse(y_true, y_pred):\n",
        "  \"\"\" Returns the root-mean squared error. \"\"\"\n",
        "  return np.sqrt(np.mean((y_true - y_pred) ** 2))\n",
        "\n",
        "# Filter out the data for which we did not train!\n",
        "preds_filtered = preds[preds['KC(Default)'].str.contains('fraction')]\n",
        "manual_training_rmse = rmse(preds_filtered['Correct First Attempt'],\n",
        "                            preds_filtered['correct_predictions'])\n",
        "manual_training_rmse"
      ],
      "execution_count": null,
      "outputs": [
        {
          "output_type": "execute_result",
          "data": {
            "text/plain": [
              "0.44053077049006584"
            ]
          },
          "metadata": {
            "tags": []
          },
          "execution_count": 12
        }
      ]
    },
    {
      "cell_type": "code",
      "metadata": {
        "id": "QQuyQWH0SmBu",
        "colab": {
          "base_uri": "https://localhost:8080/"
        },
        "outputId": "3cce07bf-cf58-40f5-ebc4-0ad1ff83f771"
      },
      "source": [
        "# We use model.evaluate to accomplish the same thing!\n",
        "# You should receive an RMSE that is identical to the above\n",
        "# manually calculated RMSE.\n",
        "model.evaluate(data = ct_df)"
      ],
      "execution_count": null,
      "outputs": [
        {
          "output_type": "execute_result",
          "data": {
            "text/plain": [
              "0.4405307704900611"
            ]
          },
          "metadata": {
            "tags": []
          },
          "execution_count": 13
        }
      ]
    },
    {
      "cell_type": "markdown",
      "metadata": {
        "id": "2ByuvLXxGFmW"
      },
      "source": [
        "### Question 1 (10 mins):\n",
        "\n",
        "Fit your own BKT model below on the 'Calculate unit rate' skill from the Cognitive Tutor dataset on the provided training data. Evaluate the mean absolute error and AUC of predicting on the given test set and training set in the respective variables.\n",
        "\n",
        "Note that we have already performed a train/test split below."
      ]
    },
    {
      "cell_type": "code",
      "metadata": {
        "id": "ktQFOO7SN3ZO"
      },
      "source": [
        "# Test data proportion (i.e. 20% of all data used as testing data)\n",
        "test_prop = 0.2\n",
        "\n",
        "model = Model(seed = 42, num_fits = 1, parallel = True)\n",
        "ct_data = ct_df[ct_df['KC(Default)'] == \n",
        "                'Calculate unit rate'].set_index('Anon Student Id')\n",
        "idx_split = np.array(ct_data.index.unique())\n",
        "np.random.seed(42)\n",
        "np.random.shuffle(idx_split)\n",
        "training_data = ct_data.loc[idx_split[int(test_prop * len(idx_split)):]]\n",
        "test_data = ct_data.loc[idx_split[:int(test_prop * len(idx_split))]]\n",
        "\n",
        "training_data.reset_index(inplace = True)\n",
        "test_data.reset_index(inplace = True)\n",
        "\n",
        "training_mae, training_auc, test_mae, test_auc = 0, 0, 0, 0\n"
      ],
      "execution_count": null,
      "outputs": []
    },
    {
      "cell_type": "code",
      "metadata": {
        "id": "b6C8Yen4Oz8Z"
      },
      "source": [
        "skill = 'Calculate unit rate'\n",
        "\n",
        "model.fit(data = training_data, skills = skill)\n",
        "model.evaluate(data = training_data)\n",
        "\n",
        "preds = model.predict(data = test_data)"
      ],
      "execution_count": null,
      "outputs": []
    },
    {
      "cell_type": "code",
      "metadata": {
        "id": "Uc8S0nhQPe3u",
        "colab": {
          "base_uri": "https://localhost:8080/"
        },
        "outputId": "e9472a99-94b1-4079-abbc-2037f1719939"
      },
      "source": [
        "preds[preds['correct_predictions'] != 0.5]['KC(Default)'].unique()"
      ],
      "execution_count": null,
      "outputs": [
        {
          "output_type": "execute_result",
          "data": {
            "text/plain": [
              "array(['Calculate unit rate'], dtype=object)"
            ]
          },
          "metadata": {
            "tags": []
          },
          "execution_count": 16
        }
      ]
    },
    {
      "cell_type": "code",
      "metadata": {
        "id": "nsX9NxYUPWg_"
      },
      "source": [
        "training_mae = model.evaluate(data = training_data)\n",
        "training_auc= model.evaluate(data = training_data, metric='auc')\n",
        "\n",
        "test_mae = model.evaluate(data = test_data)\n",
        "test_auc = model.evaluate(data = test_data, metric = 'auc')"
      ],
      "execution_count": null,
      "outputs": []
    },
    {
      "cell_type": "code",
      "metadata": {
        "id": "aS7INa0sGXZk",
        "colab": {
          "base_uri": "https://localhost:8080/"
        },
        "outputId": "b9ea727b-f327-4d95-ed56-65ac90a480e4"
      },
      "source": [
        "################ YOUR CODE HERE ################\n",
        "\n",
        "\n",
        "\n",
        "\n",
        "################################################\n",
        "print(\"Training Mean Absolute Error: %f\" % training_mae)\n",
        "print(\"Training AUC: %f\" % training_auc)\n",
        "print(\"Test Mean Absolute Error: %f\" % test_mae)\n",
        "print(\"Test AUC: %f\" % test_auc)\n",
        "\n",
        "\n",
        "training_data.head(5)"
      ],
      "execution_count": null,
      "outputs": [
        {
          "output_type": "stream",
          "text": [
            "Training Mean Absolute Error: 0.479601\n",
            "Training AUC: 0.614631\n",
            "Test Mean Absolute Error: 0.493490\n",
            "Test AUC: 0.553530\n"
          ],
          "name": "stdout"
        },
        {
          "output_type": "execute_result",
          "data": {
            "text/html": [
              "<div>\n",
              "<style scoped>\n",
              "    .dataframe tbody tr th:only-of-type {\n",
              "        vertical-align: middle;\n",
              "    }\n",
              "\n",
              "    .dataframe tbody tr th {\n",
              "        vertical-align: top;\n",
              "    }\n",
              "\n",
              "    .dataframe thead th {\n",
              "        text-align: right;\n",
              "    }\n",
              "</style>\n",
              "<table border=\"1\" class=\"dataframe\">\n",
              "  <thead>\n",
              "    <tr style=\"text-align: right;\">\n",
              "      <th></th>\n",
              "      <th>Anon Student Id</th>\n",
              "      <th>Unnamed: 0</th>\n",
              "      <th>Row</th>\n",
              "      <th>Problem Hierarchy</th>\n",
              "      <th>Problem Name</th>\n",
              "      <th>Problem View</th>\n",
              "      <th>Step Name</th>\n",
              "      <th>Step Start Time</th>\n",
              "      <th>First Transaction Time</th>\n",
              "      <th>Correct Transaction Time</th>\n",
              "      <th>Step End Time</th>\n",
              "      <th>Step Duration (sec)</th>\n",
              "      <th>Correct Step Duration (sec)</th>\n",
              "      <th>Error Step Duration (sec)</th>\n",
              "      <th>Correct First Attempt</th>\n",
              "      <th>Incorrects</th>\n",
              "      <th>Hints</th>\n",
              "      <th>Corrects</th>\n",
              "      <th>KC(Default)</th>\n",
              "      <th>Opportunity(Default)</th>\n",
              "    </tr>\n",
              "  </thead>\n",
              "  <tbody>\n",
              "    <tr>\n",
              "      <th>3440</th>\n",
              "      <td>171017OL</td>\n",
              "      <td>1246625</td>\n",
              "      <td>1660187</td>\n",
              "      <td>Unit RATIO-PROPORTION, Section RATIO-PROPORTION-2</td>\n",
              "      <td>RATIO2-001</td>\n",
              "      <td>1</td>\n",
              "      <td>SimplifiedNumeratorQuantity1</td>\n",
              "      <td>2006-11-21 12:51:58.0</td>\n",
              "      <td>2006-11-21 12:52:02.0</td>\n",
              "      <td>2006-11-21 12:52:02.0</td>\n",
              "      <td>2006-11-21 12:52:02.0</td>\n",
              "      <td>4.00000</td>\n",
              "      <td>4.00000</td>\n",
              "      <td>nan</td>\n",
              "      <td>1</td>\n",
              "      <td>0</td>\n",
              "      <td>0</td>\n",
              "      <td>1</td>\n",
              "      <td>Calculate unit rate</td>\n",
              "      <td>1</td>\n",
              "    </tr>\n",
              "    <tr>\n",
              "      <th>3441</th>\n",
              "      <td>171017OL</td>\n",
              "      <td>1246635</td>\n",
              "      <td>1660197</td>\n",
              "      <td>Unit RATIO-PROPORTION, Section RATIO-PROPORTION-2</td>\n",
              "      <td>RATIO2-001</td>\n",
              "      <td>1</td>\n",
              "      <td>SimplifiedNumeratorQuantity2</td>\n",
              "      <td>2006-11-21 12:52:35.0</td>\n",
              "      <td>2006-11-21 12:52:47.0</td>\n",
              "      <td>2006-11-21 12:55:15.0</td>\n",
              "      <td>2006-11-21 12:55:15.0</td>\n",
              "      <td>155.00000</td>\n",
              "      <td>nan</td>\n",
              "      <td>155.00000</td>\n",
              "      <td>0</td>\n",
              "      <td>4</td>\n",
              "      <td>1</td>\n",
              "      <td>1</td>\n",
              "      <td>Calculate unit rate</td>\n",
              "      <td>2</td>\n",
              "    </tr>\n",
              "    <tr>\n",
              "      <th>3442</th>\n",
              "      <td>171017OL</td>\n",
              "      <td>1246643</td>\n",
              "      <td>1660205</td>\n",
              "      <td>Unit RATIO-PROPORTION, Section RATIO-PROPORTION-2</td>\n",
              "      <td>RATIO2-188</td>\n",
              "      <td>1</td>\n",
              "      <td>SimplifiedNumeratorQuantity1</td>\n",
              "      <td>2006-11-21 12:56:11.0</td>\n",
              "      <td>2006-11-21 12:57:01.0</td>\n",
              "      <td>2006-11-21 12:57:01.0</td>\n",
              "      <td>2006-11-21 12:57:01.0</td>\n",
              "      <td>50.00000</td>\n",
              "      <td>50.00000</td>\n",
              "      <td>nan</td>\n",
              "      <td>1</td>\n",
              "      <td>0</td>\n",
              "      <td>0</td>\n",
              "      <td>1</td>\n",
              "      <td>Calculate unit rate</td>\n",
              "      <td>3</td>\n",
              "    </tr>\n",
              "    <tr>\n",
              "      <th>3443</th>\n",
              "      <td>171017OL</td>\n",
              "      <td>1246650</td>\n",
              "      <td>1660212</td>\n",
              "      <td>Unit RATIO-PROPORTION, Section RATIO-PROPORTION-2</td>\n",
              "      <td>RATIO2-188</td>\n",
              "      <td>1</td>\n",
              "      <td>SimplifiedNumeratorQuantity2</td>\n",
              "      <td>2006-11-21 12:57:16.0</td>\n",
              "      <td>2006-11-21 12:57:24.0</td>\n",
              "      <td>2006-11-21 12:57:24.0</td>\n",
              "      <td>2006-11-21 12:57:24.0</td>\n",
              "      <td>8.00000</td>\n",
              "      <td>8.00000</td>\n",
              "      <td>nan</td>\n",
              "      <td>1</td>\n",
              "      <td>0</td>\n",
              "      <td>0</td>\n",
              "      <td>1</td>\n",
              "      <td>Calculate unit rate</td>\n",
              "      <td>4</td>\n",
              "    </tr>\n",
              "    <tr>\n",
              "      <th>3444</th>\n",
              "      <td>171017OL</td>\n",
              "      <td>1246659</td>\n",
              "      <td>1660221</td>\n",
              "      <td>Unit RATIO-PROPORTION, Section RATIO-PROPORTION-2</td>\n",
              "      <td>RATIO2-035</td>\n",
              "      <td>1</td>\n",
              "      <td>SimplifiedNumeratorQuantity1</td>\n",
              "      <td>2006-11-21 12:58:09.0</td>\n",
              "      <td>2006-11-21 12:58:24.0</td>\n",
              "      <td>2006-11-21 12:58:24.0</td>\n",
              "      <td>2006-11-21 12:58:24.0</td>\n",
              "      <td>15.00000</td>\n",
              "      <td>15.00000</td>\n",
              "      <td>nan</td>\n",
              "      <td>1</td>\n",
              "      <td>0</td>\n",
              "      <td>0</td>\n",
              "      <td>1</td>\n",
              "      <td>Calculate unit rate</td>\n",
              "      <td>5</td>\n",
              "    </tr>\n",
              "  </tbody>\n",
              "</table>\n",
              "</div>"
            ],
            "text/plain": [
              "     Anon Student Id  Unnamed: 0  ...          KC(Default) Opportunity(Default)\n",
              "3440        171017OL     1246625  ...  Calculate unit rate                    1\n",
              "3441        171017OL     1246635  ...  Calculate unit rate                    2\n",
              "3442        171017OL     1246643  ...  Calculate unit rate                    3\n",
              "3443        171017OL     1246650  ...  Calculate unit rate                    4\n",
              "3444        171017OL     1246659  ...  Calculate unit rate                    5\n",
              "\n",
              "[5 rows x 20 columns]"
            ]
          },
          "metadata": {
            "tags": []
          },
          "execution_count": 18
        }
      ]
    },
    {
      "cell_type": "markdown",
      "metadata": {
        "id": "2RTLXJzSTdmq"
      },
      "source": [
        "### Model Cross-Validation and Variants\n",
        "\n",
        "Crossvalidation is offered as a blackbox function similar to a combination of fit and evaluate that accepts a particular number of folds, a seed, and a metric (either one of the 3 provided that are 'rmse', 'auc' or 'accuracy' or a custom Python function taking 2 arguments). Similar arguments for the model types, data path/data, and skill names are accepted as with the fit function."
      ]
    },
    {
      "cell_type": "code",
      "metadata": {
        "id": "fLbg2OSsrdu8",
        "colab": {
          "base_uri": "https://localhost:8080/",
          "height": 447
        },
        "outputId": "f5e9adab-3eac-43c3-ce31-9358d1fb96c0"
      },
      "source": [
        "# Note that folds is an optional parameter as well as the model \n",
        "# variant, seed, and crossvalidated metric.\n",
        "# By default, we crossvalidate on all skills separately.\n",
        "model.crossvalidate(data_path = 'ct.csv', folds = 5)"
      ],
      "execution_count": null,
      "outputs": [
        {
          "output_type": "execute_result",
          "data": {
            "text/html": [
              "<div>\n",
              "<style scoped>\n",
              "    .dataframe tbody tr th:only-of-type {\n",
              "        vertical-align: middle;\n",
              "    }\n",
              "\n",
              "    .dataframe tbody tr th {\n",
              "        vertical-align: top;\n",
              "    }\n",
              "\n",
              "    .dataframe thead th {\n",
              "        text-align: right;\n",
              "    }\n",
              "</style>\n",
              "<table border=\"1\" class=\"dataframe\">\n",
              "  <thead>\n",
              "    <tr style=\"text-align: right;\">\n",
              "      <th></th>\n",
              "      <th>rmse</th>\n",
              "    </tr>\n",
              "    <tr>\n",
              "      <th>skill</th>\n",
              "      <th></th>\n",
              "    </tr>\n",
              "  </thead>\n",
              "  <tbody>\n",
              "    <tr>\n",
              "      <th>Plot non-terminating improper fraction</th>\n",
              "      <td>0.48160</td>\n",
              "    </tr>\n",
              "    <tr>\n",
              "      <th>Plot imperfect radical</th>\n",
              "      <td>0.43714</td>\n",
              "    </tr>\n",
              "    <tr>\n",
              "      <th>Plot terminating proper fraction</th>\n",
              "      <td>0.49620</td>\n",
              "    </tr>\n",
              "    <tr>\n",
              "      <th>Plot pi</th>\n",
              "      <td>0.46048</td>\n",
              "    </tr>\n",
              "    <tr>\n",
              "      <th>Plot whole number</th>\n",
              "      <td>0.29062</td>\n",
              "    </tr>\n",
              "    <tr>\n",
              "      <th>Plot decimal - thousandths</th>\n",
              "      <td>0.47233</td>\n",
              "    </tr>\n",
              "    <tr>\n",
              "      <th>Calculate unit rate</th>\n",
              "      <td>0.48256</td>\n",
              "    </tr>\n",
              "    <tr>\n",
              "      <th>Calculate part in proportion with fractions</th>\n",
              "      <td>0.42730</td>\n",
              "    </tr>\n",
              "    <tr>\n",
              "      <th>Calculate total in proportion with fractions</th>\n",
              "      <td>0.42370</td>\n",
              "    </tr>\n",
              "    <tr>\n",
              "      <th>Finding the intersection, Mixed</th>\n",
              "      <td>0.49813</td>\n",
              "    </tr>\n",
              "    <tr>\n",
              "      <th>Finding the intersection, GLF</th>\n",
              "      <td>0.48961</td>\n",
              "    </tr>\n",
              "    <tr>\n",
              "      <th>Finding the intersection, SIF</th>\n",
              "      <td>0.49181</td>\n",
              "    </tr>\n",
              "  </tbody>\n",
              "</table>\n",
              "</div>"
            ],
            "text/plain": [
              "                                                rmse\n",
              "skill                                               \n",
              "Plot non-terminating improper fraction       0.48160\n",
              "Plot imperfect radical                       0.43714\n",
              "Plot terminating proper fraction             0.49620\n",
              "Plot pi                                      0.46048\n",
              "Plot whole number                            0.29062\n",
              "Plot decimal - thousandths                   0.47233\n",
              "Calculate unit rate                          0.48256\n",
              "Calculate part in proportion with fractions  0.42730\n",
              "Calculate total in proportion with fractions 0.42370\n",
              "Finding the intersection, Mixed              0.49813\n",
              "Finding the intersection, GLF                0.48961\n",
              "Finding the intersection, SIF                0.49181"
            ]
          },
          "metadata": {
            "tags": []
          },
          "execution_count": 19
        }
      ]
    },
    {
      "cell_type": "markdown",
      "metadata": {
        "id": "quergqYRUWCn"
      },
      "source": [
        "We explore all the model variants offered within pyBKT for one particular skill (Calculations with Similar Figures) using cross-validation since it provides a much better evaluation of true model performance during test time than the training loss!"
      ]
    },
    {
      "cell_type": "code",
      "metadata": {
        "id": "J74W6yFqsmk1",
        "colab": {
          "base_uri": "https://localhost:8080/",
          "height": 110
        },
        "outputId": "73b27eea-b835-4c18-9448-4b69c85bf38e"
      },
      "source": [
        "# Try this with a different skill or metric by replacing the lines below.\n",
        "skill = 'Calculations with Similar Figures'\n",
        "metric = 'auc'\n",
        "\n",
        "simple_cv = model.crossvalidate(data = as_df, skills = skill, \n",
        "                                metric = metric)\n",
        "simple_cv"
      ],
      "execution_count": null,
      "outputs": [
        {
          "output_type": "execute_result",
          "data": {
            "text/html": [
              "<div>\n",
              "<style scoped>\n",
              "    .dataframe tbody tr th:only-of-type {\n",
              "        vertical-align: middle;\n",
              "    }\n",
              "\n",
              "    .dataframe tbody tr th {\n",
              "        vertical-align: top;\n",
              "    }\n",
              "\n",
              "    .dataframe thead th {\n",
              "        text-align: right;\n",
              "    }\n",
              "</style>\n",
              "<table border=\"1\" class=\"dataframe\">\n",
              "  <thead>\n",
              "    <tr style=\"text-align: right;\">\n",
              "      <th></th>\n",
              "      <th>auc</th>\n",
              "    </tr>\n",
              "    <tr>\n",
              "      <th>skill</th>\n",
              "      <th></th>\n",
              "    </tr>\n",
              "  </thead>\n",
              "  <tbody>\n",
              "    <tr>\n",
              "      <th>Calculations with Similar Figures</th>\n",
              "      <td>0.59458</td>\n",
              "    </tr>\n",
              "  </tbody>\n",
              "</table>\n",
              "</div>"
            ],
            "text/plain": [
              "                                      auc\n",
              "skill                                    \n",
              "Calculations with Similar Figures 0.59458"
            ]
          },
          "metadata": {
            "tags": []
          },
          "execution_count": 20
        }
      ]
    },
    {
      "cell_type": "markdown",
      "metadata": {
        "id": "Or07tJTHUyws"
      },
      "source": [
        "The multigs model fits a different guess/slip rate for each class. Note that by default, for the Assistments data, the guess and slip classes will be specified by the template_id. pyBKT will be able to infer the column names for AS/CT type datasets, but you can specify a custom column mapping (discussed in later cells)."
      ]
    },
    {
      "cell_type": "code",
      "metadata": {
        "id": "6Kl-ylC5VhqR",
        "colab": {
          "base_uri": "https://localhost:8080/",
          "height": 110
        },
        "outputId": "419d9ce7-db1e-4c5f-d7fc-13d9c0ef3cb4"
      },
      "source": [
        "multigs_cv = model.crossvalidate(data_path = 'as.csv', skills = skill,\n",
        "                                 multigs = True, metric = metric)\n",
        "multigs_cv"
      ],
      "execution_count": null,
      "outputs": [
        {
          "output_type": "execute_result",
          "data": {
            "text/html": [
              "<div>\n",
              "<style scoped>\n",
              "    .dataframe tbody tr th:only-of-type {\n",
              "        vertical-align: middle;\n",
              "    }\n",
              "\n",
              "    .dataframe tbody tr th {\n",
              "        vertical-align: top;\n",
              "    }\n",
              "\n",
              "    .dataframe thead th {\n",
              "        text-align: right;\n",
              "    }\n",
              "</style>\n",
              "<table border=\"1\" class=\"dataframe\">\n",
              "  <thead>\n",
              "    <tr style=\"text-align: right;\">\n",
              "      <th></th>\n",
              "      <th>auc</th>\n",
              "    </tr>\n",
              "    <tr>\n",
              "      <th>skill</th>\n",
              "      <th></th>\n",
              "    </tr>\n",
              "  </thead>\n",
              "  <tbody>\n",
              "    <tr>\n",
              "      <th>Calculations with Similar Figures</th>\n",
              "      <td>0.67083</td>\n",
              "    </tr>\n",
              "  </tbody>\n",
              "</table>\n",
              "</div>"
            ],
            "text/plain": [
              "                                      auc\n",
              "skill                                    \n",
              "Calculations with Similar Figures 0.67083"
            ]
          },
          "metadata": {
            "tags": []
          },
          "execution_count": 21
        }
      ]
    },
    {
      "cell_type": "markdown",
      "metadata": {
        "id": "OJpjUlpdVHXc"
      },
      "source": [
        "The multilearn model fits a different learn rate (and forget rate if enabled) rate for each class specified. Note that the learn classes are specified by the template_id column by default for the Assistments dataset."
      ]
    },
    {
      "cell_type": "code",
      "metadata": {
        "id": "4VvZiCmLVliZ",
        "colab": {
          "base_uri": "https://localhost:8080/",
          "height": 110
        },
        "outputId": "adca1e00-f0fa-41d5-a09a-ffb59a4ef2c2"
      },
      "source": [
        "multilearn_cv = model.crossvalidate(data_path = 'as.csv', skills = skill,\n",
        "                                    multilearn = True, forgets = True, \n",
        "                                    metric = metric)\n",
        "multilearn_cv"
      ],
      "execution_count": null,
      "outputs": [
        {
          "output_type": "execute_result",
          "data": {
            "text/html": [
              "<div>\n",
              "<style scoped>\n",
              "    .dataframe tbody tr th:only-of-type {\n",
              "        vertical-align: middle;\n",
              "    }\n",
              "\n",
              "    .dataframe tbody tr th {\n",
              "        vertical-align: top;\n",
              "    }\n",
              "\n",
              "    .dataframe thead th {\n",
              "        text-align: right;\n",
              "    }\n",
              "</style>\n",
              "<table border=\"1\" class=\"dataframe\">\n",
              "  <thead>\n",
              "    <tr style=\"text-align: right;\">\n",
              "      <th></th>\n",
              "      <th>auc</th>\n",
              "    </tr>\n",
              "    <tr>\n",
              "      <th>skill</th>\n",
              "      <th></th>\n",
              "    </tr>\n",
              "  </thead>\n",
              "  <tbody>\n",
              "    <tr>\n",
              "      <th>Calculations with Similar Figures</th>\n",
              "      <td>0.65535</td>\n",
              "    </tr>\n",
              "  </tbody>\n",
              "</table>\n",
              "</div>"
            ],
            "text/plain": [
              "                                      auc\n",
              "skill                                    \n",
              "Calculations with Similar Figures 0.65535"
            ]
          },
          "metadata": {
            "tags": []
          },
          "execution_count": 22
        }
      ]
    },
    {
      "cell_type": "markdown",
      "metadata": {
        "id": "M3KtHwOgVj3Y"
      },
      "source": [
        "The multiprior model fits a different prior rate for the first response of a student sequence, and the multipair model generates a different learn rate based on each consecutive pair of classes. "
      ]
    },
    {
      "cell_type": "code",
      "metadata": {
        "id": "bhyg7-ZfVohB",
        "colab": {
          "base_uri": "https://localhost:8080/",
          "height": 141
        },
        "outputId": "fcf9b08a-1e2e-4040-9f0e-29d9b8bd7f89"
      },
      "source": [
        "# The multiprior model generates different priors based on the first \n",
        "# response of each student.\n",
        "multiprior_cv = model.crossvalidate(data_path = 'as.csv', skills = skill,\n",
        "                                    multiprior = True, metric = metric,\n",
        "                                    folds = 3)\n",
        "multipair_cv = model.crossvalidate(data_path = 'as.csv', skills = skill,\n",
        "                                   multipair = True, metric = metric,\n",
        "                                   folds = 3)\n",
        "pd.concat([multiprior_cv, multipair_cv], axis = 0)"
      ],
      "execution_count": null,
      "outputs": [
        {
          "output_type": "execute_result",
          "data": {
            "text/html": [
              "<div>\n",
              "<style scoped>\n",
              "    .dataframe tbody tr th:only-of-type {\n",
              "        vertical-align: middle;\n",
              "    }\n",
              "\n",
              "    .dataframe tbody tr th {\n",
              "        vertical-align: top;\n",
              "    }\n",
              "\n",
              "    .dataframe thead th {\n",
              "        text-align: right;\n",
              "    }\n",
              "</style>\n",
              "<table border=\"1\" class=\"dataframe\">\n",
              "  <thead>\n",
              "    <tr style=\"text-align: right;\">\n",
              "      <th></th>\n",
              "      <th>auc</th>\n",
              "    </tr>\n",
              "    <tr>\n",
              "      <th>skill</th>\n",
              "      <th></th>\n",
              "    </tr>\n",
              "  </thead>\n",
              "  <tbody>\n",
              "    <tr>\n",
              "      <th>Calculations with Similar Figures</th>\n",
              "      <td>0.59682</td>\n",
              "    </tr>\n",
              "    <tr>\n",
              "      <th>Calculations with Similar Figures</th>\n",
              "      <td>0.56483</td>\n",
              "    </tr>\n",
              "  </tbody>\n",
              "</table>\n",
              "</div>"
            ],
            "text/plain": [
              "                                      auc\n",
              "skill                                    \n",
              "Calculations with Similar Figures 0.59682\n",
              "Calculations with Similar Figures 0.56483"
            ]
          },
          "metadata": {
            "tags": []
          },
          "execution_count": 23
        }
      ]
    },
    {
      "cell_type": "markdown",
      "metadata": {
        "id": "J8afYPYSWAZy"
      },
      "source": [
        "The best performing models are typically those that combine several useful variants such as the multilearn and multiguess/slip class variants. We will enable the forgets parameter as well. Try testing with other skills and see whether this holds true for the general case."
      ]
    },
    {
      "cell_type": "code",
      "metadata": {
        "id": "4ivl4apsVtB3",
        "colab": {
          "base_uri": "https://localhost:8080/",
          "height": 110
        },
        "outputId": "446b984a-5a02-40d1-eed4-a97944dfa797"
      },
      "source": [
        "# We combine the fifth parameter, forgets, with the previous multilearn\n",
        "# and multiguess/slip models for a combo model.\n",
        "combo_cv = model.crossvalidate(data_path = 'as.csv', skills = skill,\n",
        "                               forgets = True, multilearn = True, \n",
        "                               multigs = True, metric = metric)\n",
        "combo_cv"
      ],
      "execution_count": null,
      "outputs": [
        {
          "output_type": "execute_result",
          "data": {
            "text/html": [
              "<div>\n",
              "<style scoped>\n",
              "    .dataframe tbody tr th:only-of-type {\n",
              "        vertical-align: middle;\n",
              "    }\n",
              "\n",
              "    .dataframe tbody tr th {\n",
              "        vertical-align: top;\n",
              "    }\n",
              "\n",
              "    .dataframe thead th {\n",
              "        text-align: right;\n",
              "    }\n",
              "</style>\n",
              "<table border=\"1\" class=\"dataframe\">\n",
              "  <thead>\n",
              "    <tr style=\"text-align: right;\">\n",
              "      <th></th>\n",
              "      <th>auc</th>\n",
              "    </tr>\n",
              "    <tr>\n",
              "      <th>skill</th>\n",
              "      <th></th>\n",
              "    </tr>\n",
              "  </thead>\n",
              "  <tbody>\n",
              "    <tr>\n",
              "      <th>Calculations with Similar Figures</th>\n",
              "      <td>0.69301</td>\n",
              "    </tr>\n",
              "  </tbody>\n",
              "</table>\n",
              "</div>"
            ],
            "text/plain": [
              "                                      auc\n",
              "skill                                    \n",
              "Calculations with Similar Figures 0.69301"
            ]
          },
          "metadata": {
            "tags": []
          },
          "execution_count": 24
        }
      ]
    },
    {
      "cell_type": "markdown",
      "metadata": {
        "id": "gsQcx1z8LBa-"
      },
      "source": [
        "### Question 2 (10 mins):\n",
        "\n",
        "Which combination of model variants has the smallest crossvalidated loss for \"Venn Diagram\"? Which model variant is the best performant with a minimal number of parameters? Use the root-mean squared error as the metric."
      ]
    },
    {
      "cell_type": "code",
      "metadata": {
        "id": "LxA-KwqkLf3X",
        "colab": {
          "base_uri": "https://localhost:8080/",
          "height": 681
        },
        "outputId": "9895f2a7-2dcf-4941-cf4a-26cb6696302b"
      },
      "source": [
        "models = {}\n",
        "\n",
        "model = Model(seed = 42, num_fits = 5, parallel = True)\n",
        "\n",
        "skill = 'Venn Diagram'\n",
        "################ YOUR CODE HERE ################\n",
        "models['simple'] = model.crossvalidate(data_path = 'as.csv', skills = skill)\n",
        "models['multilearn'] = model.crossvalidate(data_path = 'as.csv', skills = skill, multilearn = True)\n",
        "models['multipair'] = model.crossvalidate(data_path = 'as.csv', skills = skill, multipair = True)\n",
        "models['multigs'] = model.crossvalidate(data_path = 'as.csv', skills = skill, multigs = True)\n",
        "models['forgets'] = model.crossvalidate(data_path = 'as.csv', skills = skill, forgets = True)\n",
        "models['multigs + forgets'] = model.crossvalidate(data_path = 'as.csv', skills = skill, multigs = True, forgets = True)\n",
        "models['multilearn + forgets'] = model.crossvalidate(data_path = 'as.csv', skills = skill, multilearn = True, forgets = True)\n",
        "# Are there any more models you can think of?\n",
        "\n",
        "################################################\n",
        "\n",
        "df = pd.concat(models.values())\n",
        "df['model type'] = models.keys()\n",
        "plt.figure(figsize = (14, 6))\n",
        "plt.plot(df['model type'], df['rmse'])\n",
        "plt.title('RMSE of Model Variants for Venn Diagram')\n",
        "plt.ylabel('RMSE')\n",
        "plt.xlabel('Model Variants')\n",
        "df.set_index('model type')"
      ],
      "execution_count": null,
      "outputs": [
        {
          "output_type": "execute_result",
          "data": {
            "text/html": [
              "<div>\n",
              "<style scoped>\n",
              "    .dataframe tbody tr th:only-of-type {\n",
              "        vertical-align: middle;\n",
              "    }\n",
              "\n",
              "    .dataframe tbody tr th {\n",
              "        vertical-align: top;\n",
              "    }\n",
              "\n",
              "    .dataframe thead th {\n",
              "        text-align: right;\n",
              "    }\n",
              "</style>\n",
              "<table border=\"1\" class=\"dataframe\">\n",
              "  <thead>\n",
              "    <tr style=\"text-align: right;\">\n",
              "      <th></th>\n",
              "      <th>rmse</th>\n",
              "    </tr>\n",
              "    <tr>\n",
              "      <th>model type</th>\n",
              "      <th></th>\n",
              "    </tr>\n",
              "  </thead>\n",
              "  <tbody>\n",
              "    <tr>\n",
              "      <th>simple</th>\n",
              "      <td>0.33122</td>\n",
              "    </tr>\n",
              "    <tr>\n",
              "      <th>multilearn</th>\n",
              "      <td>0.32798</td>\n",
              "    </tr>\n",
              "    <tr>\n",
              "      <th>multipair</th>\n",
              "      <td>0.32538</td>\n",
              "    </tr>\n",
              "    <tr>\n",
              "      <th>multigs</th>\n",
              "      <td>0.30675</td>\n",
              "    </tr>\n",
              "    <tr>\n",
              "      <th>forgets</th>\n",
              "      <td>0.28320</td>\n",
              "    </tr>\n",
              "    <tr>\n",
              "      <th>multigs + forgets</th>\n",
              "      <td>0.27044</td>\n",
              "    </tr>\n",
              "    <tr>\n",
              "      <th>multilearn + forgets</th>\n",
              "      <td>0.27226</td>\n",
              "    </tr>\n",
              "  </tbody>\n",
              "</table>\n",
              "</div>"
            ],
            "text/plain": [
              "                        rmse\n",
              "model type                  \n",
              "simple               0.33122\n",
              "multilearn           0.32798\n",
              "multipair            0.32538\n",
              "multigs              0.30675\n",
              "forgets              0.28320\n",
              "multigs + forgets    0.27044\n",
              "multilearn + forgets 0.27226"
            ]
          },
          "metadata": {
            "tags": []
          },
          "execution_count": 25
        },
        {
          "output_type": "display_data",
          "data": {
            "image/png": "[encoded data removed]",
            "text/plain": [
              "<Figure size 1008x432 with 1 Axes>"
            ]
          },
          "metadata": {
            "tags": [],
            "needs_background": "light"
          }
        }
      ]
    },
    {
      "cell_type": "markdown",
      "metadata": {
        "id": "qkiQ1CbrWbrQ"
      },
      "source": [
        "### Model Parameter Initialization and Visualization\n",
        "\n",
        "We can initialize any of the model parameters for a particular skill's BKT model before training using `model.coef_`. Similar to SciKit Learn, `model.coef_` is a way to initialize model parameters and view them after they are fitted.\n"
      ]
    },
    {
      "cell_type": "code",
      "metadata": {
        "id": "2Ncdi9_mwnvg",
        "colab": {
          "base_uri": "https://localhost:8080/"
        },
        "outputId": "238a20f6-89a5-4339-a48f-ace75ca27937"
      },
      "source": [
        "# We initialize the prior parameter to 1e-3 for the Box and Whisker \n",
        "# skill.\n",
        "#\n",
        "# Note that if we are training a KT-IDEM (multiguess/slip) model,\n",
        "# we need to have len(guesses) == len(slips) == # of G/S classes.\n",
        "# Similarly, for multilearn models, you need len(forgets) == len(guesses)\n",
        "# corresponding to the number of learn classes.\n",
        "skill = 'Box and Whisker'\n",
        "\n",
        "model.coef_ = {skill: {'prior': 1e-40}}\n",
        "model.coef_"
      ],
      "execution_count": null,
      "outputs": [
        {
          "output_type": "execute_result",
          "data": {
            "text/plain": [
              "{'Box and Whisker': {'prior': 1e-40}}"
            ]
          },
          "metadata": {
            "tags": []
          },
          "execution_count": 26
        }
      ]
    },
    {
      "cell_type": "code",
      "metadata": {
        "id": "F_loFRlsyL7q",
        "colab": {
          "base_uri": "https://localhost:8080/"
        },
        "outputId": "16a72b24-f9e7-46cd-d039-df2370bf9961"
      },
      "source": [
        "# Train the model with the pre-initialized parameters.\n",
        "model.fit(data_path = 'as.csv', skills = skill, multigs = True)\n",
        "low_prior_auc = model.evaluate(data_path = 'as.csv', metric = 'auc')\n",
        "\n",
        "# We can obtain the prior value by indexing into the model.coef_\n",
        "# dictionary with the skill and parameter names. \n",
        "print(\"Fitted Prior Value: %f\" % model.coef_[skill]['prior'])\n",
        "print(\"Training AUC: %f\" % low_prior_auc)"
      ],
      "execution_count": null,
      "outputs": [
        {
          "output_type": "stream",
          "text": [
            "Fitted Prior Value: 0.000000\n",
            "Training AUC: 0.611076\n"
          ],
          "name": "stdout"
        }
      ]
    },
    {
      "cell_type": "code",
      "metadata": {
        "id": "xdGClHCLZuyr",
        "colab": {
          "base_uri": "https://localhost:8080/"
        },
        "outputId": "e065140e-f5b1-4443-c87e-af872e5700ba"
      },
      "source": [
        "# Initialize the prior to be more reasonable.\n",
        "model.coef_ = {skill: {'prior': 0.5}}\n",
        "model.fit(data_path = 'as.csv', skills = skill, multigs = True)\n",
        "normal_prior_auc = model.evaluate(data_path = 'as.csv', metric = 'auc')\n",
        "\n",
        "# Print the fitted prior value and RMSE.\n",
        "print(\"Fitted Prior Value: %f\" % model.coef_[skill]['prior'])\n",
        "print(\"Training AUC: %f\" % normal_prior_auc)"
      ],
      "execution_count": null,
      "outputs": [
        {
          "output_type": "stream",
          "text": [
            "Fitted Prior Value: 0.747623\n",
            "Training AUC: 0.643520\n"
          ],
          "name": "stdout"
        }
      ]
    },
    {
      "cell_type": "markdown",
      "metadata": {
        "id": "M7LEkoJXbQNf"
      },
      "source": [
        "We can visualize the parameters of our fitted model in a Pandas DataFrame once it has been fit. We can easily plot the learn, forget, guess, and slip rates for multilearn/forget and multiguess/slip models. "
      ]
    },
    {
      "cell_type": "code",
      "metadata": {
        "id": "17EUFVRSbigb",
        "colab": {
          "base_uri": "https://localhost:8080/",
          "height": 846
        },
        "outputId": "916e91ed-bc53-4422-8b59-1a71700836db"
      },
      "source": [
        "model.fit(data_path = 'as.csv', skills = skill,\n",
        "          forgets = True, multilearn = True, \n",
        "          multigs = True)\n",
        "model.params()"
      ],
      "execution_count": null,
      "outputs": [
        {
          "output_type": "execute_result",
          "data": {
            "text/html": [
              "<div>\n",
              "<style scoped>\n",
              "    .dataframe tbody tr th:only-of-type {\n",
              "        vertical-align: middle;\n",
              "    }\n",
              "\n",
              "    .dataframe tbody tr th {\n",
              "        vertical-align: top;\n",
              "    }\n",
              "\n",
              "    .dataframe thead th {\n",
              "        text-align: right;\n",
              "    }\n",
              "</style>\n",
              "<table border=\"1\" class=\"dataframe\">\n",
              "  <thead>\n",
              "    <tr style=\"text-align: right;\">\n",
              "      <th></th>\n",
              "      <th></th>\n",
              "      <th></th>\n",
              "      <th>value</th>\n",
              "    </tr>\n",
              "    <tr>\n",
              "      <th>skill</th>\n",
              "      <th>param</th>\n",
              "      <th>class</th>\n",
              "      <th></th>\n",
              "    </tr>\n",
              "  </thead>\n",
              "  <tbody>\n",
              "    <tr>\n",
              "      <th rowspan=\"25\" valign=\"top\">Box and Whisker</th>\n",
              "      <th>prior</th>\n",
              "      <th>default</th>\n",
              "      <td>0.65117</td>\n",
              "    </tr>\n",
              "    <tr>\n",
              "      <th rowspan=\"6\" valign=\"top\">learns</th>\n",
              "      <th>30059</th>\n",
              "      <td>0.34441</td>\n",
              "    </tr>\n",
              "    <tr>\n",
              "      <th>30060</th>\n",
              "      <td>0.09922</td>\n",
              "    </tr>\n",
              "    <tr>\n",
              "      <th>30799</th>\n",
              "      <td>0.36158</td>\n",
              "    </tr>\n",
              "    <tr>\n",
              "      <th>63446</th>\n",
              "      <td>0.00253</td>\n",
              "    </tr>\n",
              "    <tr>\n",
              "      <th>63447</th>\n",
              "      <td>0.21696</td>\n",
              "    </tr>\n",
              "    <tr>\n",
              "      <th>63448</th>\n",
              "      <td>0.14994</td>\n",
              "    </tr>\n",
              "    <tr>\n",
              "      <th rowspan=\"6\" valign=\"top\">guesses</th>\n",
              "      <th>30059</th>\n",
              "      <td>0.38968</td>\n",
              "    </tr>\n",
              "    <tr>\n",
              "      <th>30060</th>\n",
              "      <td>0.51943</td>\n",
              "    </tr>\n",
              "    <tr>\n",
              "      <th>30799</th>\n",
              "      <td>0.01284</td>\n",
              "    </tr>\n",
              "    <tr>\n",
              "      <th>63446</th>\n",
              "      <td>0.50579</td>\n",
              "    </tr>\n",
              "    <tr>\n",
              "      <th>63447</th>\n",
              "      <td>0.00007</td>\n",
              "    </tr>\n",
              "    <tr>\n",
              "      <th>63448</th>\n",
              "      <td>0.53070</td>\n",
              "    </tr>\n",
              "    <tr>\n",
              "      <th rowspan=\"6\" valign=\"top\">slips</th>\n",
              "      <th>30059</th>\n",
              "      <td>0.06858</td>\n",
              "    </tr>\n",
              "    <tr>\n",
              "      <th>30060</th>\n",
              "      <td>0.27694</td>\n",
              "    </tr>\n",
              "    <tr>\n",
              "      <th>30799</th>\n",
              "      <td>0.06797</td>\n",
              "    </tr>\n",
              "    <tr>\n",
              "      <th>63446</th>\n",
              "      <td>0.18020</td>\n",
              "    </tr>\n",
              "    <tr>\n",
              "      <th>63447</th>\n",
              "      <td>0.13073</td>\n",
              "    </tr>\n",
              "    <tr>\n",
              "      <th>63448</th>\n",
              "      <td>0.14436</td>\n",
              "    </tr>\n",
              "    <tr>\n",
              "      <th rowspan=\"6\" valign=\"top\">forgets</th>\n",
              "      <th>30059</th>\n",
              "      <td>0.00000</td>\n",
              "    </tr>\n",
              "    <tr>\n",
              "      <th>30060</th>\n",
              "      <td>0.03582</td>\n",
              "    </tr>\n",
              "    <tr>\n",
              "      <th>30799</th>\n",
              "      <td>0.00594</td>\n",
              "    </tr>\n",
              "    <tr>\n",
              "      <th>63446</th>\n",
              "      <td>0.02147</td>\n",
              "    </tr>\n",
              "    <tr>\n",
              "      <th>63447</th>\n",
              "      <td>0.05391</td>\n",
              "    </tr>\n",
              "    <tr>\n",
              "      <th>63448</th>\n",
              "      <td>0.00037</td>\n",
              "    </tr>\n",
              "  </tbody>\n",
              "</table>\n",
              "</div>"
            ],
            "text/plain": [
              "                                  value\n",
              "skill           param   class          \n",
              "Box and Whisker prior   default 0.65117\n",
              "                learns  30059   0.34441\n",
              "                        30060   0.09922\n",
              "                        30799   0.36158\n",
              "                        63446   0.00253\n",
              "                        63447   0.21696\n",
              "                        63448   0.14994\n",
              "                guesses 30059   0.38968\n",
              "                        30060   0.51943\n",
              "                        30799   0.01284\n",
              "                        63446   0.50579\n",
              "                        63447   0.00007\n",
              "                        63448   0.53070\n",
              "                slips   30059   0.06858\n",
              "                        30060   0.27694\n",
              "                        30799   0.06797\n",
              "                        63446   0.18020\n",
              "                        63447   0.13073\n",
              "                        63448   0.14436\n",
              "                forgets 30059   0.00000\n",
              "                        30060   0.03582\n",
              "                        30799   0.00594\n",
              "                        63446   0.02147\n",
              "                        63447   0.05391\n",
              "                        63448   0.00037"
            ]
          },
          "metadata": {
            "tags": []
          },
          "execution_count": 29
        }
      ]
    },
    {
      "cell_type": "code",
      "metadata": {
        "id": "U2h7-Z1ob-w-",
        "colab": {
          "base_uri": "https://localhost:8080/",
          "height": 404
        },
        "outputId": "684ff4df-a831-4d97-e369-852ba8ecff02"
      },
      "source": [
        "# We will get warnings for using indexing past lexsort. That's fine,\n",
        "# and we will disable these warnings.\n",
        "import warnings\n",
        "warnings.simplefilter(action='ignore')\n",
        "\n",
        "# Plot the learns, forgets, slips and guesses for each of the classes.\n",
        "params = model.params()\n",
        "plt.figure(figsize = (12, 6))\n",
        "plt.plot(params.loc[(skill, 'guesses')], label = 'Guesses')\n",
        "plt.plot(params.loc[(skill, 'learns')], label = 'Learns')\n",
        "plt.plot(params.loc[(skill, 'forgets')], label = 'Forgets')\n",
        "plt.plot(params.loc[(skill, 'slips')], label = 'Slips')\n",
        "plt.xlabel('Template ID')\n",
        "plt.ylabel('Rate')\n",
        "plt.title('BKT Parameters per Template ID Class')\n",
        "plt.legend();"
      ],
      "execution_count": null,
      "outputs": [
        {
          "output_type": "display_data",
          "data": {
            "image/png": "[encoded data removed]",
            "text/plain": [
              "<Figure size 864x432 with 1 Axes>"
            ]
          },
          "metadata": {
            "tags": [],
            "needs_background": "light"
          }
        }
      ]
    },
    {
      "cell_type": "markdown",
      "metadata": {
        "id": "KjKaP64rdzyy"
      },
      "source": [
        "### Extended Data and Model Configuration\n",
        "\n",
        "Models can get excessively long, whether it's due to the number of model variants used, the number of folds/seed/metric for crossvalidation, data path length, etc.\n",
        "\n",
        "We create a configuration dictionary that describes all the parameters we will pass in. Note that this is not a pyBKT feature, but actually just a Python feature that not many realize is very powerful!"
      ]
    },
    {
      "cell_type": "code",
      "metadata": {
        "id": "5zN9mVmAzHcH",
        "colab": {
          "base_uri": "https://localhost:8080/",
          "height": 141
        },
        "outputId": "5ddf9a0c-5edf-42d4-a074-dd10b0409795"
      },
      "source": [
        "config = {'multigs': True,\n",
        "          'multilearn': True,\n",
        "          'skills': ['Box and Whisker', 'Circle Graph'],\n",
        "          'forgets': True,\n",
        "          'metric': 'accuracy',\n",
        "          'folds': 4,\n",
        "          'seed': 42 * 42}\n",
        "model.crossvalidate(data_path = 'as.csv', **config)"
      ],
      "execution_count": null,
      "outputs": [
        {
          "output_type": "execute_result",
          "data": {
            "text/html": [
              "<div>\n",
              "<style scoped>\n",
              "    .dataframe tbody tr th:only-of-type {\n",
              "        vertical-align: middle;\n",
              "    }\n",
              "\n",
              "    .dataframe tbody tr th {\n",
              "        vertical-align: top;\n",
              "    }\n",
              "\n",
              "    .dataframe thead th {\n",
              "        text-align: right;\n",
              "    }\n",
              "</style>\n",
              "<table border=\"1\" class=\"dataframe\">\n",
              "  <thead>\n",
              "    <tr style=\"text-align: right;\">\n",
              "      <th></th>\n",
              "      <th>accuracy</th>\n",
              "    </tr>\n",
              "    <tr>\n",
              "      <th>skill</th>\n",
              "      <th></th>\n",
              "    </tr>\n",
              "  </thead>\n",
              "  <tbody>\n",
              "    <tr>\n",
              "      <th>Circle Graph</th>\n",
              "      <td>0.68536</td>\n",
              "    </tr>\n",
              "    <tr>\n",
              "      <th>Box and Whisker</th>\n",
              "      <td>0.76240</td>\n",
              "    </tr>\n",
              "  </tbody>\n",
              "</table>\n",
              "</div>"
            ],
            "text/plain": [
              "                 accuracy\n",
              "skill                    \n",
              "Circle Graph      0.68536\n",
              "Box and Whisker   0.76240"
            ]
          },
          "metadata": {
            "tags": []
          },
          "execution_count": 31
        }
      ]
    },
    {
      "cell_type": "markdown",
      "metadata": {
        "id": "8-jO3q1DeoIS"
      },
      "source": [
        "For other non-Assistments/CogTutor style datasets, we will need to specify the\n",
        "columns corresponding to each required column (i.e. the user ID, correct/incorrect). This is because pyBKT only supports the automatic inference of column names for the AS/CT datasets.\n",
        "\n",
        "For that, we use a defaults dictionary or specify parameters for each model variant."
      ]
    },
    {
      "cell_type": "code",
      "metadata": {
        "id": "_gSIMrsEGKFK",
        "colab": {
          "base_uri": "https://localhost:8080/"
        },
        "outputId": "3a1780cf-3f17-4b09-9f8b-2a59d31ee20b"
      },
      "source": [
        "# Note that this means that the order_id specified by the column named\n",
        "# custom_order in our custom dataset, the skill_name is specified by the \n",
        "# custom_skill column in our custom dataset, and so on.\n",
        "defaults = {'order_id': 'custom_order', \n",
        "            'skill_name': 'custom_skill', \n",
        "            'correct': 'custom_answer'}\n",
        "\n",
        "# This defaults dictionary can also contain columns specifying\n",
        "# what columns correspond to the desired guess/slip classes, etc.\n",
        "defaults['multigs'] = 'custom_gs_classes'\n",
        "\n",
        "# Our final column mapping is:\n",
        "defaults"
      ],
      "execution_count": null,
      "outputs": [
        {
          "output_type": "execute_result",
          "data": {
            "text/plain": [
              "{'correct': 'custom_answer',\n",
              " 'multigs': 'custom_gs_classes',\n",
              " 'order_id': 'custom_order',\n",
              " 'skill_name': 'custom_skill'}"
            ]
          },
          "metadata": {
            "tags": []
          },
          "execution_count": 32
        }
      ]
    },
    {
      "cell_type": "code",
      "metadata": {
        "id": "329sl4izH9RE",
        "colab": {
          "base_uri": "https://localhost:8080/",
          "height": 202
        },
        "outputId": "cd6873f4-6853-4d70-822b-c4448433f880"
      },
      "source": [
        "# We'll use this mapping with the modified CogTutor dataset with the names\n",
        "# we chose for the columns.\n",
        "#\n",
        "# Note that Row is the order ID (order_id), KC(Default) is the \n",
        "# skill name (skill_name), Correct First Attempt is correct, and \n",
        "# Problem Name is the corresponding guess/slip class column.\n",
        "\n",
        "columns = ['Row', 'Anon Student Id', 'KC(Default)', \n",
        "           'Correct First Attempt', 'Problem Name']\n",
        "my_df = ct_df[columns]\n",
        "my_df.columns = ['custom_order', 'Anon Student Id',\n",
        "                 'custom_skill', 'custom_answer',\n",
        "                 'custom_gs_classes']\n",
        "my_df['custom_skill'] += ' (Custom)'\n",
        "my_df.head(5)"
      ],
      "execution_count": null,
      "outputs": [
        {
          "output_type": "execute_result",
          "data": {
            "text/html": [
              "<div>\n",
              "<style scoped>\n",
              "    .dataframe tbody tr th:only-of-type {\n",
              "        vertical-align: middle;\n",
              "    }\n",
              "\n",
              "    .dataframe tbody tr th {\n",
              "        vertical-align: top;\n",
              "    }\n",
              "\n",
              "    .dataframe thead th {\n",
              "        text-align: right;\n",
              "    }\n",
              "</style>\n",
              "<table border=\"1\" class=\"dataframe\">\n",
              "  <thead>\n",
              "    <tr style=\"text-align: right;\">\n",
              "      <th></th>\n",
              "      <th>custom_order</th>\n",
              "      <th>Anon Student Id</th>\n",
              "      <th>custom_skill</th>\n",
              "      <th>custom_answer</th>\n",
              "      <th>custom_gs_classes</th>\n",
              "    </tr>\n",
              "  </thead>\n",
              "  <tbody>\n",
              "    <tr>\n",
              "      <th>773</th>\n",
              "      <td>112149</td>\n",
              "      <td>0I891Gg</td>\n",
              "      <td>Plot non-terminating improper fraction (Custom)</td>\n",
              "      <td>0</td>\n",
              "      <td>RATIONAL1-014</td>\n",
              "    </tr>\n",
              "    <tr>\n",
              "      <th>774</th>\n",
              "      <td>112151</td>\n",
              "      <td>0I891Gg</td>\n",
              "      <td>Plot imperfect radical (Custom)</td>\n",
              "      <td>0</td>\n",
              "      <td>RATIONAL1-041</td>\n",
              "    </tr>\n",
              "    <tr>\n",
              "      <th>775</th>\n",
              "      <td>112156</td>\n",
              "      <td>0I891Gg</td>\n",
              "      <td>Plot terminating proper fraction (Custom)</td>\n",
              "      <td>0</td>\n",
              "      <td>RATIONAL1-104</td>\n",
              "    </tr>\n",
              "    <tr>\n",
              "      <th>776</th>\n",
              "      <td>112157</td>\n",
              "      <td>0I891Gg</td>\n",
              "      <td>Plot pi (Custom)</td>\n",
              "      <td>1</td>\n",
              "      <td>RATIONAL1-122</td>\n",
              "    </tr>\n",
              "    <tr>\n",
              "      <th>777</th>\n",
              "      <td>112159</td>\n",
              "      <td>0I891Gg</td>\n",
              "      <td>Plot terminating proper fraction (Custom)</td>\n",
              "      <td>1</td>\n",
              "      <td>RATIONAL1-180</td>\n",
              "    </tr>\n",
              "  </tbody>\n",
              "</table>\n",
              "</div>"
            ],
            "text/plain": [
              "     custom_order Anon Student Id  ... custom_answer  custom_gs_classes\n",
              "773        112149         0I891Gg  ...             0      RATIONAL1-014\n",
              "774        112151         0I891Gg  ...             0      RATIONAL1-041\n",
              "775        112156         0I891Gg  ...             0      RATIONAL1-104\n",
              "776        112157         0I891Gg  ...             1      RATIONAL1-122\n",
              "777        112159         0I891Gg  ...             1      RATIONAL1-180\n",
              "\n",
              "[5 rows x 5 columns]"
            ]
          },
          "metadata": {
            "tags": []
          },
          "execution_count": 33
        }
      ]
    },
    {
      "cell_type": "code",
      "metadata": {
        "id": "mjD0bbpVIUIu",
        "colab": {
          "base_uri": "https://localhost:8080/",
          "height": 447
        },
        "outputId": "48297a79-0eeb-407b-b3ca-fc565ba8beb7"
      },
      "source": [
        "# We can crossvalidate/fit given these default column mappings.\n",
        "model.crossvalidate(data = my_df, metric = 'auc',\n",
        "                    defaults = defaults)"
      ],
      "execution_count": null,
      "outputs": [
        {
          "output_type": "execute_result",
          "data": {
            "text/html": [
              "<div>\n",
              "<style scoped>\n",
              "    .dataframe tbody tr th:only-of-type {\n",
              "        vertical-align: middle;\n",
              "    }\n",
              "\n",
              "    .dataframe tbody tr th {\n",
              "        vertical-align: top;\n",
              "    }\n",
              "\n",
              "    .dataframe thead th {\n",
              "        text-align: right;\n",
              "    }\n",
              "</style>\n",
              "<table border=\"1\" class=\"dataframe\">\n",
              "  <thead>\n",
              "    <tr style=\"text-align: right;\">\n",
              "      <th></th>\n",
              "      <th>auc</th>\n",
              "    </tr>\n",
              "    <tr>\n",
              "      <th>skill</th>\n",
              "      <th></th>\n",
              "    </tr>\n",
              "  </thead>\n",
              "  <tbody>\n",
              "    <tr>\n",
              "      <th>Plot non-terminating improper fraction (Custom)</th>\n",
              "      <td>0.64856</td>\n",
              "    </tr>\n",
              "    <tr>\n",
              "      <th>Plot imperfect radical (Custom)</th>\n",
              "      <td>0.64157</td>\n",
              "    </tr>\n",
              "    <tr>\n",
              "      <th>Plot terminating proper fraction (Custom)</th>\n",
              "      <td>0.56842</td>\n",
              "    </tr>\n",
              "    <tr>\n",
              "      <th>Plot pi (Custom)</th>\n",
              "      <td>0.57536</td>\n",
              "    </tr>\n",
              "    <tr>\n",
              "      <th>Plot whole number (Custom)</th>\n",
              "      <td>0.53885</td>\n",
              "    </tr>\n",
              "    <tr>\n",
              "      <th>Plot decimal - thousandths (Custom)</th>\n",
              "      <td>0.62655</td>\n",
              "    </tr>\n",
              "    <tr>\n",
              "      <th>Calculate unit rate (Custom)</th>\n",
              "      <td>0.60277</td>\n",
              "    </tr>\n",
              "    <tr>\n",
              "      <th>Calculate part in proportion with fractions (Custom)</th>\n",
              "      <td>0.67047</td>\n",
              "    </tr>\n",
              "    <tr>\n",
              "      <th>Calculate total in proportion with fractions (Custom)</th>\n",
              "      <td>0.70902</td>\n",
              "    </tr>\n",
              "    <tr>\n",
              "      <th>Finding the intersection, Mixed (Custom)</th>\n",
              "      <td>0.56825</td>\n",
              "    </tr>\n",
              "    <tr>\n",
              "      <th>Finding the intersection, GLF (Custom)</th>\n",
              "      <td>0.62736</td>\n",
              "    </tr>\n",
              "    <tr>\n",
              "      <th>Finding the intersection, SIF (Custom)</th>\n",
              "      <td>0.56696</td>\n",
              "    </tr>\n",
              "  </tbody>\n",
              "</table>\n",
              "</div>"
            ],
            "text/plain": [
              "                                                       auc\n",
              "skill                                                     \n",
              "Plot non-terminating improper fraction (Custom)    0.64856\n",
              "Plot imperfect radical (Custom)                    0.64157\n",
              "Plot terminating proper fraction (Custom)          0.56842\n",
              "Plot pi (Custom)                                   0.57536\n",
              "Plot whole number (Custom)                         0.53885\n",
              "Plot decimal - thousandths (Custom)                0.62655\n",
              "Calculate unit rate (Custom)                       0.60277\n",
              "Calculate part in proportion with fractions (Cu... 0.67047\n",
              "Calculate total in proportion with fractions (C... 0.70902\n",
              "Finding the intersection, Mixed (Custom)           0.56825\n",
              "Finding the intersection, GLF (Custom)             0.62736\n",
              "Finding the intersection, SIF (Custom)             0.56696"
            ]
          },
          "metadata": {
            "tags": []
          },
          "execution_count": 34
        }
      ]
    },
    {
      "cell_type": "markdown",
      "metadata": {
        "id": "FlNY_s5ThMrm"
      },
      "source": [
        "### Exploratory Questions"
      ]
    },
    {
      "cell_type": "markdown",
      "metadata": {
        "id": "EIi5UQJ8XQXu"
      },
      "source": [
        "#### Question 1:\n",
        "\n",
        "Does response time have an effect on the learn rate?\n",
        "Does discretized response time as a learn class improve the RMSE of the model compared to the normal `template_id` based multilearn and multiguess/slip models?\n",
        "\n",
        "Experiment with different discrete response time bins. You may want to start with defining learn classes according to response times less than 10 seconds and greater than 10 seconds.\n",
        "\n",
        "*Hint:* How can you use floor division to create your learn classes? `df.map(dict)` can help map values to other values as given in `dict`."
      ]
    },
    {
      "cell_type": "code",
      "metadata": {
        "id": "wC2odG8kcjOa"
      },
      "source": [
        "custom_df = as_df.copy()"
      ],
      "execution_count": null,
      "outputs": []
    },
    {
      "cell_type": "code",
      "metadata": {
        "id": "Dm4ymrmSdyH6"
      },
      "source": [
        "custom_df['response_time'] = np.where(custom_df['ms_first_response'] < 10000, '(Fast)', '(Slow)')\n",
        "# custom_df['skill_name'] = custom_df['skill_name']+' '+custom_df['response_time']"
      ],
      "execution_count": null,
      "outputs": []
    },
    {
      "cell_type": "code",
      "metadata": {
        "colab": {
          "base_uri": "https://localhost:8080/",
          "height": 747
        },
        "id": "XZ5XdcsYe1Xk",
        "outputId": "b3ceb469-7073-4c39-ced4-7f17729a5801"
      },
      "source": [
        "custom_df"
      ],
      "execution_count": null,
      "outputs": [
        {
          "output_type": "execute_result",
          "data": {
            "text/html": [
              "<div>\n",
              "<style scoped>\n",
              "    .dataframe tbody tr th:only-of-type {\n",
              "        vertical-align: middle;\n",
              "    }\n",
              "\n",
              "    .dataframe tbody tr th {\n",
              "        vertical-align: top;\n",
              "    }\n",
              "\n",
              "    .dataframe thead th {\n",
              "        text-align: right;\n",
              "    }\n",
              "</style>\n",
              "<table border=\"1\" class=\"dataframe\">\n",
              "  <thead>\n",
              "    <tr style=\"text-align: right;\">\n",
              "      <th></th>\n",
              "      <th>order_id</th>\n",
              "      <th>assignment_id</th>\n",
              "      <th>user_id</th>\n",
              "      <th>assistment_id</th>\n",
              "      <th>problem_id</th>\n",
              "      <th>original</th>\n",
              "      <th>correct</th>\n",
              "      <th>attempt_count</th>\n",
              "      <th>ms_first_response</th>\n",
              "      <th>tutor_mode</th>\n",
              "      <th>answer_type</th>\n",
              "      <th>sequence_id</th>\n",
              "      <th>student_class_id</th>\n",
              "      <th>position</th>\n",
              "      <th>type</th>\n",
              "      <th>base_sequence_id</th>\n",
              "      <th>skill_id</th>\n",
              "      <th>skill_name</th>\n",
              "      <th>teacher_id</th>\n",
              "      <th>school_id</th>\n",
              "      <th>hint_count</th>\n",
              "      <th>hint_total</th>\n",
              "      <th>overlap_time</th>\n",
              "      <th>template_id</th>\n",
              "      <th>answer_id</th>\n",
              "      <th>answer_text</th>\n",
              "      <th>first_action</th>\n",
              "      <th>bottom_hint</th>\n",
              "      <th>opportunity</th>\n",
              "      <th>opportunity_original</th>\n",
              "      <th>Fast_responce</th>\n",
              "    </tr>\n",
              "  </thead>\n",
              "  <tbody>\n",
              "    <tr>\n",
              "      <th>3957</th>\n",
              "      <td>21617623</td>\n",
              "      <td>263599</td>\n",
              "      <td>14</td>\n",
              "      <td>53412</td>\n",
              "      <td>93383</td>\n",
              "      <td>1</td>\n",
              "      <td>0</td>\n",
              "      <td>1</td>\n",
              "      <td>26271</td>\n",
              "      <td>tutor</td>\n",
              "      <td>algebra</td>\n",
              "      <td>7118</td>\n",
              "      <td>12495</td>\n",
              "      <td>1</td>\n",
              "      <td>MasterySection</td>\n",
              "      <td>7118</td>\n",
              "      <td>2.00000</td>\n",
              "      <td>Circle Graph (Slow)</td>\n",
              "      <td>42972</td>\n",
              "      <td>1</td>\n",
              "      <td>2</td>\n",
              "      <td>2</td>\n",
              "      <td>41131</td>\n",
              "      <td>52570</td>\n",
              "      <td>nan</td>\n",
              "      <td>NaN</td>\n",
              "      <td>1</td>\n",
              "      <td>1.00000</td>\n",
              "      <td>1</td>\n",
              "      <td>1.00000</td>\n",
              "      <td>(Slow)</td>\n",
              "    </tr>\n",
              "    <tr>\n",
              "      <th>172411</th>\n",
              "      <td>21617623</td>\n",
              "      <td>263599</td>\n",
              "      <td>14</td>\n",
              "      <td>53412</td>\n",
              "      <td>93383</td>\n",
              "      <td>1</td>\n",
              "      <td>0</td>\n",
              "      <td>1</td>\n",
              "      <td>26271</td>\n",
              "      <td>tutor</td>\n",
              "      <td>algebra</td>\n",
              "      <td>7118</td>\n",
              "      <td>12495</td>\n",
              "      <td>1</td>\n",
              "      <td>MasterySection</td>\n",
              "      <td>7118</td>\n",
              "      <td>70.00000</td>\n",
              "      <td>Percent Of (Slow)</td>\n",
              "      <td>42972</td>\n",
              "      <td>1</td>\n",
              "      <td>2</td>\n",
              "      <td>2</td>\n",
              "      <td>41131</td>\n",
              "      <td>52570</td>\n",
              "      <td>nan</td>\n",
              "      <td>NaN</td>\n",
              "      <td>1</td>\n",
              "      <td>1.00000</td>\n",
              "      <td>1</td>\n",
              "      <td>1.00000</td>\n",
              "      <td>(Slow)</td>\n",
              "    </tr>\n",
              "    <tr>\n",
              "      <th>94047</th>\n",
              "      <td>21617623</td>\n",
              "      <td>263599</td>\n",
              "      <td>14</td>\n",
              "      <td>53412</td>\n",
              "      <td>93383</td>\n",
              "      <td>1</td>\n",
              "      <td>0</td>\n",
              "      <td>1</td>\n",
              "      <td>26271</td>\n",
              "      <td>tutor</td>\n",
              "      <td>algebra</td>\n",
              "      <td>7118</td>\n",
              "      <td>12495</td>\n",
              "      <td>1</td>\n",
              "      <td>MasterySection</td>\n",
              "      <td>7118</td>\n",
              "      <td>37.00000</td>\n",
              "      <td>NaN</td>\n",
              "      <td>42972</td>\n",
              "      <td>1</td>\n",
              "      <td>2</td>\n",
              "      <td>2</td>\n",
              "      <td>41131</td>\n",
              "      <td>52570</td>\n",
              "      <td>nan</td>\n",
              "      <td>NaN</td>\n",
              "      <td>1</td>\n",
              "      <td>1.00000</td>\n",
              "      <td>1</td>\n",
              "      <td>1.00000</td>\n",
              "      <td>(Slow)</td>\n",
              "    </tr>\n",
              "    <tr>\n",
              "      <th>172412</th>\n",
              "      <td>21617632</td>\n",
              "      <td>263599</td>\n",
              "      <td>14</td>\n",
              "      <td>53436</td>\n",
              "      <td>93407</td>\n",
              "      <td>1</td>\n",
              "      <td>1</td>\n",
              "      <td>1</td>\n",
              "      <td>29123</td>\n",
              "      <td>tutor</td>\n",
              "      <td>algebra</td>\n",
              "      <td>7118</td>\n",
              "      <td>12495</td>\n",
              "      <td>1</td>\n",
              "      <td>MasterySection</td>\n",
              "      <td>7118</td>\n",
              "      <td>70.00000</td>\n",
              "      <td>Percent Of (Slow)</td>\n",
              "      <td>42972</td>\n",
              "      <td>1</td>\n",
              "      <td>0</td>\n",
              "      <td>2</td>\n",
              "      <td>29123</td>\n",
              "      <td>52570</td>\n",
              "      <td>nan</td>\n",
              "      <td>82.8</td>\n",
              "      <td>0</td>\n",
              "      <td>nan</td>\n",
              "      <td>2</td>\n",
              "      <td>2.00000</td>\n",
              "      <td>(Slow)</td>\n",
              "    </tr>\n",
              "    <tr>\n",
              "      <th>94048</th>\n",
              "      <td>21617632</td>\n",
              "      <td>263599</td>\n",
              "      <td>14</td>\n",
              "      <td>53436</td>\n",
              "      <td>93407</td>\n",
              "      <td>1</td>\n",
              "      <td>1</td>\n",
              "      <td>1</td>\n",
              "      <td>29123</td>\n",
              "      <td>tutor</td>\n",
              "      <td>algebra</td>\n",
              "      <td>7118</td>\n",
              "      <td>12495</td>\n",
              "      <td>1</td>\n",
              "      <td>MasterySection</td>\n",
              "      <td>7118</td>\n",
              "      <td>37.00000</td>\n",
              "      <td>NaN</td>\n",
              "      <td>42972</td>\n",
              "      <td>1</td>\n",
              "      <td>0</td>\n",
              "      <td>2</td>\n",
              "      <td>29123</td>\n",
              "      <td>52570</td>\n",
              "      <td>nan</td>\n",
              "      <td>82.8</td>\n",
              "      <td>0</td>\n",
              "      <td>nan</td>\n",
              "      <td>2</td>\n",
              "      <td>2.00000</td>\n",
              "      <td>(Slow)</td>\n",
              "    </tr>\n",
              "    <tr>\n",
              "      <th>...</th>\n",
              "      <td>...</td>\n",
              "      <td>...</td>\n",
              "      <td>...</td>\n",
              "      <td>...</td>\n",
              "      <td>...</td>\n",
              "      <td>...</td>\n",
              "      <td>...</td>\n",
              "      <td>...</td>\n",
              "      <td>...</td>\n",
              "      <td>...</td>\n",
              "      <td>...</td>\n",
              "      <td>...</td>\n",
              "      <td>...</td>\n",
              "      <td>...</td>\n",
              "      <td>...</td>\n",
              "      <td>...</td>\n",
              "      <td>...</td>\n",
              "      <td>...</td>\n",
              "      <td>...</td>\n",
              "      <td>...</td>\n",
              "      <td>...</td>\n",
              "      <td>...</td>\n",
              "      <td>...</td>\n",
              "      <td>...</td>\n",
              "      <td>...</td>\n",
              "      <td>...</td>\n",
              "      <td>...</td>\n",
              "      <td>...</td>\n",
              "      <td>...</td>\n",
              "      <td>...</td>\n",
              "      <td>...</td>\n",
              "    </tr>\n",
              "    <tr>\n",
              "      <th>157250</th>\n",
              "      <td>38214250</td>\n",
              "      <td>291501</td>\n",
              "      <td>96299</td>\n",
              "      <td>32147</td>\n",
              "      <td>49290</td>\n",
              "      <td>1</td>\n",
              "      <td>1</td>\n",
              "      <td>1</td>\n",
              "      <td>20281</td>\n",
              "      <td>tutor</td>\n",
              "      <td>fill_in_1</td>\n",
              "      <td>5924</td>\n",
              "      <td>14415</td>\n",
              "      <td>8</td>\n",
              "      <td>MasterySection</td>\n",
              "      <td>5924</td>\n",
              "      <td>58.00000</td>\n",
              "      <td>Addition Whole Numbers (Slow)</td>\n",
              "      <td>69274</td>\n",
              "      <td>2770</td>\n",
              "      <td>0</td>\n",
              "      <td>4</td>\n",
              "      <td>20281</td>\n",
              "      <td>30336</td>\n",
              "      <td>nan</td>\n",
              "      <td>182</td>\n",
              "      <td>0</td>\n",
              "      <td>nan</td>\n",
              "      <td>1</td>\n",
              "      <td>1.00000</td>\n",
              "      <td>(Slow)</td>\n",
              "    </tr>\n",
              "    <tr>\n",
              "      <th>157251</th>\n",
              "      <td>38214251</td>\n",
              "      <td>291501</td>\n",
              "      <td>96299</td>\n",
              "      <td>32141</td>\n",
              "      <td>49284</td>\n",
              "      <td>1</td>\n",
              "      <td>1</td>\n",
              "      <td>1</td>\n",
              "      <td>24313</td>\n",
              "      <td>tutor</td>\n",
              "      <td>fill_in_1</td>\n",
              "      <td>5924</td>\n",
              "      <td>14415</td>\n",
              "      <td>8</td>\n",
              "      <td>MasterySection</td>\n",
              "      <td>5924</td>\n",
              "      <td>58.00000</td>\n",
              "      <td>Addition Whole Numbers (Slow)</td>\n",
              "      <td>69274</td>\n",
              "      <td>2770</td>\n",
              "      <td>0</td>\n",
              "      <td>4</td>\n",
              "      <td>24313</td>\n",
              "      <td>30336</td>\n",
              "      <td>nan</td>\n",
              "      <td>196</td>\n",
              "      <td>0</td>\n",
              "      <td>nan</td>\n",
              "      <td>2</td>\n",
              "      <td>2.00000</td>\n",
              "      <td>(Slow)</td>\n",
              "    </tr>\n",
              "    <tr>\n",
              "      <th>157252</th>\n",
              "      <td>38214252</td>\n",
              "      <td>291501</td>\n",
              "      <td>96299</td>\n",
              "      <td>32133</td>\n",
              "      <td>49276</td>\n",
              "      <td>1</td>\n",
              "      <td>1</td>\n",
              "      <td>1</td>\n",
              "      <td>46547</td>\n",
              "      <td>tutor</td>\n",
              "      <td>fill_in_1</td>\n",
              "      <td>5924</td>\n",
              "      <td>14415</td>\n",
              "      <td>8</td>\n",
              "      <td>MasterySection</td>\n",
              "      <td>5924</td>\n",
              "      <td>58.00000</td>\n",
              "      <td>Addition Whole Numbers (Slow)</td>\n",
              "      <td>69274</td>\n",
              "      <td>2770</td>\n",
              "      <td>0</td>\n",
              "      <td>4</td>\n",
              "      <td>46547</td>\n",
              "      <td>30336</td>\n",
              "      <td>nan</td>\n",
              "      <td>177</td>\n",
              "      <td>0</td>\n",
              "      <td>nan</td>\n",
              "      <td>3</td>\n",
              "      <td>3.00000</td>\n",
              "      <td>(Slow)</td>\n",
              "    </tr>\n",
              "    <tr>\n",
              "      <th>397273</th>\n",
              "      <td>38214256</td>\n",
              "      <td>291485</td>\n",
              "      <td>96299</td>\n",
              "      <td>32983</td>\n",
              "      <td>51180</td>\n",
              "      <td>1</td>\n",
              "      <td>1</td>\n",
              "      <td>1</td>\n",
              "      <td>39813</td>\n",
              "      <td>tutor</td>\n",
              "      <td>algebra</td>\n",
              "      <td>5946</td>\n",
              "      <td>14415</td>\n",
              "      <td>33</td>\n",
              "      <td>MasterySection</td>\n",
              "      <td>5946</td>\n",
              "      <td>309.00000</td>\n",
              "      <td>Order of Operations +,-,/,* () positive reals ...</td>\n",
              "      <td>69274</td>\n",
              "      <td>2770</td>\n",
              "      <td>0</td>\n",
              "      <td>3</td>\n",
              "      <td>39813</td>\n",
              "      <td>29981</td>\n",
              "      <td>nan</td>\n",
              "      <td>393</td>\n",
              "      <td>0</td>\n",
              "      <td>nan</td>\n",
              "      <td>2</td>\n",
              "      <td>2.00000</td>\n",
              "      <td>(Slow)</td>\n",
              "    </tr>\n",
              "    <tr>\n",
              "      <th>98650</th>\n",
              "      <td>38214257</td>\n",
              "      <td>291412</td>\n",
              "      <td>96299</td>\n",
              "      <td>42722</td>\n",
              "      <td>75679</td>\n",
              "      <td>1</td>\n",
              "      <td>1</td>\n",
              "      <td>1</td>\n",
              "      <td>17204</td>\n",
              "      <td>tutor</td>\n",
              "      <td>algebra</td>\n",
              "      <td>6183</td>\n",
              "      <td>14415</td>\n",
              "      <td>99</td>\n",
              "      <td>MasterySection</td>\n",
              "      <td>6183</td>\n",
              "      <td>39.00000</td>\n",
              "      <td>Area Circle (Slow)</td>\n",
              "      <td>69274</td>\n",
              "      <td>2770</td>\n",
              "      <td>0</td>\n",
              "      <td>4</td>\n",
              "      <td>17204</td>\n",
              "      <td>29936</td>\n",
              "      <td>nan</td>\n",
              "      <td>113.04</td>\n",
              "      <td>0</td>\n",
              "      <td>nan</td>\n",
              "      <td>2</td>\n",
              "      <td>2.00000</td>\n",
              "      <td>(Slow)</td>\n",
              "    </tr>\n",
              "  </tbody>\n",
              "</table>\n",
              "<p>525534 rows × 31 columns</p>\n",
              "</div>"
            ],
            "text/plain": [
              "        order_id  assignment_id  ...  opportunity_original  Fast_responce\n",
              "3957    21617623         263599  ...               1.00000         (Slow)\n",
              "172411  21617623         263599  ...               1.00000         (Slow)\n",
              "94047   21617623         263599  ...               1.00000         (Slow)\n",
              "172412  21617632         263599  ...               2.00000         (Slow)\n",
              "94048   21617632         263599  ...               2.00000         (Slow)\n",
              "...          ...            ...  ...                   ...            ...\n",
              "157250  38214250         291501  ...               1.00000         (Slow)\n",
              "157251  38214251         291501  ...               2.00000         (Slow)\n",
              "157252  38214252         291501  ...               3.00000         (Slow)\n",
              "397273  38214256         291485  ...               2.00000         (Slow)\n",
              "98650   38214257         291412  ...               2.00000         (Slow)\n",
              "\n",
              "[525534 rows x 31 columns]"
            ]
          },
          "metadata": {
            "tags": []
          },
          "execution_count": 49
        }
      ]
    },
    {
      "cell_type": "code",
      "metadata": {
        "id": "vc28HymA2NHs",
        "colab": {
          "base_uri": "https://localhost:8080/",
          "height": 417
        },
        "outputId": "81433471-62c2-4507-b54e-7944d8020ef9"
      },
      "source": [
        "model = Model(seed = 42, num_fits = 1, parallel = True)\n",
        "\n",
        "################ YOUR CODE HERE ################\n",
        "\n",
        "config = {'multigs': True,\n",
        "          'multilearn': 'response_time',\n",
        "          'skills': \".*Graph.*\",\n",
        "          'forgets': True,\n",
        "          'metric': 'rmse',\n",
        "          'folds': 4,\n",
        "          'seed': 42 * 42}\n",
        "model.crossvalidate(data = custom_df, **config)\n",
        "\n",
        "################################################\n",
        "model.params()"
      ],
      "execution_count": null,
      "outputs": [
        {
          "output_type": "execute_result",
          "data": {
            "text/html": [
              "<div>\n",
              "<style scoped>\n",
              "    .dataframe tbody tr th:only-of-type {\n",
              "        vertical-align: middle;\n",
              "    }\n",
              "\n",
              "    .dataframe tbody tr th {\n",
              "        vertical-align: top;\n",
              "    }\n",
              "\n",
              "    .dataframe thead th {\n",
              "        text-align: right;\n",
              "    }\n",
              "</style>\n",
              "<table border=\"1\" class=\"dataframe\">\n",
              "  <thead>\n",
              "    <tr style=\"text-align: right;\">\n",
              "      <th></th>\n",
              "      <th></th>\n",
              "      <th></th>\n",
              "      <th>value</th>\n",
              "    </tr>\n",
              "    <tr>\n",
              "      <th>skill</th>\n",
              "      <th>param</th>\n",
              "      <th>class</th>\n",
              "      <th></th>\n",
              "    </tr>\n",
              "  </thead>\n",
              "  <tbody>\n",
              "    <tr>\n",
              "      <th rowspan=\"11\" valign=\"top\">Solving Systems of Linear Equations by Graphing</th>\n",
              "      <th>prior</th>\n",
              "      <th>default</th>\n",
              "      <td>0.75613</td>\n",
              "    </tr>\n",
              "    <tr>\n",
              "      <th rowspan=\"2\" valign=\"top\">learns</th>\n",
              "      <th>(Fast)</th>\n",
              "      <td>0.00000</td>\n",
              "    </tr>\n",
              "    <tr>\n",
              "      <th>(Slow)</th>\n",
              "      <td>0.00159</td>\n",
              "    </tr>\n",
              "    <tr>\n",
              "      <th rowspan=\"3\" valign=\"top\">guesses</th>\n",
              "      <th>59998</th>\n",
              "      <td>0.00000</td>\n",
              "    </tr>\n",
              "    <tr>\n",
              "      <th>60008</th>\n",
              "      <td>0.00000</td>\n",
              "    </tr>\n",
              "    <tr>\n",
              "      <th>60010</th>\n",
              "      <td>0.75443</td>\n",
              "    </tr>\n",
              "    <tr>\n",
              "      <th rowspan=\"3\" valign=\"top\">slips</th>\n",
              "      <th>59998</th>\n",
              "      <td>0.62937</td>\n",
              "    </tr>\n",
              "    <tr>\n",
              "      <th>60008</th>\n",
              "      <td>0.66006</td>\n",
              "    </tr>\n",
              "    <tr>\n",
              "      <th>60010</th>\n",
              "      <td>0.04209</td>\n",
              "    </tr>\n",
              "    <tr>\n",
              "      <th rowspan=\"2\" valign=\"top\">forgets</th>\n",
              "      <th>(Fast)</th>\n",
              "      <td>0.00000</td>\n",
              "    </tr>\n",
              "    <tr>\n",
              "      <th>(Slow)</th>\n",
              "      <td>0.02217</td>\n",
              "    </tr>\n",
              "  </tbody>\n",
              "</table>\n",
              "</div>"
            ],
            "text/plain": [
              "                                                                  value\n",
              "skill                                           param   class          \n",
              "Solving Systems of Linear Equations by Graphing prior   default 0.75613\n",
              "                                                learns  (Fast)  0.00000\n",
              "                                                        (Slow)  0.00159\n",
              "                                                guesses 59998   0.00000\n",
              "                                                        60008   0.00000\n",
              "                                                        60010   0.75443\n",
              "                                                slips   59998   0.62937\n",
              "                                                        60008   0.66006\n",
              "                                                        60010   0.04209\n",
              "                                                forgets (Fast)  0.00000\n",
              "                                                        (Slow)  0.02217"
            ]
          },
          "metadata": {
            "tags": []
          },
          "execution_count": 67
        }
      ]
    },
    {
      "cell_type": "code",
      "metadata": {
        "colab": {
          "base_uri": "https://localhost:8080/",
          "height": 233
        },
        "id": "zwTyt8HTkx0p",
        "outputId": "b8a61650-597f-4e74-9add-9241465a4615"
      },
      "source": [
        "model.crossvalidate(data = custom_df, **config)"
      ],
      "execution_count": null,
      "outputs": [
        {
          "output_type": "execute_result",
          "data": {
            "text/html": [
              "<div>\n",
              "<style scoped>\n",
              "    .dataframe tbody tr th:only-of-type {\n",
              "        vertical-align: middle;\n",
              "    }\n",
              "\n",
              "    .dataframe tbody tr th {\n",
              "        vertical-align: top;\n",
              "    }\n",
              "\n",
              "    .dataframe thead th {\n",
              "        text-align: right;\n",
              "    }\n",
              "</style>\n",
              "<table border=\"1\" class=\"dataframe\">\n",
              "  <thead>\n",
              "    <tr style=\"text-align: right;\">\n",
              "      <th></th>\n",
              "      <th>rmse</th>\n",
              "    </tr>\n",
              "    <tr>\n",
              "      <th>skill</th>\n",
              "      <th></th>\n",
              "    </tr>\n",
              "  </thead>\n",
              "  <tbody>\n",
              "    <tr>\n",
              "      <th>Circle Graph</th>\n",
              "      <td>0.45341</td>\n",
              "    </tr>\n",
              "    <tr>\n",
              "      <th>Interpreting Coordinate Graphs</th>\n",
              "      <td>0.58591</td>\n",
              "    </tr>\n",
              "    <tr>\n",
              "      <th>Histogram as Table or Graph</th>\n",
              "      <td>0.44193</td>\n",
              "    </tr>\n",
              "    <tr>\n",
              "      <th>Write Linear Equation from Graph</th>\n",
              "      <td>0.46876</td>\n",
              "    </tr>\n",
              "    <tr>\n",
              "      <th>Solving Systems of Linear Equations by Graphing</th>\n",
              "      <td>0.36482</td>\n",
              "    </tr>\n",
              "  </tbody>\n",
              "</table>\n",
              "</div>"
            ],
            "text/plain": [
              "                                                   rmse\n",
              "skill                                                  \n",
              "Circle Graph                                    0.45341\n",
              "Interpreting Coordinate Graphs                  0.58591\n",
              "Histogram as Table or Graph                     0.44193\n",
              "Write Linear Equation from Graph                0.46876\n",
              "Solving Systems of Linear Equations by Graphing 0.36482"
            ]
          },
          "metadata": {
            "tags": []
          },
          "execution_count": 68
        }
      ]
    },
    {
      "cell_type": "code",
      "metadata": {
        "colab": {
          "base_uri": "https://localhost:8080/",
          "height": 233
        },
        "id": "CRqIMvh8gmVf",
        "outputId": "a4f7c5b8-71ca-4a60-d087-2da1193915b3"
      },
      "source": [
        "config = {'multigs': True,\n",
        "          'multilearn': True,\n",
        "          'skills': \".*Graph.*\",\n",
        "          'forgets': True,\n",
        "          'metric': 'rmse',\n",
        "          'folds': 4,\n",
        "          'seed': 42 * 42}\n",
        "model.crossvalidate(data = as_df, **config)"
      ],
      "execution_count": null,
      "outputs": [
        {
          "output_type": "execute_result",
          "data": {
            "text/html": [
              "<div>\n",
              "<style scoped>\n",
              "    .dataframe tbody tr th:only-of-type {\n",
              "        vertical-align: middle;\n",
              "    }\n",
              "\n",
              "    .dataframe tbody tr th {\n",
              "        vertical-align: top;\n",
              "    }\n",
              "\n",
              "    .dataframe thead th {\n",
              "        text-align: right;\n",
              "    }\n",
              "</style>\n",
              "<table border=\"1\" class=\"dataframe\">\n",
              "  <thead>\n",
              "    <tr style=\"text-align: right;\">\n",
              "      <th></th>\n",
              "      <th>rmse</th>\n",
              "    </tr>\n",
              "    <tr>\n",
              "      <th>skill</th>\n",
              "      <th></th>\n",
              "    </tr>\n",
              "  </thead>\n",
              "  <tbody>\n",
              "    <tr>\n",
              "      <th>Circle Graph</th>\n",
              "      <td>0.45539</td>\n",
              "    </tr>\n",
              "    <tr>\n",
              "      <th>Interpreting Coordinate Graphs</th>\n",
              "      <td>0.58591</td>\n",
              "    </tr>\n",
              "    <tr>\n",
              "      <th>Histogram as Table or Graph</th>\n",
              "      <td>0.44855</td>\n",
              "    </tr>\n",
              "    <tr>\n",
              "      <th>Write Linear Equation from Graph</th>\n",
              "      <td>0.47499</td>\n",
              "    </tr>\n",
              "    <tr>\n",
              "      <th>Solving Systems of Linear Equations by Graphing</th>\n",
              "      <td>0.37436</td>\n",
              "    </tr>\n",
              "  </tbody>\n",
              "</table>\n",
              "</div>"
            ],
            "text/plain": [
              "                                                   rmse\n",
              "skill                                                  \n",
              "Circle Graph                                    0.45539\n",
              "Interpreting Coordinate Graphs                  0.58591\n",
              "Histogram as Table or Graph                     0.44855\n",
              "Write Linear Equation from Graph                0.47499\n",
              "Solving Systems of Linear Equations by Graphing 0.37436"
            ]
          },
          "metadata": {
            "tags": []
          },
          "execution_count": 69
        }
      ]
    },
    {
      "cell_type": "code",
      "metadata": {
        "id": "2taT7EUliqWI"
      },
      "source": [
        ""
      ],
      "execution_count": null,
      "outputs": []
    },
    {
      "cell_type": "markdown",
      "metadata": {
        "id": "WBVD8Vm4YOkE"
      },
      "source": [
        "#### Question 2:\n",
        "\n",
        "Which custom columns work the best for the multilearn BKT model for the skills listed below in `ct.csv`? Which are the worst performing? Evaluate using the AUC and use the basic BKT model as a baseline."
      ]
    },
    {
      "cell_type": "code",
      "metadata": {
        "id": "cJ-4Vk3pWdvU"
      },
      "source": [
        "skills = ['Calculate unit rate',\n",
        "          'Calculate part in proportion with fractions']\n",
        "column_names = [\"Anon Student Id\", \"Problem Hierarchy\", \"Problem Name\", \n",
        "                \"Problem View\", \"Step Name\", \"Correct First Attempt\", \n",
        "                \"Incorrects\", \"Hints\", \"Opportunity(Default)\"]\n",
        "model = Model(seed = 42, num_fits = 1)\n",
        "\n",
        "################ YOUR CODE HERE ################\n",
        "\n",
        "\n",
        "\n",
        "\n",
        "################################################"
      ],
      "execution_count": null,
      "outputs": []
    },
    {
      "cell_type": "markdown",
      "metadata": {
        "id": "w-ZZOoi8QInc"
      },
      "source": [
        "#### Question 3:\n",
        "\n",
        "Fit a multiguess/slip model to 2 skills of your choice. Create a visualization of their guess parameters for each skill. What are the differences in their distribution?\n",
        "\n",
        "A preliminary suggestion for 2 skills to compare are `Calculate unit rate` and `Calculate part in proportion with fractions` since they contain the most unique values of `template_id`."
      ]
    },
    {
      "cell_type": "code",
      "metadata": {
        "id": "YSCPHiTgQT_L"
      },
      "source": [
        "# We will get warnings for using indexing past lexsort. That's fine,\n",
        "# and we will disable these warnings.\n",
        "import warnings\n",
        "warnings.simplefilter(action='ignore')\n",
        "\n",
        "model = Model(seed = 42, num_fits = 1)\n",
        "fig, (ax1, ax2) = plt.subplots(1, 2, figsize = (24, 6))\n",
        "\n",
        "################ YOUR CODE HERE ################\n",
        "\n",
        "# Make sure to plot the first figure to ax1 and the\n",
        "# second to ax2.\n",
        "skill1 = 'Calculate part in proportion with fractions'\n",
        "skill2 = 'Calculate unit rate'\n",
        "\n",
        "\n",
        "\n",
        "\n",
        "################################################\n"
      ],
      "execution_count": null,
      "outputs": []
    },
    {
      "cell_type": "markdown",
      "metadata": {
        "id": "vWUoDPqDg5QM"
      },
      "source": [
        "### Summary\n",
        "\n",
        "The following is a summary of most of the key features of BKT."
      ]
    },
    {
      "cell_type": "code",
      "metadata": {
        "id": "vZCxVD0zKhHh"
      },
      "source": [
        "# Let's summarize.\n",
        "def mae(true_vals, pred_vals):\n",
        "  \"\"\" Calculates the mean absolute error. \"\"\"\n",
        "  return np.mean(np.abs(true_vals - pred_vals))\n",
        "\n",
        "# This code fetches data, fits, predicts, evaluates and crossvalidates\n",
        "# a BKT model on all skills in Cognitive Tutor. It uses the mean absolute\n",
        "# error as the desired error metric.\n",
        "model = Model(seed = 42, num_fits = 5)\n",
        "model.fit(data_path = 'ct.csv')\n",
        "preds_df = model.predict(data_path = 'ct.csv')\n",
        "mae_error = model.evaluate(data_path = 'ct.csv', metric = mae)\n",
        "cv_errors = model.crossvalidate(data_path = 'ct.csv', metric = mae)\n",
        "params_df = model.params()\n",
        "print(\"Training MAE: %f\" % mae_error)\n",
        "cv_errors"
      ],
      "execution_count": null,
      "outputs": []
    }
  ]
}